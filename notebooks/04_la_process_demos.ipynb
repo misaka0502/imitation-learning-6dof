{
 "cells": [
  {
   "cell_type": "code",
   "execution_count": 1,
   "metadata": {},
   "outputs": [],
   "source": [
    "%load_ext autoreload\n",
    "%autoreload 2"
   ]
  },
  {
   "cell_type": "code",
   "execution_count": 2,
   "metadata": {},
   "outputs": [
    {
     "name": "stderr",
     "output_type": "stream",
     "text": [
      "/data/scratch/ankile/miniconda3/envs/rlgpu/lib/python3.8/site-packages/tqdm/auto.py:21: TqdmWarning: IProgress not found. Please update jupyter and ipywidgets. See https://ipywidgets.readthedocs.io/en/stable/user_install.html\n",
      "  from .autonotebook import tqdm as notebook_tqdm\n"
     ]
    }
   ],
   "source": [
    "import pickle\n",
    "from glob import glob\n",
    "import matplotlib.pyplot as plt\n",
    "from collections import Counter\n",
    "import torch\n",
    "import tarfile\n",
    "import os\n",
    "\n",
    "import numpy as np\n",
    "import zarr\n",
    "\n",
    "from tqdm import tqdm, trange\n",
    "\n",
    "\n",
    "from pathlib import Path\n",
    "from furniture_bench.robot.robot_state import filter_and_concat_robot_state\n",
    "from furniture_bench.perception.image_utils import resize_crop\n",
    "\n",
    "from vip import load_vip\n",
    "from r3m import load_r3m\n",
    "\n",
    "\n",
    "import itertools\n",
    "import math\n",
    "from ipdb import set_trace as st\n",
    "\n",
    "from src.models.vision import R3MEncoder"
   ]
  },
  {
   "cell_type": "code",
   "execution_count": 3,
   "metadata": {},
   "outputs": [],
   "source": [
    "root = Path(\"/home/larsankile/furniture-diffusion/data/\")\n",
    "randomness = \"low\"\n",
    "furniture = \"one_leg\"\n",
    "extension = \".tar.gz\"\n",
    "obs_type = \"image\"\n",
    "env_type = \"real\"\n",
    "filename = furniture + extension\n",
    "\n",
    "\n",
    "input_file = root / \"raw\" / env_type / obs_type / randomness / filename\n",
    "output_file = (\n",
    "    root / \"processed\" / env_type / obs_type / randomness / furniture / \"data.zarr\"\n",
    ")"
   ]
  },
  {
   "cell_type": "code",
   "execution_count": null,
   "metadata": {},
   "outputs": [],
   "source": [
    "max_samples = 200\n",
    "\n",
    "raw_data, n_samples = [], 0\n",
    "with tarfile.open(input_file, \"r:gz\") as tar:\n",
    "    for member in tqdm(tar, desc=f\"Extracting {furniture}\", total=max_samples):\n",
    "        if (\n",
    "            member.isfile() and \".pkl\" in member.name\n",
    "        ):  # Replace 'your_condition' with actual condition\n",
    "            with tar.extractfile(member) as f:\n",
    "                if f is not None:\n",
    "                    content = f.read()\n",
    "                    data = pickle.loads(content)\n",
    "                    raw_data.append(data)\n",
    "                    n_samples += 1\n",
    "\n",
    "                    if n_samples >= max_samples:\n",
    "                        break"
   ]
  },
  {
   "cell_type": "code",
   "execution_count": 5,
   "metadata": {},
   "outputs": [],
   "source": [
    "input_dir = Path(\"/home/larsankile/furniture-diffusion/data/raw/sim/full/one_leg/low\")\n",
    "output_file = Path(\n",
    "    \"/home/larsankile/furniture-diffusion/data/processed/sim/image/low/one_leg/data.zarr\"\n",
    ")"
   ]
  },
  {
   "cell_type": "code",
   "execution_count": 38,
   "metadata": {},
   "outputs": [
    {
     "name": "stderr",
     "output_type": "stream",
     "text": [
      "100%|██████████| 94/94 [00:03<00:00, 30.14it/s]\n"
     ]
    }
   ],
   "source": [
    "files = list(input_dir.rglob(\"**/*.pkl\"))\n",
    "\n",
    "raw_data = []\n",
    "\n",
    "for file in tqdm(files):\n",
    "    with open(file, \"rb\") as f:\n",
    "        data = pickle.load(f)\n",
    "        raw_data.append(data)"
   ]
  },
  {
   "cell_type": "markdown",
   "metadata": {},
   "source": [
    "## Extract features"
   ]
  },
  {
   "cell_type": "code",
   "execution_count": null,
   "metadata": {},
   "outputs": [],
   "source": [
    "vip = load_vip(device_id=1).module\n",
    "\n",
    "vip.device"
   ]
  },
  {
   "cell_type": "code",
   "execution_count": 3,
   "metadata": {},
   "outputs": [],
   "source": [
    "def get_features(img_batch, encoder):\n",
    "    with torch.no_grad():\n",
    "        img_tensor = torch.tensor(\n",
    "            img_batch, dtype=torch.float32, device=encoder.device\n",
    "        ).permute(0, 3, 1, 2)\n",
    "        features = encoder(img_tensor).cpu().numpy()\n",
    "    return features"
   ]
  },
  {
   "cell_type": "code",
   "execution_count": null,
   "metadata": {},
   "outputs": [],
   "source": [
    "batch_size = 256\n",
    "observations = []\n",
    "actions = []\n",
    "episode_ends = []\n",
    "\n",
    "end_index = 0\n",
    "\n",
    "for data in tqdm(raw_data):\n",
    "    img1_batch = []\n",
    "    img2_batch = []\n",
    "    for obs, action in zip(data[\"observations\"], data[\"actions\"]):\n",
    "        robot_state = filter_and_concat_robot_state(obs[\"robot_state\"])\n",
    "\n",
    "        img1_batch.append(obs[\"color_image1\"])\n",
    "        img2_batch.append(obs[\"color_image2\"])\n",
    "\n",
    "        actions.append(action)\n",
    "\n",
    "        if len(img1_batch) == batch_size:\n",
    "            img1_features = get_features(np.stack(img1_batch, axis=0))\n",
    "            img2_features = get_features(np.stack(img2_batch, axis=0))\n",
    "\n",
    "            for f1, f2 in zip(img1_features, img2_features):\n",
    "                observation = np.concatenate((robot_state, f1, f2))\n",
    "                observations.append(observation)\n",
    "\n",
    "            img1_batch = []\n",
    "            img2_batch = []\n",
    "\n",
    "        end_index += 1\n",
    "\n",
    "    # Handle any remaining images within each trajectory\n",
    "    if img1_batch:\n",
    "        img1_features = get_features(np.stack(img1_batch, axis=0))\n",
    "        img2_features = get_features(np.stack(img2_batch, axis=0))\n",
    "\n",
    "        for f1, f2 in zip(img1_features, img2_features):\n",
    "            observation = np.concatenate((robot_state, f1, f2))\n",
    "            observations.append(observation)\n",
    "\n",
    "    episode_ends.append(end_index)\n",
    "\n",
    "observations = np.array(observations)\n",
    "actions = np.array(actions)\n",
    "episode_ends = np.array(episode_ends)"
   ]
  },
  {
   "cell_type": "code",
   "execution_count": null,
   "metadata": {},
   "outputs": [],
   "source": [
    "zarr.save(\n",
    "    output_file,\n",
    "    observations=observations,\n",
    "    actions=actions,\n",
    "    episode_ends=episode_ends,\n",
    ")"
   ]
  },
  {
   "cell_type": "markdown",
   "metadata": {},
   "source": [
    "### Convert existing zarr image dataset to feature dataset"
   ]
  },
  {
   "cell_type": "code",
   "execution_count": 4,
   "metadata": {},
   "outputs": [],
   "source": [
    "input_file = Path(\n",
    "    \"/home/larsankile/furniture-diffusion/data/processed/sim/image/low/one_leg/data.zarr\"\n",
    ")\n",
    "output_file = Path(\n",
    "    \"/home/larsankile/furniture-diffusion/data/processed/sim/feature/dino/low/one_leg/data.zarr\"\n",
    ")\n",
    "\n",
    "data = zarr.open(input_file)"
   ]
  },
  {
   "cell_type": "code",
   "execution_count": 1,
   "metadata": {},
   "outputs": [
    {
     "ename": "NameError",
     "evalue": "name 'DinoEncoder' is not defined",
     "output_type": "error",
     "traceback": [
      "\u001b[0;31m---------------------------------------------------------------------------\u001b[0m",
      "\u001b[0;31mNameError\u001b[0m                                 Traceback (most recent call last)",
      "\u001b[1;32m/home/larsankile/furniture-diffusion/notebooks/04_la_process_demos.ipynb Cell 14\u001b[0m line \u001b[0;36m1\n\u001b[0;32m----> <a href='vscode-notebook-cell://ssh-remote%2Banthony-gpu/home/larsankile/furniture-diffusion/notebooks/04_la_process_demos.ipynb#X16sdnNjb2RlLXJlbW90ZQ%3D%3D?line=0'>1</a>\u001b[0m encoder \u001b[39m=\u001b[39m DinoEncoder()\n",
      "\u001b[0;31mNameError\u001b[0m: name 'DinoEncoder' is not defined"
     ]
    }
   ],
   "source": [
    "encoder = DinoEncoder()"
   ]
  },
  {
   "cell_type": "code",
   "execution_count": 6,
   "metadata": {},
   "outputs": [
    {
     "data": {
      "text/plain": [
       "(45876, 45876, 45876)"
      ]
     },
     "execution_count": 6,
     "metadata": {},
     "output_type": "execute_result"
    }
   ],
   "source": [
    "len(data[\"image1\"]), len(data[\"image2\"]), len(data[\"agent_pos\"])"
   ]
  },
  {
   "cell_type": "code",
   "execution_count": 7,
   "metadata": {},
   "outputs": [
    {
     "name": "stderr",
     "output_type": "stream",
     "text": [
      "  0%|          | 0/90 [00:00<?, ?it/s]"
     ]
    },
    {
     "name": "stderr",
     "output_type": "stream",
     "text": [
      "100%|██████████| 90/90 [18:55<00:00, 12.61s/it]\n"
     ]
    }
   ],
   "source": [
    "batch_size = 512\n",
    "feat1_batches = []\n",
    "feat2_batches = []\n",
    "\n",
    "for i in trange(0, len(data[\"image1\"]), batch_size):\n",
    "    img1_features = get_features(data[\"image1\"][i : i + batch_size], encoder)\n",
    "    img2_features = get_features(data[\"image2\"][i : i + batch_size], encoder)\n",
    "\n",
    "    feat1_batches.append(img1_features)\n",
    "    feat2_batches.append(img2_features)\n",
    "\n",
    "feat1 = np.concatenate(feat1_batches, axis=0)\n",
    "feat2 = np.concatenate(feat2_batches, axis=0)\n",
    "\n",
    "# Concatenate features with robot state\n",
    "agent_pos = data[\"agent_pos\"][:]\n",
    "observations = np.concatenate((agent_pos, feat1, feat2), axis=1)\n",
    "\n",
    "zarr.save(\n",
    "    output_file,\n",
    "    observations=observations,\n",
    "    actions=data[\"actions\"][:],\n",
    "    episode_ends=data[\"episode_ends\"][:],\n",
    ")"
   ]
  },
  {
   "cell_type": "markdown",
   "metadata": {},
   "source": [
    "## Extract and resize the images"
   ]
  },
  {
   "cell_type": "code",
   "execution_count": 39,
   "metadata": {},
   "outputs": [
    {
     "name": "stderr",
     "output_type": "stream",
     "text": [
      "100%|██████████| 94/94 [00:00<00:00, 533.03it/s]\n"
     ]
    },
    {
     "data": {
      "text/plain": [
       "((45876, 14), (45876, 224, 224, 3), (45876, 224, 224, 3), (45876, 8), (94,))"
      ]
     },
     "execution_count": 39,
     "metadata": {},
     "output_type": "execute_result"
    }
   ],
   "source": [
    "agent_pos = []\n",
    "image1 = []\n",
    "image2 = []\n",
    "actions = []\n",
    "episode_ends = []\n",
    "\n",
    "\n",
    "for data in tqdm(raw_data):\n",
    "    img1_batch = []\n",
    "    img2_batch = []\n",
    "    for agent_pos, image1, image2 in zip(data[\"observations\"], data[\"actions\"]):\n",
    "        robot_state = filter_and_concat_robot_state(obs[\"robot_state\"])\n",
    "        agent_pos.append(robot_state)\n",
    "\n",
    "        img1 = obs[\"color_image1\"]\n",
    "        img2 = obs[\"color_image2\"]\n",
    "\n",
    "        if img1.shape != (224, 224, 3):\n",
    "            img1 = resize_crop(img1)\n",
    "            img2 = resize_crop(img2)\n",
    "\n",
    "        image1.append(img1)\n",
    "        image2.append(img2)\n",
    "\n",
    "        actions.append(action)\n",
    "\n",
    "        end_index += 1\n",
    "\n",
    "    episode_ends.append(end_index)\n",
    "\n",
    "agent_pos = np.array(agent_pos)\n",
    "image1 = np.array(image1)\n",
    "image2 = np.array(image2)\n",
    "actions = np.array(actions)\n",
    "episode_ends = np.array(episode_ends)\n",
    "\n",
    "agent_pos.shape, image1.shape, image2.shape, actions.shape, episode_ends.shape"
   ]
  },
  {
   "cell_type": "code",
   "execution_count": 40,
   "metadata": {},
   "outputs": [
    {
     "data": {
      "text/plain": [
       "PosixPath('/home/larsankile/furniture-diffusion/data/processed/sim/image/low/one_leg/data.zarr')"
      ]
     },
     "execution_count": 40,
     "metadata": {},
     "output_type": "execute_result"
    }
   ],
   "source": [
    "output_file"
   ]
  },
  {
   "cell_type": "code",
   "execution_count": 41,
   "metadata": {},
   "outputs": [],
   "source": [
    "zarr.save(\n",
    "    output_file,\n",
    "    agent_pos=agent_pos,\n",
    "    image1=image1,\n",
    "    image2=image2,\n",
    "    actions=actions,\n",
    "    episode_ends=episode_ends,\n",
    ")"
   ]
  },
  {
   "cell_type": "code",
   "execution_count": 31,
   "metadata": {},
   "outputs": [
    {
     "data": {
      "text/plain": [
       "'cuda:1'"
      ]
     },
     "execution_count": 31,
     "metadata": {},
     "output_type": "execute_result"
    }
   ],
   "source": [
    "enc = R3MEncoder(device=\"cuda:1\")\n",
    "\n",
    "enc.device"
   ]
  },
  {
   "cell_type": "code",
   "execution_count": 33,
   "metadata": {},
   "outputs": [
    {
     "data": {
      "text/plain": [
       "torch.Size([1, 2048])"
      ]
     },
     "execution_count": 33,
     "metadata": {},
     "output_type": "execute_result"
    }
   ],
   "source": [
    "enc(torch.randn(1, 224, 224, 3).cuda(1)).shape"
   ]
  },
  {
   "cell_type": "code",
   "execution_count": 35,
   "metadata": {},
   "outputs": [
    {
     "data": {
      "text/plain": [
       "2048"
      ]
     },
     "execution_count": 35,
     "metadata": {},
     "output_type": "execute_result"
    }
   ],
   "source": [
    "# Get embedding dim\n",
    "enc.encoding_dim"
   ]
  },
  {
   "cell_type": "code",
   "execution_count": null,
   "metadata": {},
   "outputs": [],
   "source": [
    "# Make a smaller version of the dataset for testing\n",
    "orignal_file = (\n",
    "    Path(os.environ[\"FURNITURE_DATA_DIR\"])\n",
    "    / \"processed\"\n",
    "    / \"sim\"\n",
    "    / \"image\"\n",
    "    / \"one_leg\"\n",
    "    / \"high\"\n",
    "    / \"data.zarr\"\n",
    ")"
   ]
  },
  {
   "cell_type": "markdown",
   "metadata": {},
   "source": [
    "## Double check that the new sim scripted demos are looking alright"
   ]
  },
  {
   "cell_type": "code",
   "execution_count": 10,
   "metadata": {},
   "outputs": [
    {
     "data": {
      "text/plain": [
       "dict_keys(['observations', 'actions', 'rewards', 'skills', 'success', 'furniture', 'error', 'error_description'])"
      ]
     },
     "execution_count": 10,
     "metadata": {},
     "output_type": "execute_result"
    }
   ],
   "source": [
    "with open(\n",
    "    \"/data/scratch/ankile/test-scripted-demo/cabinet/2024-01-04-08:14:52/2024-01-04-08:14:52.pkl\",\n",
    "    \"rb\",\n",
    ") as f:\n",
    "    data = pickle.load(f)\n",
    "\n",
    "data.keys()"
   ]
  },
  {
   "cell_type": "code",
   "execution_count": 11,
   "metadata": {},
   "outputs": [
    {
     "data": {
      "text/plain": [
       "((224, 224, 3), (224, 224, 3))"
      ]
     },
     "execution_count": 11,
     "metadata": {},
     "output_type": "execute_result"
    }
   ],
   "source": [
    "data[\"observations\"][0][\"color_image1\"].shape, data[\"observations\"][0][\n",
    "    \"color_image2\"\n",
    "].shape"
   ]
  },
  {
   "cell_type": "code",
   "execution_count": 15,
   "metadata": {},
   "outputs": [
    {
     "data": {
      "text/plain": [
       "<matplotlib.image.AxesImage at 0x7f541dd928e0>"
      ]
     },
     "execution_count": 15,
     "metadata": {},
     "output_type": "execute_result"
    },
    {
     "data": {
      "image/png": "[encoded data removed]",
      "text/plain": [
       "<Figure size 640x480 with 1 Axes>"
      ]
     },
     "metadata": {},
     "output_type": "display_data"
    }
   ],
   "source": [
    "# Show the images\n",
    "plt.imshow(data[\"observations\"][0][\"color_image1\"])"
   ]
  },
  {
   "cell_type": "code",
   "execution_count": 13,
   "metadata": {},
   "outputs": [
    {
     "data": {
      "text/plain": [
       "<matplotlib.image.AxesImage at 0x7f541df4ba90>"
      ]
     },
     "execution_count": 13,
     "metadata": {},
     "output_type": "execute_result"
    },
    {
     "data": {
      "image/png": "[encoded data removed]",
      "text/plain": [
       "<Figure size 640x480 with 1 Axes>"
      ]
     },
     "metadata": {},
     "output_type": "display_data"
    }
   ],
   "source": [
    "plt.imshow(data[\"observations\"][0][\"color_image2\"])"
   ]
  },
  {
   "cell_type": "code",
   "execution_count": 22,
   "metadata": {},
   "outputs": [],
   "source": [
    "from src.visualization.render_mp4 import create_mp4"
   ]
  },
  {
   "cell_type": "code",
   "execution_count": 24,
   "metadata": {},
   "outputs": [],
   "source": [
    "vid1 = np.array([obs[\"color_image1\"] for obs in data[\"observations\"]])\n",
    "vid2 = np.array([obs[\"color_image2\"] for obs in data[\"observations\"]])\n",
    "\n",
    "vid = np.concatenate((vid1, vid2), axis=2)"
   ]
  },
  {
   "cell_type": "code",
   "execution_count": 25,
   "metadata": {},
   "outputs": [
    {
     "name": "stderr",
     "output_type": "stream",
     "text": []
    },
    {
     "name": "stderr",
     "output_type": "stream",
     "text": [
      "100%|██████████| 870/870 [00:00<00:00, 1134.04it/s]"
     ]
    },
    {
     "name": "stdout",
     "output_type": "stream",
     "text": [
      "File saved as test.mp4\n"
     ]
    },
    {
     "name": "stderr",
     "output_type": "stream",
     "text": [
      "\n"
     ]
    }
   ],
   "source": [
    "create_mp4(vid, \"test.mp4\")"
   ]
  },
  {
   "cell_type": "markdown",
   "metadata": {},
   "source": [
    "## Look at the newly (January 12, 2024) collected demos"
   ]
  },
  {
   "cell_type": "code",
   "execution_count": 3,
   "metadata": {},
   "outputs": [],
   "source": [
    "from src.visualization.render_mp4 import mp4_from_pickle, create_mp4"
   ]
  },
  {
   "cell_type": "markdown",
   "metadata": {},
   "source": [
    "### One leg"
   ]
  },
  {
   "cell_type": "code",
   "execution_count": 4,
   "metadata": {},
   "outputs": [
    {
     "data": {
      "text/plain": [
       "718"
      ]
     },
     "execution_count": 4,
     "metadata": {},
     "output_type": "execute_result"
    }
   ],
   "source": [
    "demo_base = Path(os.environ[\"ROLLOUT_SAVE_DIR\"]) / \"raw\" / \"sim\" / \"one_leg\"\n",
    "paths = [path for path in demo_base.rglob(\"*.pkl\")]\n",
    "\n",
    "len(paths)"
   ]
  },
  {
   "cell_type": "code",
   "execution_count": 5,
   "metadata": {},
   "outputs": [
    {
     "data": {
      "text/plain": [
       "dict_keys(['observations', 'actions', 'rewards', 'skills', 'success', 'furniture', 'error', 'error_description'])"
      ]
     },
     "execution_count": 5,
     "metadata": {},
     "output_type": "execute_result"
    }
   ],
   "source": [
    "# Open one and see what it looks like\n",
    "with open(paths[0], \"rb\") as f:\n",
    "    data = pickle.load(f)\n",
    "\n",
    "data.keys()"
   ]
  },
  {
   "cell_type": "code",
   "execution_count": 6,
   "metadata": {},
   "outputs": [
    {
     "data": {
      "text/plain": [
       "dict_keys(['color_image1', 'color_image2', 'robot_state', 'parts_poses'])"
      ]
     },
     "execution_count": 6,
     "metadata": {},
     "output_type": "execute_result"
    }
   ],
   "source": [
    "data[\"observations\"][0].keys()"
   ]
  },
  {
   "cell_type": "markdown",
   "metadata": {},
   "source": [
    "### Lamp"
   ]
  },
  {
   "cell_type": "code",
   "execution_count": 7,
   "metadata": {},
   "outputs": [
    {
     "data": {
      "text/plain": [
       "440"
      ]
     },
     "execution_count": 7,
     "metadata": {},
     "output_type": "execute_result"
    }
   ],
   "source": [
    "randomness = \"low\"  # low, med, high\n",
    "\n",
    "demo_base = (\n",
    "    Path(os.environ[\"ROLLOUT_SAVE_DIR\"]) / \"raw\" / \"sim\" / \"lamp\"\n",
    ")  # / randomness\n",
    "paths = [path for path in demo_base.rglob(\"*.pkl\")]\n",
    "\n",
    "len(paths)"
   ]
  },
  {
   "cell_type": "code",
   "execution_count": 54,
   "metadata": {},
   "outputs": [
    {
     "name": "stderr",
     "output_type": "stream",
     "text": [
      "\n",
      "\u001b[A\n",
      "\u001b[A\n",
      "\u001b[A\n",
      "\u001b[A\n",
      "\u001b[A\n",
      "\u001b[A\n",
      "\u001b[A\n",
      "100%|██████████| 721/721 [00:00<00:00, 967.46it/s] "
     ]
    },
    {
     "name": "stdout",
     "output_type": "stream",
     "text": [
      "File saved as test_lamp_low.mp4\n"
     ]
    },
    {
     "name": "stderr",
     "output_type": "stream",
     "text": [
      "\n"
     ]
    }
   ],
   "source": [
    "mp4_from_pickle(paths[0], f\"test_lamp_{randomness}.mp4\")"
   ]
  },
  {
   "cell_type": "code",
   "execution_count": 33,
   "metadata": {},
   "outputs": [
    {
     "name": "stdout",
     "output_type": "stream",
     "text": [
      "[-0.113328874, -0.0027341843, 0.0, -0.012054026, 0.010560537, -0.4492338, -0.8932704, -1.0]\n",
      "[-0.11959309, -0.0017164573, 0.0, -0.0114328265, 0.0076331953, -0.44147107, -0.8971701, -1.0]\n",
      "[-0.11461881, 0.0020392165, 0.0, -0.009903014, -0.0026821755, -0.41239485, -0.9109475, -1.0]\n",
      "[-0.11241559, 0.0063038543, 0.0, -0.0096187, -0.013405319, -0.3566846, -0.9340792, -1.0]\n",
      "[-0.11281622, 0.008469164, 0.0, -0.010456741, -0.020493627, -0.29625756, -0.95483094, -1.0]\n",
      "[-0.053037092, 0.008627206, 0.0, -0.0117355585, -0.02402391, -0.23759535, -0.9709961, -1.0]\n",
      "[-0.0034959912, 0.009967767, 0.0, -0.013912141, -0.028620489, -0.19354567, -0.9805749, -1.0]\n",
      "[0.009651184, 0.011747532, 0.0, -0.015072882, -0.031115474, -0.17405622, -0.9841286, -1.0]\n",
      "[0.008046448, 0.010622628, 0.0, -0.015051603, -0.03009284, -0.15222017, -0.9877738, -1.0]\n",
      "[0.0047712326, 0.007509306, 0.0, -0.013734341, -0.027349057, -0.12361528, -0.9918582, -1.0]\n",
      "[0.0016175508, 0.004172936, 0.0, -0.0116404295, -0.023463462, -0.09635795, -0.995002, -1.0]\n",
      "[6.7949295e-05, 0.0026347786, 0.0, -0.010325015, -0.020481456, -0.07483734, -0.99693197, -1.0]\n",
      "[-0.0006530285, 0.0019399449, 0.0, -0.0091897845, -0.01785756, -0.057904758, -0.99812007, -1.0]\n",
      "[-0.0009124279, 0.001437448, 0.0, -0.00796783, -0.015317174, -0.044656698, -0.99885315, -1.0]\n",
      "[-0.0010188818, 0.00096175075, 0.0, -0.0066289306, -0.012761347, -0.034254164, -0.9993097, -1.0]\n",
      "[-0.0010915995, 0.00055555254, 0.0, -0.005303979, -0.010326285, -0.026155807, -0.99959046, -1.0]\n",
      "[-0.0011240244, 0.0003785491, -0.07785275, -0.004267931, -0.008289017, -0.020030586, -0.9997559, -1.0]\n",
      "[0.0025352836, 0.00027582794, -0.07940348, -0.0036619902, -0.011931956, -0.018116647, -0.99975806, -1.0]\n",
      "[0.014063418, -0.000652425, -0.07754153, -0.0022028089, -0.025562303, -0.018072583, -0.9995074, -1.0]\n",
      "[0.017451644, -0.0030192062, -0.07950366, 0.0009319782, -0.031547308, -0.017694045, -0.99934524, -1.0]\n",
      "[0.014939129, -0.0049847662, -0.0649452, 0.0045673847, -0.033197075, -0.016568713, -0.999301, -1.0]\n",
      "[0.010632992, -0.006154053, -0.02140905, 0.008227348, -0.03230104, -0.014831077, -0.9993342, -1.0]\n",
      "[0.010923505, -0.006660208, 0.0003155321, 0.0103622675, -0.034092512, -0.013556417, -0.999273, -1.0]\n",
      "[0.013856113, -0.0063915625, 0.0052277297, 0.010448813, -0.036783315, -0.013333514, -0.99917966, -1.0]\n",
      "[0.011509359, -0.0052668974, 0.0039251894, 0.010343909, -0.035238132, -0.012717396, -0.99924445, -1.0]\n",
      "[0.0067613125, -0.0038011745, 0.0016894192, 0.010186672, -0.03146661, -0.01155303, -0.9993862, -1.0]\n",
      "[0.0025507212, -0.0027226955, 1.44690275e-05, 0.009910703, -0.026770074, -0.010236271, -0.99954003, -1.0]\n",
      "[0.0005350113, -0.0024558157, -0.00065781176, 0.009967089, -0.023412287, -0.010066312, -0.99962556, 1.0]\n",
      "[-0.000106692314, -0.0024125949, -0.0007631928, 0.00982523, -0.020590289, -0.0097235255, -0.99969244, 1.0]\n",
      "[-0.00019615889, -0.0020775571, -0.0006969124, 0.009107828, -0.01784221, -0.008759944, -0.9997609, 1.0]\n",
      "[-0.0003106594, -0.0014905632, -0.00064994395, 0.008002877, -0.014997004, -0.0077955816, -0.9998251, 1.0]\n",
      "[-0.0003710389, -0.0010864362, -0.0006416589, 0.006960511, -0.012458995, -0.0072690137, -0.9998717, 1.0]\n",
      "[-0.0004094839, -0.0010438561, -0.0006445199, 0.006238103, -0.010423012, -0.006810868, -0.999903, 1.0]\n",
      "[-0.00045210123, -0.0010866523, -0.00063987076, 0.005633712, -0.008803932, -0.0063047893, -0.99992555, 1.0]\n",
      "[-0.0004246235, -0.0011706427, -0.0006132871, 0.0052040815, -0.0075906944, -0.0059804674, -0.9999398, 1.0]\n",
      "[-0.00034821033, -0.0011397451, -0.00063480437, 0.0048464537, -0.006837642, -0.005946882, -0.9999472, 1.0]\n",
      "[-0.0002900958, -0.001163125, -0.00068576634, 0.0046005845, -0.006387718, -0.0058612935, -0.99995184, 1.0]\n",
      "[-0.0002193451, -0.0011899397, -0.00074382126, 0.0044515133, -0.0062304065, -0.0057867225, -0.9999539, 1.0]\n",
      "[-0.00019645691, -0.0011965632, -0.000763312, 0.004362941, -0.006158652, -0.005730614, -0.99995506, 1.0]\n",
      "[-0.00017762184, -0.0012069419, -0.000781849, 0.0042871833, -0.0061127674, -0.0056784265, -0.999956, 1.0]\n",
      "[-0.00014829636, -0.0011891425, -0.0007620603, 0.0041998625, -0.0060843956, -0.005622197, -0.9999569, 1.0]\n",
      "[-0.00017815828, -0.001158841, -0.0007109791, 0.004113674, -0.005957648, -0.005537236, -0.9999584, 1.0]\n",
      "[0.11071403, -0.001142323, -0.0007171184, 0.004033208, -0.0058215316, -0.005494863, -0.9999598, 1.0]\n",
      "[0.11104296, -0.00217738, -0.0015235096, 0.0047010183, -0.002684351, -0.005120052, -0.99997234, 1.0]\n",
      "[0.11058969, -0.005956568, -0.0044675022, 0.007202804, 0.008709206, -0.0038819546, -0.9999286, 1.0]\n",
      "[0.11566126, -0.008755252, -0.005629614, 0.009688854, 0.019723225, -0.0018412622, -0.99975693, 1.0]\n",
      "[0.05342004, -0.008595526, -0.0051540285, 0.010784149, 0.025068458, 0.0010358922, -0.999627, 1.0]\n",
      "[0.0019412041, -0.008074746, -0.005504921, 0.011820793, 0.030610953, 0.003713416, -0.9994546, 1.0]\n",
      "[0.07502662, 0.1105864, 0.0, 0.006004691, 0.054023057, 0.023336146, -0.99824893, 1.0]\n",
      "[0.063472375, 0.11425253, -0.00063204765, 0.0077064037, 0.055969387, 0.02004134, -0.9982016, 1.0]\n",
      "[0.024597645, 0.06895482, -0.0045537353, 0.015424252, 0.06389421, 0.00825109, -0.9978034, 1.0]\n",
      "[-0.00040709972, 0.012000158, -0.0071391463, 0.02438283, 0.0715622, -0.004263021, -0.99712884, -1.0]\n",
      "[-0.01035285, -0.01007013, -0.0075215697, 0.027107477, 0.07464868, -0.011426065, -0.99677587, -1.0]\n",
      "[-0.0096895695, -0.013565898, -0.0073049664, 0.02675277, 0.07327132, -0.012976956, -0.9968686, -1.0]\n",
      "[-0.012222171, -0.004594609, 0.07421124, -0.0091483, 0.06965603, 0.009643704, -0.99748236, -1.0]\n",
      "[-0.013322711, -0.0019591749, 0.077936955, -0.0106624365, 0.067856774, 0.010125458, -0.99758667, -1.0]\n",
      "[-0.024223685, -0.0009583831, 0.07165273, -0.012445807, 0.07691207, 0.009299926, -0.99691665, -1.0]\n",
      "[-0.024603128, 0.002343446, 0.025713459, -0.01628685, 0.07542513, 0.008929417, -0.9969784, -1.0]\n",
      "[-0.021794677, 0.005499482, -0.0008357614, -0.019896984, 0.0715185, 0.00884562, -0.9972014, -1.0]\n",
      "[-0.024025798, 0.0056337714, -0.010017738, -0.020379305, 0.07380861, 0.0086250305, -0.9970268, -1.0]\n",
      "[-0.021903872, 0.0055110306, -0.009510025, -0.020407021, 0.071864046, 0.008640394, -0.9971682, -1.0]\n",
      "[-0.014987588, 0.0052513927, -0.005856499, -0.02028507, 0.06456581, 0.008418061, -0.99767166, -1.0]\n",
      "[-0.0073286295, 0.004573092, -0.002638325, -0.018926084, 0.054661512, 0.008547317, -0.9982888, -1.0]\n",
      "[-0.0033675432, 0.0046489537, -0.0011606067, -0.01817292, 0.047387853, 0.009993523, -0.9986611, -1.0]\n",
      "[-0.002122283, 0.0047293454, -0.0007548183, -0.01747173, 0.041598648, 0.010947384, -0.9989215, -1.0]\n",
      "[-0.0017175674, 0.0041776747, -0.0006658882, -0.016030967, 0.035787854, 0.010473363, -0.99917585, -1.0]\n",
      "[-0.0012615919, 0.00303936, -0.0005930513, -0.013774931, 0.029719712, 0.009006202, -0.9994228, -1.0]\n",
      "[-0.0007599592, 0.0019283593, -0.00051663816, -0.011264622, 0.024026157, 0.0071539152, -0.9996223, -1.0]\n",
      "[-0.00052309036, 0.0014389902, -0.00044964254, -0.00926882, 0.019394007, 0.0055336263, -0.9997536, -1.0]\n",
      "[-0.11637157, 0.101299234, 0.0036161393, 0.0, -1.8626451e-09, -7.450581e-09, -1.0, -1.0]\n",
      "[-0.11915104, 0.09811898, 0.0041059703, 0.0013636351, -0.0037879804, -0.0045623435, -0.9999813, -1.0]\n",
      "[-0.115006715, 0.03883949, 0.005451128, 0.004284978, -0.014321387, -0.020136911, -0.99968535, -1.0]\n",
      "[-0.11130473, 0.0061514676, 0.0049666613, 0.0044848323, -0.02650506, -0.03646449, -0.99897325, -1.0]\n",
      "[-0.07400272, -0.0004969537, 0.003858611, 3.3676624e-05, -0.03740032, -0.045377918, -0.99826944, -1.0]\n",
      "[-0.012113094, 0.0043310523, 0.0028033704, -0.006237924, -0.046988506, -0.04998711, -0.9976242, -1.0]\n",
      "[0.013346314, 0.009055287, 0.0018955916, -0.010214984, -0.052068118, -0.05195257, -0.9972388, -1.0]\n",
      "[0.013354123, 0.0090687275, 0.0013888329, -0.010256767, -0.050752304, -0.0505219, -0.9973798, -1.0]\n",
      "[0.008248448, 0.007217139, 0.0006573647, -0.009222984, -0.044933055, -0.04540992, -0.99791473, -1.0]\n",
      "[0.0031700134, 0.0050704777, 1.5184283e-05, -0.007986367, -0.037864894, -0.03769503, -0.9985396, -1.0]\n",
      "[0.00040185452, 0.0041058958, -0.00019975007, -0.0072151423, -0.032356698, -0.031522725, -0.99895304, -1.0]\n",
      "[-0.000625968, 0.003639847, -1.9982457e-05, -0.006620884, -0.027888548, -0.026570195, -0.99923587, -1.0]\n",
      "[-0.0008804798, 0.00330019, 0.00018315017, -0.0060347915, -0.023712903, -0.022144865, -0.99945515, -1.0]\n",
      "[-0.004125476, -0.0065541565, 0.0, -0.09801841, 0.39545238, -0.23285374, -0.8830565, -1.0]\n",
      "[-0.0071697235, -0.006733209, 0.0, -0.0947901, 0.39285737, -0.22831964, -0.8857471, -1.0]\n",
      "[-0.016414165, -0.004619211, 0.0, -0.08801323, 0.3745554, -0.21418364, -0.8978236, -1.0]\n",
      "[-0.016965866, -0.0041535497, 0.0, -0.07545084, 0.33642587, -0.18895143, -0.9194684, -1.0]\n",
      "[-0.012810886, -0.005994439, 0.0, -0.06042236, 0.28951678, -0.16085224, -0.941624, -1.0]\n",
      "[-0.009248674, -0.0068626106, 0.0, -0.048184454, 0.24363554, -0.1342206, -0.95932513, -1.0]\n",
      "[-0.0074808, -0.005566895, 0.0, -0.03865856, 0.20236331, -0.11003813, -0.9723405, -1.0]\n",
      "[-0.0068383217, -0.0033094883, 0.0, -0.031144917, 0.16658524, -0.08921406, -0.9814887, -1.0]\n",
      "[-0.006893158, -0.0013397336, 0.0, -0.025750756, 0.13736716, -0.07315537, -0.9874793, -1.0]\n",
      "[-0.0069606304, -0.00014168024, 0.0, -0.021899164, 0.11405069, -0.061380774, -0.99133515, -1.0]\n",
      "[-0.006416559, 0.00062564015, 0.0, -0.018421054, 0.09506416, -0.0520505, -0.9939386, -1.0]\n",
      "[-0.005476892, 0.00072586536, 0.0, -0.015496194, 0.07906258, -0.044378996, -0.9957608, -1.0]\n",
      "[-0.0046081543, 0.00014841557, 0.0, -0.013502002, 0.06538236, -0.038079143, -0.997042, -1.0]\n",
      "[-0.0037842393, -0.00033816695, 0.0, -0.011675775, 0.053812206, -0.03236264, -0.9979581, -1.0]\n",
      "[-0.0031345487, -0.0005272925, 0.0, -0.010105252, 0.044225633, -0.027390659, -0.99859494, -1.0]\n",
      "[-0.0028443336, -0.00078725815, 0.0, -0.009237587, 0.036423862, -0.023576975, -0.99901545, -1.0]\n",
      "[-0.0027862191, -0.0011292994, 0.0, -0.008913934, 0.030142874, -0.02075845, -0.9992903, -1.0]\n",
      "[-0.002728939, -0.0013301373, 0.0, -0.008629024, 0.02507633, -0.018448055, -0.999478, -1.0]\n",
      "[-0.0026942492, -0.0014052987, 0.0, -0.0084728, 0.020946562, -0.016601622, -0.99960667, -1.0]\n",
      "[-0.0026231408, -0.0014850497, -0.07743848, -0.008325219, 0.017532825, -0.015032589, -0.99969846, -1.0]\n",
      "[0.00025749207, -0.0017666221, -0.07216001, -0.009828985, 0.013283044, -0.01362437, -0.9997706, -1.0]\n",
      "[0.009108126, -0.0026539564, -0.076450974, -0.013341665, 0.0034326613, -0.010196269, -0.999853, -1.0]\n",
      "[0.011234105, -0.003378749, -0.079362124, -0.014887631, -0.0022708774, -0.007036209, -0.99986184, -1.0]\n",
      "[0.008711636, -0.003660977, -0.07482495, -0.014953852, -0.005022824, -0.0041368604, -0.999867, -1.0]\n",
      "[0.008609474, 0.010849535, -0.06951279, 0.009721398, -0.01430133, 0.025090754, -0.9995355, -1.0]\n",
      "[0.007739663, 0.030340025, -0.033480972, 0.062256813, -0.025222123, 0.0694381, -0.99532205, -1.0]\n",
      "[0.00617218, 0.018457472, -0.011294134, 0.04289323, -0.029516697, 0.053248525, -0.9972228, -1.0]\n",
      "[0.008706987, 0.009754926, -0.016037948, 0.03841144, -0.03718403, 0.05526787, -0.99703926, -1.0]\n",
      "[0.005618036, 0.0060697496, -0.01567287, 0.06166029, -0.03491789, 0.06661427, -0.99525934, -1.0]\n",
      "[0.0046882033, 0.0041421056, -0.011913009, 0.07083446, -0.03322506, 0.07142997, -0.9943724, -1.0]\n",
      "[0.0038070083, 0.005149007, -0.010387965, 0.064421475, -0.031198144, 0.06788254, -0.9951223, -1.0]\n",
      "[0.0026252866, 0.0076812804, -0.008590408, 0.05679238, -0.027421892, 0.06521803, -0.9958761, -1.0]\n",
      "[0.001737237, 0.009102136, -0.006844111, 0.049950242, -0.023663133, 0.06202352, -0.99654305, -1.0]\n",
      "[0.0010136962, 0.009331137, -0.005175419, 0.043691993, -0.0199655, 0.05776584, -0.9971738, -1.0]\n",
      "[0.0003799796, 0.009134889, -0.0035911277, 0.037198544, -0.01634729, 0.051242888, -0.9978593, -1.0]\n",
      "[-0.00015097857, 0.00898245, -0.0022218898, 0.031126857, -0.012974411, 0.04309559, -0.9985016, -1.0]\n",
      "[-0.0002564788, 0.00872919, -0.001476951, 0.02652955, -0.010331124, 0.03547427, -0.9989649, -1.0]\n",
      "[-0.00024539232, 0.008582652, -0.0012032464, 0.02269411, -0.008200198, 0.029017657, -0.9992875, -1.0]\n",
      "[-0.00032395124, 0.008601874, -0.0010965541, 0.019504309, -0.0063386858, 0.023772746, -0.9995069, -1.0]\n",
      "[-0.00064206123, 0.005051911, -0.0010343865, 0.015412509, -0.0047077835, 0.018483847, -0.99969923, 1.0]\n",
      "[-0.0010977983, 0.0015315115, -0.00084561855, 0.012649715, -0.0031307042, 0.014867812, -0.9998044, 1.0]\n",
      "[-0.0013296008, -0.0007288754, -0.0007539466, 0.011326134, -0.0020273924, 0.013694316, -0.99983996, 1.0]\n",
      "[-0.0017459989, -0.00100559, -0.0007460788, 0.009247303, -0.00087949634, 0.012485743, -0.9998789, 1.0]\n",
      "[-0.002767682, -0.0011808872, -0.0007579997, 0.007957578, 0.00063723326, 0.010841548, -0.9999094, 1.0]\n",
      "[-0.00312984, -0.0013216436, -0.0007064417, 0.007124245, 0.001621604, 0.009864092, -0.99992454, 1.0]\n",
      "[-0.0030419827, -0.001781404, -0.0005881861, 0.0068106055, 0.0021978915, 0.008972436, -0.9999341, 1.0]\n",
      "[-0.0028967261, -0.0018256307, -0.000615485, 0.0063797235, 0.0026175976, 0.008300722, -0.9999417, 1.0]\n",
      "[-0.0028563142, -0.0017894506, -0.00062895566, 0.0061733127, 0.00290519, 0.00807327, -0.99994403, 1.0]\n",
      "[-0.0028250217, -0.001742512, -0.0006424859, 0.0060358644, 0.003110379, 0.007908076, -0.9999455, 1.0]\n",
      "[0.007110834, -0.0023052394, 0.076517336, 0.026004374, -0.00043940544, -0.0061305463, -0.99964285, 1.0]\n",
      "[0.0034707785, -0.002408594, 0.07884456, 0.026296377, 0.002483189, -0.0066039264, -0.9996292, 1.0]\n",
      "[-0.009013653, -0.0027680993, 0.079994954, 0.027442992, 0.013018936, -0.008152813, -0.99950534, 1.0]\n",
      "[-0.019375026, -0.0026429594, 0.07397363, 0.027960837, 0.024257928, -0.009729624, -0.9992671, 1.0]\n",
      "[-0.023504615, -0.0018004179, 0.07525932, 0.027267754, 0.03357637, -0.010926455, -0.99900424, 1.0]\n",
      "[-0.022595346, -0.00072157383, 0.07923887, 0.025681734, 0.040725023, -0.011867017, -0.9987698, 1.0]\n",
      "[-0.019779325, 0.00022035837, 0.07876615, 0.023603857, 0.046491355, -0.012927949, -0.998556, 1.0]\n",
      "[-0.016799152, 0.0010208488, 0.0733828, 0.021107197, 0.05042857, -0.014228016, -0.9984031, 1.0]\n",
      "[-0.013977945, 0.0017065108, 0.07615821, 0.01829052, 0.052032053, -0.015442878, -0.99835837, 1.0]\n",
      "[-0.012104392, 0.0025039315, 0.076074064, 0.015241742, 0.051741987, -0.016269863, -0.9984116, 1.0]\n",
      "[-0.01187706, 0.0030477643, 0.078821935, 0.012839973, 0.05264333, -0.017795086, -0.9983721, 1.0]\n",
      "[-0.012456775, 0.0035586953, 0.07122088, 0.011001289, 0.05497518, -0.019225359, -0.9982419, 1.0]\n",
      "[-0.013384998, 0.0040119886, 0.052322894, 0.0096101165, 0.057871133, -0.020486683, -0.9980675, 1.0]\n",
      "[-0.013658106, 0.0042713284, 0.020909756, 0.008355141, 0.059526145, -0.021583527, -0.99795824, 1.0]\n",
      "[-0.014580846, 0.004486203, 0.010086745, 0.008033156, 0.06193438, -0.02199176, -0.9978055, 1.0]\n",
      "[-0.014536858, 0.0041570663, 0.009227484, 0.008023143, 0.06207171, -0.02187708, -0.9977996, 1.0]\n",
      "[-0.013451636, 0.0033777952, 0.010609597, 0.007744968, 0.060861766, -0.021765262, -0.99787873, 1.0]\n",
      "[-0.01246357, 0.0026915073, 0.0121819675, 0.0075081587, 0.05961576, -0.021633893, -0.99795866, 1.0]\n",
      "[-0.011857152, 0.0024819374, 0.013248414, 0.0074029565, 0.05870393, -0.021339625, -0.9980198, 1.0]\n",
      "[-0.011489153, 0.002431631, 0.013794392, 0.0073803067, 0.058069468, -0.02101639, -0.998064, 1.0]\n",
      "[-0.011236906, 0.0023709834, 0.014000267, 0.0073859096, 0.05760327, -0.020712912, -0.9980972, 1.0]\n",
      "[-0.011052728, 0.0023054183, 0.014035076, 0.0074109435, 0.057223797, -0.020418435, -0.998125, 1.0]\n",
      "[-0.010910273, 0.0022375286, 0.0140046775, 0.007446587, 0.056887567, -0.02013123, -0.99814963, 1.0]\n",
      "[-0.010805607, 0.0021669567, 0.013955921, 0.007490456, 0.056572616, -0.019851893, -0.9981729, 1.0]\n",
      "[-0.010740936, 0.0020947456, 0.013904065, 0.007540703, 0.056275755, -0.019580781, -0.9981947, 1.0]\n",
      "[0.04973138, -0.113527626, -0.03330229, -0.0046082735, 0.028476477, -0.01682493, -0.9994421, 1.0]\n",
      "[0.04689615, -0.116831996, -0.02768305, -0.0027999282, 0.027808994, -0.01154837, -0.9995426, 1.0]\n",
      "[0.02903092, -0.11111062, -0.012986928, 0.00342232, 0.026175529, 0.006952673, -0.99962723, 1.0]\n",
      "[0.01237303, -0.06136643, 0.0015375316, 0.010762274, 0.027103812, 0.024844289, -0.9992657, 1.0]\n",
      "[0.001568675, -0.01374428, 0.009792775, 0.01646775, 0.028734744, 0.037405103, -0.99875116, 1.0]\n",
      "[-0.0012236834, 0.00254488, 0.011608332, 0.019791424, 0.02872184, 0.04411137, -0.99841744, 1.0]\n",
      "[-0.002303362, 0.004483953, 0.01141116, 0.020597637, 0.029042602, 0.04418069, -0.99838877, 1.0]\n",
      "[-0.0037852526, 0.0024839193, 0.011030287, 0.020355165, 0.029945105, 0.042062074, -0.9984586, 1.0]\n",
      "[-0.0057576895, -0.00025948882, 0.010727733, 0.019924045, 0.031141907, 0.037488103, -0.998613, 1.0]\n",
      "[-0.007282734, -0.0020160973, 0.010509819, 0.019220233, 0.03234315, 0.033248812, -0.9987386, 1.0]\n",
      "[-0.007985592, -0.0027163178, 0.010356516, 0.018603325, 0.033245683, 0.030029625, -0.9988226, 1.0]\n",
      "[-0.008265853, -0.0026762038, 0.010343283, 0.01784718, 0.033796906, 0.027356267, -0.9988948, 1.0]\n",
      "[-0.008387446, -0.0023868084, 0.010414213, 0.01718992, 0.034159392, 0.025235832, -0.9989497, 1.0]\n",
      "[-0.00846827, -0.0021526664, 0.010449141, 0.01669848, 0.034409195, 0.02365902, -0.9989881, 1.0]\n",
      "[-0.00852108, -0.002047196, 0.010448903, 0.016336918, 0.034585238, 0.022490293, -0.999015, 1.0]\n",
      "[-0.008563757, -0.0020284802, 0.010432571, 0.016067207, 0.03472233, 0.021612376, -0.99903405, 1.0]\n",
      "[-0.00859797, -0.0020170957, 0.010412663, 0.0158211, 0.03484246, 0.020950913, -0.9990479, 1.0]\n",
      "[-0.008628249, -0.0019899756, 0.010394305, 0.015581012, 0.034954786, 0.020414561, -0.9990588, 1.0]\n",
      "[-0.008658409, -0.0019483864, 0.010378927, 0.0153464675, 0.035064816, 0.019896746, -0.999069, 1.0]\n",
      "[-0.008689284, -0.0018984824, 0.0103649795, 0.01511997, 0.035172403, 0.019386321, -0.9990787, 1.0]\n",
      "[-0.008717656, -0.0018410087, 0.010350198, 0.014899135, 0.03527546, 0.018878639, -0.9990881, 1.0]\n",
      "[-0.0087429285, -0.0017791986, 0.010335654, 0.0146840215, 0.03537315, 0.01839748, -0.9990969, 1.0]\n",
      "[-0.008762836, -0.0017175227, 0.010320276, 0.014475346, 0.035462588, 0.018003523, -0.99910396, 1.0]\n",
      "[-0.00877583, -0.001656875, 0.010303348, 0.014270067, 0.035542756, 0.017695427, -0.99910945, 1.0]\n",
      "[-0.008781433, -0.0015989691, 0.010286897, 0.01406914, 0.035614252, 0.017431527, -0.9991145, 1.0]\n",
      "[0.11866714, 0.008144751, 0.006837666, -0.028082073, 0.4342138, -0.081849635, 0.8966439, 1.0]\n",
      "[0.113398425, 0.0054493845, 0.004107535, -0.029239118, 0.4261513, -0.08101866, 0.9005419, 1.0]\n",
      "[0.118304044, -0.0030072182, -0.0046967864, -0.032369852, 0.39373767, -0.07814288, 0.9153231, 1.0]\n",
      "[0.051008947, -0.008302122, -0.008021653, -0.03108716, 0.33978438, -0.07256091, 0.9371846, 1.0]\n",
      "[0.0017755032, -0.010919824, -0.010561526, -0.030100465, 0.28626674, -0.06877312, 0.9552044, 1.0]\n",
      "[-0.008852124, -0.014444113, -0.016804397, -0.03376645, 0.25646266, -0.06972629, 0.9634443, 1.0]\n",
      "[-0.0016614199, -0.014378399, -0.01796478, -0.03430742, 0.23387212, -0.06912324, 0.9692001, 1.0]\n",
      "[0.0055606365, -0.011501953, -0.0129519105, -0.03193021, 0.20531325, -0.06450814, 0.9760459, 1.0]\n",
      "[0.0076158047, -0.006946221, -0.0063566566, -0.026566565, 0.17203586, -0.0565629, 0.98310655, 1.0]\n",
      "[0.007498622, -0.0035219043, -0.0017345548, -0.021811485, 0.14249188, -0.048545256, 0.9883641, 1.0]\n",
      "[0.0067783594, -0.0017092526, 0.0010079741, -0.018241644, 0.11785704, -0.040542804, 0.9920348, 1.0]\n",
      "[0.0060480833, -0.00095398724, 0.002564609, -0.015508175, 0.09760129, -0.032960385, 0.9945587, 1.0]\n",
      "[0.005566478, -0.0006648004, 0.0034875274, -0.013364553, 0.08124289, -0.02614192, 0.99626184, 1.0]\n",
      "[0.005408168, -0.00048466027, 0.0041106343, -0.011643171, 0.06836239, -0.020296257, 0.99738604, 1.0]\n",
      "[0.005526185, -0.00027170777, 0.0045978427, -0.010216236, 0.05848895, -0.015445933, 0.9981162, 1.0]\n",
      "[0.005800247, -1.4975667e-05, 0.0050032735, -0.009000182, 0.05109585, -0.011501845, 0.9985869, 1.0]\n",
      "[0.0509068, 0.038074378, 0.07050862, -0.15888894, -0.1878418, 0.3320857, -0.91059804, 1.0]\n",
      "[0.047357537, 0.037163474, 0.07301504, -0.15828562, -0.18454236, 0.32281995, -0.91470057, 1.0]\n",
      "[0.029782534, 0.03179795, 0.07133601, -0.15350473, -0.17472294, 0.29668137, -0.9262228, 1.0]\n",
      "[0.015998244, 0.024768353, 0.039072774, -0.14118207, -0.15870714, 0.25246343, -0.9440031, 1.0]\n",
      "[0.007750511, 0.019014895, 0.011217117, -0.12782627, -0.14380497, 0.20947863, -0.95869654, 1.0]\n",
      "[0.0058321953, 0.016346112, 0.00059247017, -0.117219746, -0.13603419, 0.1768832, -0.96771204, 1.0]\n",
      "[0.007195711, 0.01451318, 0.0007273555, -0.10401666, -0.12972721, 0.14861584, -0.97481513, 1.0]\n",
      "[0.008649707, 0.0120165795, 0.0041757226, -0.08702248, -0.11843175, 0.12032944, -0.9817952, 1.0]\n",
      "[0.00935781, 0.009711012, 0.007205665, -0.070717454, -0.10519019, 0.09694067, -0.9871861, 1.0]\n",
      "[0.009920478, 0.007891551, 0.009127378, -0.05629331, -0.094781876, 0.07982224, -0.99069476, 1.0]\n",
      "[0.010445118, 0.006281674, 0.009729028, -0.043231964, -0.08636862, 0.067165256, -0.99305594, 1.0]\n",
      "[0.010051489, 0.0050641596, 0.009289563, -0.032351613, -0.07795066, 0.057164878, -0.99479115, 1.0]\n",
      "[0.009179711, 0.004248619, 0.008530766, -0.023451507, -0.069803566, 0.048561573, -0.99610186, 1.0]\n",
      "[0.008326292, 0.0037564784, 0.007944405, -0.016289592, -0.06255752, 0.041162938, -0.9970591, 1.0]\n",
      "[0.0076994896, 0.0035138428, 0.0076338053, -0.010709584, -0.05652824, 0.03513223, -0.9977251, 1.0]\n",
      "[0.007336974, 0.0034378618, 0.0075358152, -0.0064391494, -0.051580608, 0.03045389, -0.9981836, 1.0]\n",
      "[0.007148981, 0.003452897, 0.0075465143, -0.0032325387, -0.04770869, 0.026940942, -0.9984927, 1.0]\n",
      "[0.00704062, 0.003497064, 0.007585883, -0.00085520744, -0.044803143, 0.024324834, -0.99869925, 1.0]\n",
      "[0.006971836, 0.003522098, 0.007625401, 0.0009428859, -0.04251063, 0.02235657, -0.9988453, 1.0]\n",
      "[0.0069252253, 0.0035111457, 0.007651806, 0.0023308396, -0.040649205, 0.020841181, -0.9989533, 1.0]\n",
      "[0.012317181, 0.0021457523, -0.0728703, -0.14909524, 0.016620934, 0.3654328, -0.91866916, 1.0]\n",
      "[0.012121081, 0.003571704, -0.07562815, -0.1462735, 0.014438808, 0.35767335, -0.92220664, 1.0]\n",
      "[0.012222528, 0.007883742, -0.07056258, -0.1356023, 0.004521847, 0.3313844, -0.9336895, 1.0]\n",
      "[0.008053899, 0.012266681, -0.057280578, -0.12052995, -0.005904019, 0.28472075, -0.9509847, 1.0]\n",
      "[0.00393486, 0.013164014, -0.017967016, -0.10186911, -0.012734473, 0.23567128, -0.9663951, 1.0]\n",
      "[0.0004171133, 0.011968404, -0.0021154284, -0.08643794, -0.025225282, 0.19618666, -0.97642356, 1.0]\n",
      "[-0.003646493, 0.008331999, -0.003042847, -0.07976717, -0.027850866, 0.1714735, -0.98155904, 1.0]\n",
      "[-0.0038739443, 0.0058561563, -0.0020282865, -0.069131285, -0.031347275, 0.1403845, -0.98718315, 1.0]\n",
      "[-0.0019146204, 0.0038076788, -0.0014614761, -0.0554412, -0.02829805, 0.10991734, -0.99198973, 1.0]\n",
      "[-0.00088870525, 0.003009379, -0.0012640357, -0.045606285, -0.03004688, 0.084326446, -0.9949404, 1.0]\n",
      "[-9.262562e-05, 0.0031737983, -0.0011363924, -0.0360848, -0.026127428, 0.065336466, -0.9968681, 1.0]\n",
      "[0.00033783913, 0.0031809807, -0.0010311306, -0.028288543, -0.02302897, 0.050908387, -0.9980368, 1.0]\n",
      "[0.0006777048, 0.002888918, -0.00045144558, -0.021824896, -0.0193474, 0.0402804, -0.99876237, 1.0]\n",
      "[0.002170682, 0.0011809915, 0.0020531118, -0.016049117, -0.017520428, 0.027626634, -0.9993358, 1.0]\n",
      "[0.0027515888, 0.00045895576, 0.005069524, -0.013569087, -0.017122656, 0.018633187, -0.9995876, 1.0]\n",
      "[0.0028954744, 0.00034596026, 0.006918013, -0.013211399, -0.017173797, 0.016430914, -0.9996299, 1.0]\n",
      "[0.0030754805, 0.00031644106, 0.0080785155, -0.013046533, -0.017374367, 0.016642094, -0.99962527, 1.0]\n",
      "[0.003207326, 0.00019943714, 0.008796692, -0.013029188, -0.017795563, 0.015942335, -0.99962944, 1.0]\n",
      "[0.0033962727, 1.1920929e-06, 0.00916791, -0.013260543, -0.018393189, 0.013057053, -0.9996577, 1.0]\n",
      "[0.0034387112, -7.171929e-05, 0.009157509, -0.013614863, -0.01851976, 0.012178957, -0.9996615, 1.0]\n",
      "[0.0037853718, -0.00021499395, 0.009454578, -0.013906807, -0.019004613, 0.010425389, -0.99966836, 1.0]\n",
      "[0.00421381, -0.0003543645, 0.009943277, -0.014143616, -0.0195871, 0.009417236, -0.99966365, 1.0]\n",
      "[0.003961444, -0.0005284697, 0.009770185, -0.0146122575, -0.019740283, 0.0098670125, -0.9996496, 1.0]\n",
      "[0.0049824715, -0.00086049736, 0.010440499, -0.014820844, -0.021220863, 0.005731344, -0.99964863, 1.0]\n",
      "[0.005446434, -0.0010828525, 0.01102227, -0.015239984, -0.022008628, 0.0027093291, -0.99963784, 1.0]\n",
      "[0.0053417683, -0.0013231933, 0.010839403, -0.015926957, -0.022335887, 0.0033077002, -0.99961805, 1.0]\n",
      "[0.005797863, -0.0016218722, 0.011148632, -0.016471893, -0.023269981, 0.0016069412, -0.9995922, 1.0]\n",
      "[0.0065618753, -0.0021313876, 0.0115404725, -0.017096251, -0.024701416, -0.0033698082, -0.9995431, 1.0]\n",
      "[0.0065979958, -0.0024447143, 0.011075437, -0.018149227, -0.025205404, -0.003960669, -0.9995096, 1.0]\n",
      "[0.014541388, 0.004553333, 0.011928976, -0.34916466, 0.06662831, 0.6108952, -0.7074259, 1.0]\n",
      "[0.008733988, 0.0063628703, 0.011282384, -0.34870666, 0.063032955, 0.60075355, -0.7166069, -1.0]\n",
      "[-0.002484308, -0.0026692986, 0.011886656, -0.40316743, 0.037913136, 0.5173856, -0.7538769, -1.0]\n",
      "[-0.016446829, -0.0037740022, 0.0012472272, -0.32469976, 0.043614745, 0.49676612, -0.80367345, -1.0]\n",
      "[-0.01827383, -0.002792716, -0.0045942664, -0.29231352, 0.040365368, 0.43126422, -0.8526045, -1.0]\n",
      "[0.027272701, 0.0044075847, -0.030237747, -0.23006892, -0.10528207, 0.841272, 0.4777503, -1.0]\n",
      "[0.021692276, 0.006398514, -0.02619192, -0.22812843, -0.097898945, 0.8574229, 0.45077622, -1.0]\n",
      "[0.01350832, -3.501773e-05, -0.021621436, -0.22349101, -0.10266578, 0.8295207, 0.5014049, -1.0]\n",
      "[0.0073441267, 0.001618579, -0.014400214, -0.21658301, -0.09989478, 0.79112446, 0.563236, -1.0]\n",
      "[0.0064359903, 0.007025078, -0.0071620643, -0.20760077, -0.09159881, 0.7504618, 0.62074023, -1.0]\n",
      "[0.008089066, 0.007783383, -0.0029134452, -0.19592524, -0.085418105, 0.7071735, 0.67396045, -1.0]\n",
      "[0.008549213, 0.006343767, -0.00161466, -0.1815778, -0.08347988, 0.66116256, 0.72313523, -1.0]\n",
      "[0.0073940754, 0.004082784, -0.0019563138, -0.16479737, -0.08614677, 0.6122693, 0.76847047, -1.0]\n",
      "[0.0054377317, -0.000414595, -0.0029865205, -0.14721745, -0.09215641, 0.5612506, 0.8092168, -1.0]\n",
      "[0.003170848, -0.0042414665, -0.0038684309, -0.12987351, -0.098650575, 0.51050663, 0.8442652, -1.0]\n",
      "[0.0015976429, -0.006379679, -0.004033774, -0.11272663, -0.103146374, 0.4630568, 0.87305886, -1.0]\n",
      "[0.0010716915, -0.007887229, -0.0034068525, -0.096857846, -0.104661316, 0.41978577, 0.8963506, -1.0]\n",
      "[0.00097334385, -0.009254709, -0.0025964677, -0.08335221, -0.10329476, 0.38035047, 0.9152683, -1.0]\n",
      "[0.0012557507, -0.010440603, -0.0016562641, -0.072215915, -0.09868693, 0.3433949, 0.93119586, -1.0]\n",
      "[0.0017712116, -0.010497451, -0.00089642406, -0.062579274, -0.091214895, 0.3071299, 0.9452168, -1.0]\n",
      "[0.0012917519, -0.008724779, -0.001014322, -0.053015888, -0.08462423, 0.26916838, 0.957902, -1.0]\n",
      "[0.00021159649, -0.006466374, -0.0014444292, -0.043982744, -0.07844874, 0.22901094, 0.9692601, -1.0]\n",
      "[-0.00047826767, -0.0039014071, -0.0016172826, -0.035553932, -0.07081568, 0.18715882, 0.9791285, -1.0]\n",
      "[-0.0007047653, -0.0014603734, -0.0014418066, -0.02757138, -0.06199354, 0.14626192, 0.9869165, -1.0]\n",
      "[-0.0005059242, 0.00037026405, -0.0010728538, -0.020829916, -0.052882075, 0.11240122, 0.992036, -1.0]\n",
      "[-0.00013840199, 0.0009433776, -0.0007300079, -0.015460372, -0.04398775, 0.08580196, 0.99522054, -1.0]\n",
      "[5.9247017e-05, 0.0010392368, -0.00045391917, -0.011253357, -0.035783798, 0.06520534, 0.9971665, -1.0]\n",
      "[0.0001538992, 0.00088734925, -0.000333637, -0.008364439, -0.028948784, 0.049591273, 0.99831486, -1.0]\n",
      "[0.00019216537, 0.0005990565, -0.0002835691, -0.0066189766, -0.023507118, 0.037967812, 0.9989804, -1.0]\n",
      "[0.00014305115, 0.00025491416, -0.00024482608, -0.005473554, -0.019104779, 0.02921667, 0.9993755, -1.0]\n",
      "[0.00014424324, 0.0001681447, -0.00016841292, -0.004630387, -0.0155258775, 0.022586066, 0.9996136, 1.0]\n",
      "[7.2717667e-06, -2.400577e-05, -0.0003039539, -0.0041993856, -0.012843728, 0.01755138, 0.99975455, 1.0]\n",
      "[-1.7642975e-05, -0.00048419833, -0.00025448203, -0.0040791035, -0.010807842, 0.013881706, 0.9998369, 1.0]\n",
      "[7.1525574e-06, -0.00030489266, 0.00011780858, -0.0036914349, -0.009455323, 0.011521935, 0.9998821, 1.0]\n",
      "[4.6491623e-05, 0.00015601516, 0.00035479665, -0.0030709505, -0.008283764, 0.009818481, 0.99991274, 1.0]\n",
      "[0.00012433529, 5.2154064e-06, 0.000533849, -0.0029762983, -0.007301122, 0.00835279, 0.99993396, 1.0]\n",
      "[0.00049090385, -0.0011166185, 0.0007432997, -0.0038096905, -0.006189227, 0.0070342775, 0.99994886, 1.0]\n",
      "[0.00059103966, -0.0017834604, 0.00089016557, -0.004367113, -0.005470276, 0.006252926, 0.9999559, 1.0]\n",
      "[0.0004658699, -0.0017122179, 0.00090423226, -0.004471183, -0.00515303, 0.005856362, 0.9999596, 1.0]\n",
      "[0.00034224987, -0.0016099811, 0.00091043115, -0.004653573, -0.0049700737, 0.0053105857, 0.9999627, 1.0]\n",
      "[0.0, 0.0, 0.0, -0.006725192, 0.00037634373, 0.7406118, 0.6718993, 1.0]\n",
      "[0.0, 0.0, 0.0, -0.0067662597, 0.0005967021, 0.7235164, 0.69027376, 1.0]\n",
      "[0.0, 0.0, 0.0, -0.007406175, 0.0025627017, 0.6747916, 0.73796666, 1.0]\n",
      "[0.0, 0.0, 0.0, -0.008206189, 0.0051754713, 0.62242234, 0.7826214, 1.0]\n",
      "[0.0, 0.0, 0.0, -0.008448064, 0.008108199, 0.5673516, 0.8233925, 1.0]\n",
      "[0.0, 0.0, 0.0, -0.0084347725, 0.01010114, 0.5104823, 0.8597875, 1.0]\n",
      "[0.0, 0.0, 0.0, -0.008621693, 0.011576176, 0.4520911, 0.8918549, 1.0]\n",
      "[0.0, 0.0, 0.0, -0.009063661, 0.012234926, 0.39265236, 0.9195609, 1.0]\n",
      "[0.0, 0.0, 0.0, -0.00949806, 0.012524307, 0.3323167, 0.9430368, 1.0]\n",
      "[0.0, 0.0, 0.0, -0.010061562, 0.011971772, 0.27200496, 0.96216863, 1.0]\n",
      "[0.0, 0.0, 0.0, -0.010546625, 0.010640264, 0.21493703, 0.9765129, 1.0]\n",
      "[0.0, 0.0, 0.0, -0.01091224, 0.009301126, 0.16701967, 0.98584926, 1.0]\n",
      "[0.0, 0.0, 0.0, -0.011073232, 0.008154631, 0.1288296, 0.9915713, 1.0]\n",
      "[0.0, 0.0, 0.0, -0.011035264, 0.0071456432, 0.099399, 0.9949607, 1.0]\n",
      "[0.0, 0.0, 0.0, -0.010812938, 0.006417215, 0.07718828, 0.9969372, 1.0]\n",
      "[0.0, 0.0, 0.0, -0.010531127, 0.005895376, 0.06080669, 0.99807656, 1.0]\n",
      "[0.0, 0.0, 0.0, -0.010202616, 0.0054968596, 0.04836133, 0.9987626, 1.0]\n",
      "[-0.00028645992, 3.516674e-06, -0.010005489, -0.009842694, 0.0051936507, 0.039134085, 0.999172, -1.0]\n",
      "[-0.00014328957, 3.2380223e-05, -0.008957997, -0.009326547, 0.005105853, 0.03335637, 0.9993869, -1.0]\n",
      "[0.0008842945, 1.1533499e-05, -0.005054489, -0.007826418, 0.0050421953, 0.030638963, 0.99948716, -1.0]\n",
      "[-0.0025713444, -0.0065405816, 0.008445412, -0.008256614, -0.0015076995, -0.7191363, 0.6948184, -1.0]\n",
      "[-0.002753973, -0.0066092312, 0.008769423, -0.008092761, -0.0015900731, -0.703613, 0.7105356, -1.0]\n",
      "[-0.0038967133, -0.0040614903, 0.00487867, -0.0072678924, -0.004962325, -0.65391755, 0.7565145, -1.0]\n",
      "[-0.004545331, -4.1276217e-05, 0.0011881888, -0.004685104, -0.0093694925, -0.599818, 0.8000679, -1.0]\n",
      "[-0.004295349, 0.003124699, -0.0007916391, -0.0013051033, -0.013011336, -0.54252654, 0.8399368, -1.0]\n",
      "[-0.0034036636, 0.0047779977, -0.0012567937, 0.0022610426, -0.015242159, -0.48284748, 0.87556887, -1.0]\n",
      "[-0.0021982193, 0.0051184595, -0.0010345876, 0.0053985715, -0.016240656, -0.42133957, 0.9067415, -1.0]\n",
      "[-0.0011748075, 0.004480377, -0.0006441772, 0.0074166656, -0.01610893, -0.35910195, 0.9331298, -1.0]\n",
      "[-0.00058078766, 0.0036096126, -0.00033280253, 0.008078396, -0.015150666, -0.29736868, 0.95460826, -1.0]\n",
      "[-0.00029933453, 0.0029150993, -0.00021836162, 0.007913172, -0.013916433, -0.23706922, 0.9713608, -1.0]\n",
      "[-7.557869e-05, 0.002070725, -0.00015375018, 0.006827295, -0.012419522, -0.1830849, 0.98299485, -1.0]\n",
      "[7.677078e-05, 0.0013563931, -0.000116318464, 0.0056438446, -0.010992527, -0.13934226, 0.99016714, -1.0]\n",
      "[0.00011587143, 0.000954628, -0.0001232326, 0.0046102405, -0.009638041, -0.10527079, 0.9943862, -1.0]\n",
      "[0.00019025803, 0.0008238554, -9.498e-05, 0.0037407875, -0.008295238, -0.07914255, 0.9968217, -1.0]\n",
      "[0.00029468536, 0.0006322861, -6.696582e-05, 0.0030080676, -0.0069712996, -0.059261862, 0.9982136, -1.0]\n",
      "[0.00033068657, 0.0005710572, -5.2660704e-05, 0.0024125576, -0.005798638, -0.044251096, 0.9990006, -1.0]\n",
      "[0.000344038, 0.00057315826, -3.2633543e-05, 0.0019564629, -0.0048064888, -0.032972485, 0.9994427, 1.0]\n",
      "[0.00033521652, 0.00057920814, 2.05338e-05, 0.001616776, -0.0040238798, -0.024564104, 0.99968874, 1.0]\n",
      "[0.00033473969, 0.00018680096, 0.00033941865, 0.0009774566, -0.0035233498, -0.019183611, 0.99980927, 1.0]\n",
      "[0.000228405, -0.0005544871, 0.00038686395, 6.234646e-05, -0.003399402, -0.016194895, 0.999863, 1.0]\n",
      "[5.9604645e-05, -0.00094392896, 0.00045505166, -0.00053691864, -0.0035274327, -0.014603071, 0.999887, 1.0]\n",
      "[8.404255e-05, -0.00014449656, 0.0006764233, -0.00010883808, -0.0034205914, -0.013272508, 0.99990606, 1.0]\n",
      "[4.7922134e-05, 0.0011326373, 0.00087812543, 0.00071418285, -0.0033759773, -0.011928538, 0.9999229, 1.0]\n",
      "[-2.8848648e-05, 0.0012704581, 0.00091281533, 0.00067198277, -0.00341475, -0.010445795, 0.9999393, 1.0]\n",
      "[-4.9114227e-05, 0.0012446195, 0.0009032786, 0.0007644892, -0.0034416318, -0.009672544, 0.999947, 1.0]\n",
      "[-5.6505203e-05, 0.0012138486, 0.00089886785, 0.0008546114, -0.0034461617, -0.009131143, 0.999952, 1.0]\n",
      "[0.0, 0.0, 0.0, -0.001922667, -0.0030224323, 0.73142934, 0.6819079, 1.0]\n",
      "[0.0, 0.0, 0.0, -0.0018907785, -0.0029407144, 0.71427554, 0.69985586, 1.0]\n",
      "[0.0, 0.0, 0.0, -0.0026687384, -0.000967443, 0.6643811, 0.74738866, 1.0]\n",
      "[0.0, 0.0, 0.0, -0.003405571, 0.0016750097, 0.61066216, 0.7918821, 1.0]\n",
      "[0.0, 0.0, 0.0, -0.0037579536, 0.004095018, 0.5546301, 0.83207834, 1.0]\n",
      "[0.0, 0.0, 0.0, -0.0038141608, 0.0059564114, 0.4967149, 0.86788493, 1.0]\n",
      "[0.0, 0.0, 0.0, -0.0036013126, 0.007256627, 0.4374206, 0.89922047, 1.0]\n",
      "[0.0, 0.0, 0.0, -0.003213644, 0.007881224, 0.3772351, 0.9260783, 1.0]\n",
      "[0.0, 0.0, 0.0, -0.002768457, 0.0079728365, 0.31629115, 0.9486246, 1.0]\n",
      "[0.0, 0.0, 0.0, -0.0024212599, 0.0076302886, 0.25570598, 0.9667214, 1.0]\n",
      "[0.0, 0.0, 0.0, -0.0021212697, 0.0069648623, 0.20019573, 0.9797289, 1.0]\n",
      "[0.0, 0.0, 0.0, -0.0019471049, 0.006299436, 0.15448031, 0.9879738, 1.0]\n",
      "[0.0, 0.0, 0.0, -0.001740098, 0.0057039857, 0.118988544, 0.99287766, 1.0]\n",
      "[0.0, 0.0, 0.0, -0.0016534925, 0.005218625, 0.091667235, 0.9957745, 1.0]\n",
      "[0.0, 0.0, 0.0, -0.0016293228, 0.0047956705, 0.07065335, 0.997488, 1.0]\n",
      "[0.0, 0.0, 0.0, -0.0016122758, 0.004444778, 0.05500874, 0.9984746, 1.0]\n",
      "[5.042553e-05, -0.00011430681, -0.00993897, -0.0016435683, 0.00417912, 0.04328108, 0.99905276, -1.0]\n",
      "[0.0003426075, -0.00020414591, -0.0088339, -0.0012992322, 0.0040932894, 0.03558263, 0.9993575, -1.0]\n",
      "[0.0013992786, -0.00020693243, -0.005003229, 5.0246716e-05, 0.0039842725, 0.031791866, 0.9994865, -1.0]\n",
      "[0.0023540258, 0.0016311407, 0.009324342, -0.0021705031, 0.0034158826, -0.71881515, 0.6951894, -1.0]\n",
      "[0.00244987, 0.0015792996, 0.00976184, -0.0021181107, 0.0034900904, -0.7033785, 0.71080375, -1.0]\n",
      "[0.0006592274, 0.002484426, 0.0059446394, -0.0015345216, 5.632639e-05, -0.65266794, 0.7576425, -1.0]\n",
      "[-0.0014100075, 0.0038772225, 0.002013117, 0.001021564, -0.005140424, -0.59645766, 0.80262744, -1.0]\n",
      "[-0.0023292303, 0.004756242, -0.00020608306, 0.004255116, -0.009300292, -0.5373342, 0.8433073, -1.0]\n",
      "[-0.0022654533, 0.005012855, -0.0009740293, 0.0076315403, -0.011804581, -0.47633424, 0.8791519, -1.0]\n",
      "[-0.001452446, 0.00478746, -0.0008825958, 0.0105089545, -0.012785196, -0.4142987, 0.90999043, -1.0]\n",
      "[-0.000516057, 0.0041913986, -0.00054463744, 0.012220025, -0.012599528, -0.35211793, 0.93579096, -1.0]\n",
      "[0.00024831295, 0.0033831447, -0.00019344687, 0.012641549, -0.011515677, -0.29041436, 0.9567481, -1.0]\n",
      "[0.00061392784, 0.002760306, -4.3809414e-06, 0.012194157, -0.009987593, -0.23048547, 0.972948, -1.0]\n",
      "[0.00080800056, 0.0020103455, 1.40964985e-05, 0.010792434, -0.008418977, -0.17768574, 0.9839921, -1.0]\n",
      "[0.0008045435, 0.0013777018, -1.9878149e-05, 0.0090994835, -0.0071602464, -0.1351265, 0.9907607, -1.0]\n",
      "[0.0006277561, 0.00095526874, -5.5760145e-05, 0.0074560046, -0.0062397122, -0.10203692, 0.99473304, -1.0]\n",
      "[0.0004605055, 0.000672251, -9.4503164e-05, 0.005969286, -0.005488664, -0.076714106, 0.9970201, -1.0]\n",
      "[0.00040018559, 0.0005287528, -9.62913e-05, 0.0047204494, -0.004749626, -0.057502568, 0.99832284, -1.0]\n",
      "[0.00034070015, 0.0005248636, -6.482005e-05, 0.0037270784, -0.004067719, -0.042980384, 0.9990606, -1.0]\n",
      "[0.00031852722, 0.00054211915, -4.2289495e-05, 0.002957642, -0.0034751892, -0.032038607, 0.9994762, 1.0]\n",
      "[0.00040757656, 0.0005802661, 2.6971102e-05, 0.0023878813, -0.0028960109, -0.023859449, 0.99970824, 1.0]\n",
      "[0.0008094311, 0.0008544475, 0.00030699372, 0.002271831, -0.0020484626, -0.018439846, 0.99982524, 1.0]\n",
      "[0.0006504059, 0.00076146424, 0.0004759133, 0.0019432306, -0.0019520223, -0.015702365, 0.9998729, 1.0]\n",
      "[0.0007753372, 0.0006584972, 0.0007677376, 0.0016176105, -0.0015943646, -0.013799125, 0.9999022, 1.0]\n",
      "[0.0007362366, 0.0009022653, 0.000924021, 0.0014667511, -0.0014513731, -0.01204325, 0.9999254, 1.0]\n",
      "[0.0008049011, 0.0010792464, 0.0010798275, 0.0012916923, -0.0012269318, -0.010130876, 0.9999471, 1.0]\n",
      "[0.00071799755, -0.0011762083, 0.0010683835, -0.0006586313, -0.0013592541, -0.008748764, 0.99996054, 1.0]\n",
      "[0.00085902214, -0.0037136078, 0.001069814, -0.0023038387, -0.0013120174, -0.008165939, 0.99996305, 1.0]\n",
      "[0.00082707405, -0.0034831464, 0.001062423, -0.002426982, -0.0012961924, -0.008224733, 0.99996233, 1.0]\n",
      "[0.0, 0.0, 0.0, -0.0027701855, 0.0012212992, 0.73155487, 0.68177587, 1.0]\n",
      "[0.0, 0.0, 0.0, -0.0027529001, 0.0014895201, 0.7141611, 0.6999743, 1.0]\n",
      "[0.0, 0.0, 0.0, -0.0031092763, 0.0035099387, 0.6645175, 0.74725795, 1.0]\n",
      "[0.0, 0.0, 0.0, -0.0034585, 0.005978942, 0.6111447, 0.79148877, 1.0]\n",
      "[0.0, 0.0, 0.0, -0.0034018755, 0.008475423, 0.5553115, 0.83159214, 1.0]\n",
      "[0.0, 0.0, 0.0, -0.0031614304, 0.010444522, 0.49754125, 0.86737156, 1.0]\n",
      "[0.0, 0.0, 0.0, -0.0028176904, 0.011803806, 0.43842214, 0.89868724, 1.0]\n",
      "[0.0, 0.0, 0.0, -0.0025731325, 0.0123259425, 0.3784342, 0.9255425, 1.0]\n",
      "[0.0, 0.0, 0.0, -0.0023869276, 0.012400329, 0.31770486, 0.94810545, 1.0]\n",
      "[0.0, 0.0, 0.0, -0.0022910237, 0.01170218, 0.25721756, 0.96628, 1.0]\n",
      "[0.0, 0.0, 0.0, -0.0020607114, 0.0105345845, 0.20139131, 0.979452, 1.0]\n",
      "[0.0, 0.0, 0.0, -0.0018353462, 0.009376049, 0.15547267, 0.9877939, 1.0]\n",
      "[0.0, 0.0, 0.0, -0.0016441941, 0.008505762, 0.119570464, 0.9927879, 1.0]\n",
      "[0.0, 0.0, 0.0, -0.0012060404, 0.007855415, 0.09222287, 0.9957067, 1.0]\n",
      "[0.0, 0.0, 0.0, -0.0009895563, 0.0074357986, 0.07152811, 0.99741036, 1.0]\n",
      "[0.0, 0.0, 0.0, -0.0009950697, 0.006721318, 0.055638224, 0.99842775, 1.0]\n",
      "[9.894371e-05, -0.00036679208, -0.0099681765, -0.00096198916, 0.0061710477, 0.0436818, 0.99902594, -1.0]\n",
      "[0.00041675568, -0.0004695952, -0.008978859, -0.00060528517, 0.0059095025, 0.03578973, 0.9993416, -1.0]\n",
      "[0.0008121729, -0.000656724, -0.005344644, -0.0001193881, 0.0059915185, 0.032167464, 0.9994645, -1.0]\n",
      "[0.0052343607, -0.0002425015, 0.00868538, -0.0039188266, 0.004245281, -0.71870685, 0.69528913, -1.0]\n",
      "[0.005190611, -0.00020381808, 0.009234458, -0.0038720965, 0.0043031573, -0.70353645, 0.71063554, -1.0]\n",
      "[0.0022729635, 0.0008183569, 0.0055740178, -0.0036041737, 0.0008112788, -0.6531377, 0.75723016, -1.0]\n",
      "[-0.0009918213, 0.0028364062, 0.0017974675, -0.0011454225, -0.004501581, -0.5973304, 0.80198175, -1.0]\n",
      "[-0.002507329, 0.0043153465, -0.0002387464, 0.0019223094, -0.008859873, -0.53857726, 0.8425274, -1.0]\n",
      "[-0.0025280714, 0.004944429, -0.00086066127, 0.005324602, -0.011506617, -0.47773802, 0.8784108, -1.0]\n",
      "[-0.0017411709, 0.004886985, -0.0008098781, 0.008388877, -0.012779176, -0.41547936, 0.9094741, -1.0]\n",
      "[-0.0007171631, 0.0043240935, -0.00050494075, 0.010389268, -0.012709618, -0.35299128, 0.9354825, -1.0]\n",
      "[-3.349781e-05, 0.003415838, -0.00018426776, 0.010996878, -0.011636376, -0.29112798, 0.95655006, -1.0]\n",
      "[0.00030255318, 0.0027043968, -4.7653913e-05, 0.010659099, -0.010275662, -0.23104997, 0.9728292, -1.0]\n",
      "[0.0004452467, 0.0020617098, -3.7521124e-05, 0.009437323, -0.008840799, -0.17816077, 0.98391634, -1.0]\n",
      "[0.0004976988, 0.0013652593, -5.9574842e-05, 0.007910907, -0.007652819, -0.13551778, 0.9907137, -1.0]\n",
      "[0.00038468838, 0.00083075464, -0.00010070205, 0.0064309835, -0.0067519248, -0.10234544, 0.9947052, -1.0]\n",
      "[0.00026226044, 0.0006862879, -0.00012812018, 0.0051526427, -0.0059654713, -0.07699947, 0.997, -1.0]\n",
      "[0.00019335747, 0.000611946, -0.000121086836, 0.00409317, -0.0051752925, -0.05774919, 0.9983093, -1.0]\n",
      "[0.00016975403, 0.0006995201, -8.007884e-05, 0.0032410622, -0.00441131, -0.043157447, 0.99905324, -1.0]\n",
      "[0.00022041798, 0.00069510937, -5.814433e-05, 0.0025931597, -0.0037632883, -0.03217794, 0.99947155, 1.0]\n",
      "[0.00026643276, 0.0006553978, -4.169345e-05, 0.0021000504, -0.003250897, -0.023962095, 0.9997054, 1.0]\n",
      "[0.00046479702, 0.00055135787, 0.00048461556, 0.0015971661, -0.0027575195, -0.018190667, 0.9998294, 1.0]\n",
      "[0.00051128864, 0.001076445, 0.0006918013, 0.001697123, -0.0025113225, -0.0144071635, 0.9998916, 1.0]\n",
      "[0.00063622, 0.0016592592, 0.0007838309, 0.0020779371, -0.0021573305, -0.011646774, 0.99992764, 1.0]\n",
      "[0.00046217442, 0.0016520768, 0.0008688271, 0.001946032, -0.0021896064, -0.009627271, 0.99994934, 1.0]\n",
      "[0.0005540848, 0.00040468574, 0.001145035, 0.00073355436, -0.0020622313, -0.008486524, 0.9999616, 1.0]\n",
      "[0.00049591064, 4.0516257e-05, 0.0012098849, 0.00029295683, -0.0020051599, -0.007463323, 0.99997, 1.0]\n",
      "[0.0005136728, 7.921457e-05, 0.001224786, 2.425909e-05, -0.0018862486, -0.0063061547, 0.9999783, 1.0]\n",
      "[0.0005391836, 0.0005135536, 0.0012622178, 4.7683716e-05, -0.001724422, -0.00506747, 0.99998564, 1.0]\n",
      "[0.0, 0.0, 0.0, 0.0013866425, -0.0034513474, 0.7346292, 0.6784585, 1.0]\n",
      "[0.0, 0.0, 0.0, 0.0014055967, -0.0029745102, 0.71807814, 0.6959547, 1.0]\n",
      "[0.0, 0.0, 0.0, -0.0035435557, 0.0040952563, 0.66604424, 0.7458926, 1.0]\n",
      "[0.0, 0.0, 0.0, -0.008437514, 0.012186229, 0.6097231, 0.79247576, 1.0]\n",
      "[0.0, 0.0, 0.0, -0.012663186, 0.019243717, 0.5512011, 0.83405447, 1.0]\n",
      "[0.0, 0.0, 0.0, -0.011738479, 0.021738052, 0.49395892, 0.8691341, 1.0]\n",
      "[0.0, 0.0, 0.0, -0.010751247, 0.022285879, 0.436375, 0.89942455, 1.0]\n",
      "[0.0, 0.0, 0.0, -0.010014057, 0.02255261, 0.3773513, 0.9257413, 1.0]\n",
      "[0.0, 0.0, 0.0, -0.009383976, 0.021824181, 0.31801447, 0.94778824, 1.0]\n",
      "[0.0, 0.0, 0.0, -0.008864224, 0.0198915, 0.25919473, 0.9655795, 1.0]\n",
      "[0.0, 0.0, 0.0, -0.008419931, 0.017136574, 0.2035149, 0.97888565, 1.0]\n",
      "[0.0, 0.0, 0.0, -0.0077913404, 0.014665186, 0.15720752, 0.9874259, 1.0]\n",
      "[0.0, 0.0, 0.0, -0.007237911, 0.0128189325, 0.12097439, 0.99254644, 1.0]\n",
      "[0.0, 0.0, 0.0, -0.006689787, 0.011251509, 0.09292391, 0.9955871, 1.0]\n",
      "[0.0, 0.0, 0.0, -0.006116897, 0.010016441, 0.0714601, 0.99737436, 1.0]\n",
      "[0.0, 0.0, 0.0, -0.005536914, 0.008965552, 0.05530134, 0.99841404, 1.0]\n",
      "[-6.759167e-05, -0.00026921928, -0.009996787, -0.0050454736, 0.008095145, 0.043105423, 0.999025, -1.0]\n",
      "[0.00022768974, -0.0004478097, -0.00890924, -0.0044770837, 0.007846296, 0.035105914, 0.9993427, -1.0]\n",
      "[0.0013149977, -0.00042411685, -0.0050434023, -0.0030113757, 0.0076507926, 0.031467617, 0.99947095, -1.0]\n",
      "[0.0031616688, -0.00029557943, 0.009671837, -0.0067249537, 0.0036222339, -0.7188196, 0.6951547, -1.0]\n",
      "[0.0028834343, -0.00030125678, 0.010013729, -0.0067546368, 0.0035408735, -0.70333654, 0.7108161, -1.0]\n",
      "[0.00068354607, 0.000830248, 0.0059709847, -0.00631541, -9.75132e-05, -0.65291774, 0.7574024, -1.0]\n",
      "[-0.0017337799, 0.0030141026, 0.001945883, -0.003655374, -0.005329907, -0.59726113, 0.8020207, -1.0]\n",
      "[-0.0030276775, 0.004384175, -0.00029191375, -0.00069898367, -0.00981915, -0.53866446, 0.84246284, -1.0]\n",
      "[-0.0031633377, 0.0049078166, -0.0010235012, 0.002589643, -0.012701213, -0.4779165, 0.8783096, -1.0]\n",
      "[-0.002461195, 0.0048270524, -0.00094649196, 0.005609691, -0.014099956, -0.41582054, 0.90932006, -1.0]\n",
      "[-0.0013713837, 0.004247546, -0.0005865991, 0.0076853037, -0.014150977, -0.3533964, 0.935335, -1.0]\n",
      "[-0.0005791187, 0.003454566, -0.00026401877, 0.008447349, -0.013214231, -0.29150876, 0.95643955, -1.0]\n",
      "[-0.000202775, 0.0028124899, -9.87947e-05, 0.008274615, -0.011981845, -0.23137188, 0.9727563, -1.0]\n",
      "[-2.3841858e-07, 0.0020803064, -8.2701445e-05, 0.007248819, -0.010606825, -0.17839651, 0.9838748, -1.0]\n",
      "[8.058548e-05, 0.0015042275, -9.74834e-05, 0.00598979, -0.009377718, -0.13569207, 0.99068856, -1.0]\n",
      "[0.0001552105, 0.0010977536, -0.00012537837, 0.0048546195, -0.008258909, -0.10248102, 0.99468875, -1.0]\n",
      "[0.0001424551, 0.0009147227, -0.00012537837, 0.0039007068, -0.0071495473, -0.0770204, 0.99699616, -1.0]\n",
      "[0.00021207333, 0.0008030683, -0.00010022521, 0.0031134486, -0.006063491, -0.057658967, 0.99831307, -1.0]\n",
      "[0.0003042221, 0.0007265359, -7.6144934e-05, 0.0024737716, -0.005063653, -0.04304227, 0.9990573, -1.0]\n",
      "[0.00035381317, 0.00068870187, -5.814433e-05, 0.0019708276, -0.004198104, -0.032039724, 0.99947584, 1.0]\n",
      "[0.00036978722, 0.0006599575, -3.167987e-05, 0.001573503, -0.0034891665, -0.023796152, 0.9997095, 1.0]\n",
      "[0.00042200089, 0.00057685375, 0.00045517087, 0.0011041164, -0.003012091, -0.018032346, 0.9998323, 1.0]\n",
      "[0.00045704842, 0.00084127486, 0.0006212294, 0.0010913014, -0.0027327538, -0.014286326, 0.99989355, 1.0]\n",
      "[0.00046944618, 0.000831902, 0.0008062422, 0.0009661913, -0.0025576055, -0.011410181, 0.9999311, 1.0]\n",
      "[0.000441432, 0.0005809963, 0.0009888709, 0.000706017, -0.0025008023, -0.009106817, 0.9999552, 1.0]\n",
      "[0.00053954124, 0.00018894672, 0.0011561215, 0.00032144785, -0.0023407042, -0.0073036402, 0.99997056, 1.0]\n",
      "[0.00049853325, -0.00016959012, 0.001129061, -0.00012099743, -0.0023337305, -0.005847632, 0.9999801, 1.0]\n",
      "[0.0003938675, -0.0027553886, 0.0011180937, -0.0022507906, -0.002578944, -0.0051331692, 0.9999809, 1.0]\n",
      "[0.00053715706, -0.003169492, 0.0010934174, -0.0024564266, -0.002490878, -0.0045891944, 0.9999833, 1.0]\n",
      "[0.0, 0.0, 0.0, -0.004056573, 0.0006046295, 0.73435897, 0.6787489, 1.0]\n",
      "[0.0, 0.0, 0.0, -0.003936231, 0.00075924397, 0.7170432, 0.697017, 1.0]\n",
      "[0.0, 0.0, 0.0, -0.004591286, 0.0034381151, 0.6671536, 0.74489796, 1.0]\n",
      "[0.0, 0.0, 0.0, -0.004942417, 0.0058535933, 0.6141174, 0.7891775, 1.0]\n",
      "[0.0, 0.0, 0.0, 0.0, 0.0, 0.0, 1.0, -1.0]\n",
      "[0.0, 0.0, 0.0276815, 0.0, 0.0, 0.0, 1.0, -1.0]\n",
      "[0.0, 0.0, 0.026093692, 0.0, 0.0, 0.0, 1.0, -1.0]\n",
      "[0.0, 0.0, 0.020607501, 0.0, 0.0, 0.0, 1.0, -1.0]\n",
      "[0.0, 0.0, 0.015226513, 0.0, 0.0, 0.0, 1.0, -1.0]\n",
      "[0.0, 0.0, 0.011029035, 0.0, 0.0, 0.0, 1.0, -1.0]\n",
      "[0.0, 0.0, 0.075740285, 0.0, 2.9802322e-08, 5.9604645e-08, -0.99999994, -1.0]\n",
      "[-0.0033185482, 0.00022310019, 0.07140405, 0.0, 0.0, -2.9802322e-08, -0.9999999, -1.0]\n",
      "[-0.009943485, 0.00089247525, 0.075089954, 0.0, 0.0, 2.9802322e-08, -1.0, -1.0]\n",
      "[-0.011260748, 0.0027172863, 0.077335894, 5.9604645e-08, 5.9604645e-08, 4.4703484e-08, -0.99999994, -1.0]\n",
      "[-0.009856224, 0.0045829415, 0.0606326, 0.0, -5.9604645e-08, -2.9802322e-08, -1.0000001, -1.0]\n",
      "[-0.00807929, 0.005497843, 0.020212322, -5.9604645e-08, -2.9802322e-08, 0.0, -1.0000001, -1.0]\n",
      "[-0.0098798275, 0.005173877, -0.0016236007, 0.0, -1.4901161e-08, -1.4901161e-08, -0.99999994, -1.0]\n",
      "[-0.009964228, 0.0047385693, -0.0073074996, 5.9604645e-08, 5.9604645e-08, 8.940697e-08, -1.0, -1.0]\n",
      "[-0.0066713095, 0.0037816614, -0.0054835975, -5.9604645e-08, 0.0, 1.4901161e-08, -0.99999994, -1.0]\n",
      "[-0.0021916628, 0.0026453882, -0.0019130409, 0.0, -2.9802322e-08, -5.9604645e-08, -1.0, -1.0]\n",
      "[0.0006659031, 0.0016735196, 0.0006031096, -5.9604645e-08, -2.9802322e-08, -4.4703484e-08, -0.99999994, -1.0]\n",
      "[0.0012544394, 0.0011924207, 0.0014682114, -5.9604645e-08, 1.4901161e-08, 0.0, -0.9999999, -1.0]\n",
      "[0.0011069775, 0.0010125339, 0.0014996827, 5.9604645e-08, 4.4703484e-08, 4.4703484e-08, -1.0, -1.0]\n",
      "[0.0007984638, 0.0009202361, 0.0013019145, -5.9604645e-08, 2.9802322e-08, 2.9802322e-08, -1.0, -1.0]\n",
      "[0.000562191, 0.000839144, 0.0011048615, 0.0, 1.4901161e-08, 1.4901161e-08, -1.0, -1.0]\n",
      "[0.00049448013, 0.0007875562, 0.0010046065, 0.0, -7.4505806e-08, -5.9604645e-08, -1.0, -1.0]\n",
      "[0.00048947334, 0.0007571876, 0.0009638369, 0.0, -4.4703484e-08, -8.940697e-08, -0.99999994, -1.0]\n",
      "[0.0004825592, 0.00073230267, 0.00094917417, 5.9604645e-08, -4.4703484e-08, -5.9604645e-08, -0.9999999, -1.0]\n",
      "[0.00048732758, 0.00070397556, 0.00095286965, 0.0, 2.9802322e-08, 1.4901161e-08, -0.9999999, -1.0]\n",
      "[0.0004981756, 0.0006765872, 0.0009610951, 5.9604645e-08, 1.4901161e-08, -1.4901161e-08, -0.99999994, -1.0]\n",
      "[0.00051283836, 0.0006560534, 0.00096943974, 0.0, 5.9604645e-08, 4.4703484e-08, -0.9999999, -1.0]\n",
      "[0.0005283356, 0.0006388128, 0.000975281, 0.0, -1.4901161e-08, -4.4703484e-08, -0.9999998, -1.0]\n",
      "[0.00054478645, 0.00062064826, 0.0009818375, -5.9604645e-08, 4.4703484e-08, 4.4703484e-08, -0.99999994, -1.0]\n",
      "[0.0005578995, 0.0006006062, 0.0009869635, 0.0, -2.9802322e-08, -1.4901161e-08, -1.0, -1.0]\n",
      "[0.0005674362, 0.0005838722, 0.0009907782, 0.0, 5.9604645e-08, 5.9604645e-08, -1.0, -1.0]\n",
      "[0.0005745888, 0.0005709678, 0.0009907782, -5.9604645e-08, 1.4901161e-08, 2.9802322e-08, -0.99999994, -1.0]\n",
      "[0.0005750656, -0.113250196, 0.0, 2.2053719e-05, -1.8328428e-05, -0.00038275123, -0.9999999, -1.0]\n",
      "[-0.0012303591, -0.11426869, 0.0, -0.0014907718, 0.0010941625, 0.0037739724, -0.9999911, -1.0]\n",
      "[-0.0061876774, -0.11605769, 0.0, -0.0072129965, 0.005079359, 0.017915502, -0.9998005, -1.0]\n",
      "[-0.006727934, -0.117099024, 0.0, -0.014128387, 0.0088291615, 0.02929242, -0.999432, -1.0]\n",
      "[-0.0033464432, -0.11776483, 0.0, -0.020049393, 0.010342866, 0.032476604, -0.9992178, -1.0]\n",
      "[0.0011708736, -0.111429326, 0.0, -0.022584021, 0.008754283, 0.02978371, -0.99926287, -1.0]\n",
      "[0.0036580563, -0.06796872, 0.0, -0.02240938, 0.006398216, 0.025705352, -0.9993978, -1.0]\n",
      "[0.005308628, -0.014107555, 0.0, -0.023619175, 0.006258458, 0.026487082, -0.9993504, -1.0]\n",
      "[-0.1170612, -0.0958603, 0.0, 0.015088975, -0.0412367, -0.30626294, 0.9509337, -1.0]\n",
      "[-0.11171469, -0.08041056, 0.0, 0.017040849, -0.039503276, -0.30780965, 0.9504748, -1.0]\n",
      "[-0.114757426, -0.03261045, 0.0, 0.022506475, -0.033481598, -0.3053724, 0.951378, -1.0]\n",
      "[-0.11702612, -0.0035744458, 0.0, 0.027304947, -0.024202585, -0.27355918, 0.96116287, -1.0]\n",
      "[-0.11342575, 0.005669087, 0.0, 0.028391123, -0.014449894, -0.23745689, 0.9708755, -1.0]\n",
      "[-0.116117746, 0.004823804, 0.0, 0.027114987, -0.005234182, -0.19805273, 0.97980225, -1.0]\n",
      "[-0.11133243, 0.0017873496, 0.0, 0.024472952, 0.0022863746, -0.15715642, 0.98726773, -1.0]\n",
      "[-0.048962347, -0.0009737015, 0.0, 0.020841122, 0.007848918, -0.12250662, 0.9922177, -1.0]\n",
      "[-0.0033424497, -0.0033030063, 0.0, 0.017467082, 0.011310399, -0.10182874, 0.99458426, -1.0]\n",
      "[0.005808115, -0.005117759, 0.0, 0.016659856, 0.011866003, -0.098935716, 0.99488354, -1.0]\n",
      "[0.0048072934, -0.0041855425, 0.0, 0.016438484, 0.0118667185, -0.08916878, 0.99581015, -1.0]\n",
      "[0.0032207966, -0.00222148, 0.0, 0.015554905, 0.011501491, -0.072525285, 0.997179, -1.0]\n",
      "[0.0012218356, -0.0010349602, 0.0, 0.013418138, 0.010091424, -0.05606164, 0.9982861, -1.0]\n",
      "[0.0002206564, -0.00057433546, 0.0, 0.011548221, 0.008909583, -0.042942427, 0.998971, -1.0]\n",
      "[-0.00025427341, -0.000581488, 0.0, 0.009742796, 0.007951021, -0.032579463, 0.99939, -1.0]\n",
      "[-0.00051528215, -0.0007762462, 0.0, 0.008057296, 0.0069777668, -0.024483856, 0.9996433, -1.0]\n",
      "[-0.0007391572, -0.0010072291, -0.076020755, 0.0065176487, 0.005941838, -0.018205289, 0.9997953, -1.0]\n",
      "[0.0019288659, -0.0013897568, -0.07383681, 0.0056748986, 0.009765387, -0.016107645, 0.9998064, -1.0]\n",
      "[0.009298861, -0.0021997988, -0.070316836, 0.0047882795, 0.022506684, -0.015879348, 0.9996091, -1.0]\n",
      "[0.010540009, -0.0018842369, -0.07773436, 0.005027175, 0.028321236, -0.015561838, 0.999465, -1.0]\n",
      "[0.007881343, -0.000800997, -0.07235969, 0.0061128736, 0.028999299, -0.015228637, 0.9994446, -1.0]\n",
      "[0.0058969855, 0.00029106438, -0.075402126, 0.007460475, 0.029313654, -0.0144754425, 0.9994376, -1.0]\n",
      "[0.0043373704, 0.0011928082, -0.07139444, 0.008740544, 0.028516918, -0.013472475, 0.9994644, -1.0]\n",
      "[0.0034568906, 0.0016177893, -0.07409709, 0.009713292, 0.027344704, -0.012354359, 0.9995024, -1.0]\n",
      "[0.0028027892, 0.0013471395, -0.07349906, 0.009983838, 0.025724769, -0.011273071, 0.9995556, -1.0]\n",
      "[0.0022708774, 0.00090260804, -0.045299366, 0.009743571, 0.023623198, -0.009780202, 0.99962556, -1.0]\n",
      "[0.0034401417, 0.00083115697, -0.012880638, 0.010015368, 0.022639722, -0.008814674, 0.99965465, -1.0]\n",
      "[0.009339154, 0.0005056858, 0.0016310662, 0.009905636, 0.027967572, -0.0086639, 0.9995222, 1.0]\n",
      "[0.009357989, 0.00030490756, 0.0027926415, 0.009781539, 0.02828741, -0.008610383, 0.9995148, 1.0]\n",
      "[0.0065248013, -0.00023275614, 0.0015955418, 0.009423256, 0.026440114, -0.0081347, 0.9995729, 1.0]\n",
      "[0.0028107762, -0.00136213, 0.00028507411, 0.007960379, 0.022753805, -0.00758403, 0.99968064, 1.0]\n",
      "[0.00058561563, -0.0023359507, -0.00040514767, 0.0065829754, 0.019770801, -0.0074427146, 0.9997551, 1.0]\n",
      "[-0.00027620792, -0.0027449876, -0.00055618584, 0.0055142045, 0.017753184, -0.0074702725, 0.9997992, 1.0]\n",
      "[-0.0005308986, -0.0027142018, -0.00045616925, 0.0045574903, 0.01583898, -0.0070951767, 0.99983895, 1.0]\n",
      "[-0.00071269274, -0.002518788, -0.00033707917, 0.0035820007, 0.01363647, -0.0062037185, 0.99988127, 1.0]\n",
      "[-0.0009573102, -0.0023758411, -0.0002847463, 0.0026096702, 0.011289656, -0.005055083, 0.99992007, 1.0]\n",
      "[-0.0015980601, -0.0019031167, -0.00050266087, 0.0020640492, 0.008611053, -0.003965009, 0.9999528, 1.0]\n",
      "[-0.001430273, -0.0006708652, -0.00048299134, 0.0021198988, 0.0070681274, -0.0030249413, 0.99996805, 1.0]\n",
      "[-0.0010153055, 1.8134713e-05, -0.00049109757, 0.0022941828, 0.006517768, -0.0027498342, 0.99997234, 1.0]\n",
      "[-0.0008838177, -0.0004925281, -0.0005275756, 0.002067089, 0.006199509, -0.002797069, 0.9999747, 1.0]\n",
      "[-0.0069470406, -0.009240925, 0.07702371, -0.0025048256, 0.026587747, 0.035735272, 0.99900424, 1.0]\n",
      "[-0.009391487, -0.010241821, 0.0760214, -0.0034863949, 0.02330915, 0.035430573, 0.99909407, 1.0]\n",
      "[-0.015185595, -0.01190348, 0.07036161, -0.0056732893, 0.014593476, 0.034696206, 0.99927515, 1.0]\n",
      "[-0.01679033, -0.012706965, 0.078689754, -0.008091807, 0.0048852265, 0.03282545, 0.99941635, 1.0]\n",
      "[-0.012832701, -0.012808651, 0.07101507, -0.011671662, -0.00074839965, 0.03031767, 0.99947184, 1.0]\n",
      "[-0.0067575574, -0.012836993, 0.07379931, -0.016306639, -0.0023976285, 0.028239079, 0.9994652, 1.0]\n",
      "[9.149313e-05, -0.0123343915, 0.07463112, -0.020881057, -0.00058530644, 0.027618658, 0.99940026, 1.0]\n",
      "[0.0044088364, -0.012640312, 0.0787485, -0.02608639, 0.0012247395, 0.026545988, 0.99930626, 1.0]\n",
      "[0.0061191916, -0.013296559, 0.07391804, -0.03064704, 0.00056667253, 0.025174376, 0.99921304, 1.0]\n",
      "[0.005871594, -0.014170423, 0.07664589, -0.03461933, -0.0018784832, 0.024212264, 0.99910533, 1.0]\n",
      "[0.005092442, -0.014536038, 0.07796277, -0.037635446, -0.0039162887, 0.024053242, 0.9989942, 1.0]\n",
      "[0.0033832788, -0.015160948, 0.07968255, -0.04089582, -0.0073532686, 0.023893554, 0.9988505, 1.0]\n",
      "[0.0017928481, -0.015779063, 0.073670104, -0.04392904, -0.010969311, 0.024805825, 0.9986664, 1.0]\n",
      "[0.0003668666, -0.015982077, 0.06053886, -0.046198606, -0.014430421, 0.02613434, 0.99848604, 1.0]\n",
      "[0.00045228004, -0.014888719, 0.025734901, -0.046153784, -0.015000216, 0.027261445, 0.9984495, 1.0]\n",
      "[0.0005745292, -0.013983846, 0.009381056, -0.045336008, -0.01435923, 0.027214644, 0.9984976, 1.0]\n",
      "[-0.0009174943, -0.013125494, 0.0060192347, -0.044458568, -0.015510777, 0.0268282, 0.9985304, 1.0]\n",
      "[0.00052446127, -0.011955485, 0.007966757, -0.042251527, -0.012821054, 0.025512949, 0.99869883, 1.0]\n",
      "[0.002363801, -0.011888564, 0.010902643, -0.041672587, -0.009730317, 0.025746321, 0.9987521, 1.0]\n",
      "[0.0034139752, -0.012062326, 0.013029814, -0.041665316, -0.007745836, 0.025858067, 0.9987669, 1.0]\n",
      "[0.0037456155, -0.011987537, 0.01412034, -0.04140836, -0.0068849493, 0.026060041, 0.99877864, 1.0]\n",
      "[0.004076004, -0.011845261, 0.014541268, -0.040983915, -0.0061702738, 0.025968598, 0.99880314, 1.0]\n",
      "[0.0045549273, -0.011653304, 0.014684916, -0.040459037, -0.0053320006, 0.025100583, 0.99885154, 1.0]\n",
      "[0.004858434, -0.011453763, 0.014721036, -0.03998846, -0.004716845, 0.024360228, 0.9988919, 1.0]\n",
      "[0.0051569343, -0.011373639, 0.014759541, -0.039624274, -0.0040858462, 0.023578662, 0.99892795, 1.0]\n",
      "[0.011315703, 0.11172332, 0.01819849, -0.08012438, -0.011986304, 0.034964874, 0.99609923, 1.0]\n",
      "[0.009407163, 0.11524277, 0.017861366, -0.07875764, -0.011695545, 0.04002831, 0.99602115, 1.0]\n",
      "[0.0030425787, 0.11532662, 0.016264439, -0.07449508, -0.01171853, 0.05798653, 0.99546504, 1.0]\n",
      "[-0.00129354, 0.10384779, 0.014096975, -0.068942666, -0.0112565085, 0.06868531, 0.99518967, 1.0]\n",
      "[-0.0018354058, 0.028831944, 0.01240468, -0.063584924, -0.010001818, 0.06760747, 0.9956335, 1.0]\n",
      "[-0.001270771, -0.011055933, 0.011921644, -0.059649825, -0.009275723, 0.06811954, 0.99584913, 1.0]\n",
      "[-0.0007017851, -0.023335665, 0.012165189, -0.05824089, -0.009126017, 0.0743694, 0.9954868, 1.0]\n",
      "[1.9192696e-05, -0.022689031, 0.012515545, -0.057635665, -0.008226184, 0.072126925, 0.9956948, 1.0]\n",
      "[0.0013847351, -0.019177044, 0.013183236, -0.05663818, -0.0062925443, 0.06606035, 0.996187, 1.0]\n",
      "[0.0030282736, -0.015703555, 0.01392293, -0.055503726, -0.003914647, 0.058874108, 0.99671346, 1.0]\n",
      "[0.0043304563, -0.013489122, 0.014481068, -0.05442238, -0.0019974, 0.05265542, 0.99712664, 1.0]\n",
      "[0.005086124, -0.012539623, 0.014754057, -0.053462863, -0.00079957023, 0.047955092, 0.9974174, 1.0]\n",
      "[0.0056194067, -0.012044007, 0.014867067, -0.052614212, 0.00010698661, 0.044704232, 0.9976137, 1.0]\n",
      "[0.006112337, -0.0116009265, 0.0149463415, -0.05180967, 0.0009399578, 0.042535074, 0.9977502, 1.0]\n",
      "[0.0065438747, -0.011220957, 0.014989853, -0.051066875, 0.0016846918, 0.041136622, 0.9978462, 1.0]\n",
      "[0.0069155097, -0.010877155, 0.01502347, -0.05033493, 0.0023629256, 0.04000386, 0.99792814, 1.0]\n",
      "[0.0072332025, -0.010564879, 0.015084505, -0.04962319, 0.0030058771, 0.038910884, 0.9980053, 1.0]\n",
      "[0.007499695, -0.01028925, 0.015174508, -0.048941016, 0.0036155544, 0.037861824, 0.99807715, 1.0]\n",
      "[0.007699549, -0.010060835, 0.015270829, -0.048319936, 0.004166566, 0.036823377, 0.9981442, 1.0]\n",
      "[0.007869899, -0.009855064, 0.015358806, -0.047723114, 0.0046874546, 0.035817847, 0.9982071, 1.0]\n",
      "[0.00801146, -0.0096638575, 0.015424013, -0.047137737, 0.005179975, 0.03485378, 0.99826664, 1.0]\n",
      "[0.008109331, -0.0094879875, 0.015458703, -0.0465647, 0.0056386515, 0.03392353, 0.99832314, 1.0]\n",
      "[0.008155227, -0.009325344, 0.015462995, -0.046004534, 0.006049931, 0.033022694, 0.9983769, 1.0]\n",
      "[0.008158267, -0.009173702, 0.015447378, -0.045456767, 0.0064070486, 0.03214626, 0.99842834, 1.0]\n",
      "[0.00816083, -0.009030242, 0.015427113, -0.04491794, 0.006750237, 0.03129557, 0.99847746, 1.0]\n",
      "[0.11968849, 0.11901356, 0.015409946, -0.0443967, 0.007089261, 0.030464102, 0.9985241, 1.0]\n",
      "[0.11891444, 0.11259463, 0.0169034, -0.043573976, 0.0076057874, 0.034838304, 0.9984135, 1.0]\n",
      "[0.11525919, 0.113888495, 0.021421075, -0.04248035, 0.008029234, 0.051364634, 0.9977438, 1.0]\n",
      "[0.11356997, 0.11217901, 0.022741556, -0.043844223, 0.005556941, 0.06757259, 0.99673504, 1.0]\n",
      "[0.11465442, 0.11119701, 0.020416975, -0.0477466, 0.0006642826, 0.07375707, 0.99613243, 1.0]\n",
      "[0.117823556, 0.101393335, 0.016787171, -0.053034067, -0.004290037, 0.07047057, 0.99609375, 1.0]\n",
      "[0.11813781, 0.032614954, 0.0139859915, -0.057629645, -0.0067696683, 0.063679814, 0.99628204, 1.0]\n",
      "[0.1065744, -0.010699779, 0.012667656, -0.065496385, -0.011107929, 0.06249854, 0.9958317, 1.0]\n",
      "[0.027521253, -0.027796835, 0.0124681, -0.07386339, -0.018650653, 0.06245289, 0.9951361, 1.0]\n",
      "[-0.006504059, -0.030940471, 0.012058735, -0.07906401, -0.024855277, 0.058675546, 0.9948307, 1.0]\n",
      "[-0.008875608, -0.026156902, 0.011561632, -0.0777154, -0.025245395, 0.056624237, 0.995046, 1.0]\n",
      "[-0.0044198036, -0.019469202, 0.012065649, -0.07339311, -0.01956765, 0.053018417, 0.9957004, 1.0]\n",
      "[0.0015671253, -0.013137221, 0.013271213, -0.067552805, -0.012323052, 0.048533622, 0.99645835, 1.0]\n",
      "[0.0066643953, -0.009350747, 0.015065074, -0.063257515, -0.005918473, 0.0447692, 0.996975, 1.0]\n",
      "[0.009377122, -0.008158863, 0.016354322, -0.061344028, -0.0023654215, 0.043461546, 0.9971671, 1.0]\n",
      "[0.009835243, -0.007667154, 0.016708732, -0.06022501, -0.0012658723, 0.04240054, 0.997283, 1.0]\n",
      "[0.009531617, -0.007346779, 0.016562462, -0.059265375, -0.0006770231, 0.041322082, 0.9973864, 1.0]\n",
      "[0.008973122, -0.007069975, 0.016230583, -0.058335066, -0.00020197406, 0.04023135, 0.99748594, 1.0]\n",
      "[0.008522987, -0.0068537593, 0.015921354, -0.057404876, 0.00027260557, 0.03916293, 0.99758255, 1.0]\n",
      "[0.008302927, -0.0066229105, 0.015733838, -0.056467295, 0.0007742308, 0.038137313, 0.9976754, 1.0]\n",
      "[0.008214831, -0.0063848794, 0.015681624, -0.05551219, 0.0013483874, 0.037168723, 0.99776495, 1.0]\n",
      "[0.008335948, -0.006148845, 0.015722275, -0.054556727, 0.0019594356, 0.03625443, 0.9978503, 1.0]\n",
      "[0.008475184, -0.005920291, 0.015798211, -0.053639174, 0.0025488138, 0.035372563, 0.99793035, 1.0]\n",
      "[0.008588433, -0.005746603, 0.015875101, -0.052795827, 0.0031128824, 0.03449454, 0.9980045, 1.0]\n",
      "[0.008721113, -0.0056218803, 0.015930414, -0.05197549, 0.0036555603, 0.033644184, 0.99807477, 1.0]\n",
      "[0.008787513, -0.005451083, 0.015960574, -0.05117625, 0.0041743033, 0.032817, 0.9981416, 1.0]\n",
      "[0.008849144, -0.005319357, 0.015975475, -0.050401807, 0.0046623014, 0.032008626, 0.998205, 1.0]\n",
      "[0.008905172, -0.0052084923, 0.015977502, -0.049657583, 0.005102642, 0.031219143, 0.9982653, 1.0]\n",
      "[0.008934259, -0.005094707, 0.015974164, -0.048945963, 0.0054794624, 0.030448264, 0.99832225, 1.0]\n",
      "[0.008955717, -0.004996091, 0.01597178, -0.048265636, 0.0058539174, 0.02968416, 0.9983763, 1.0]\n",
      "[0.008928895, -0.0049226284, 0.015972972, -0.04764384, 0.0062392503, 0.028908465, 0.9984265, 1.0]\n",
      "[0.0089457035, -0.004863769, 0.015977383, -0.047035158, 0.006617043, 0.028150586, 0.9984745, 1.0]\n",
      "[0.008993626, -0.0047834218, 0.015983343, -0.0464319, 0.0069941133, 0.027413193, 0.99852073, 1.0]\n",
      "[0.009073496, -0.004684508, 0.015991807, -0.045838892, 0.007357754, 0.026696533, 0.9985649, 1.0]\n",
      "[0.009114504, -0.0046237707, 0.01599884, -0.045271516, 0.007676482, 0.025995292, 0.99860686, 1.0]\n",
      "[0.009124398, -0.0045408905, 0.016001701, -0.044734478, 0.007932603, 0.025309663, 0.99864674, 1.0]\n",
      "[0.009123087, -0.00447008, 0.015999556, -0.044205904, 0.008180901, 0.024640732, 0.99868494, 1.0]\n",
      "[0.009136081, -0.004412502, 0.01599443, -0.043685436, 0.008423939, 0.023989223, 0.9987218, 1.0]\n",
      "[0.009127736, -0.0043534636, 0.015984297, -0.043177783, 0.008661516, 0.023350434, 0.9987569, 1.0]\n",
      "[0.009170651, -0.004300624, 0.015969038, -0.042693853, 0.008899864, 0.022715757, 0.9987902, 1.0]\n",
      "[0.009158015, -0.0042752028, 0.01595354, -0.04225707, 0.009149484, 0.022070536, 0.99882114, 1.0]\n",
      "[0.009192467, -0.004235804, 0.015943885, -0.041839063, 0.009401806, 0.02143318, 0.99885017, 1.0]\n",
      "[0.009212136, -0.00421679, 0.015932798, -0.041426957, 0.0096464455, 0.020810464, 0.9988782, 1.0]\n",
      "[0.009265423, -0.004195124, 0.015921831, -0.041020274, 0.009884778, 0.020201992, 0.998905, 1.0]\n",
      "[0.009296656, -0.004165888, 0.015909433, -0.040619433, 0.010116115, 0.019606803, 0.99893105, 1.0]\n",
      "[0.00928843, -0.0041384697, 0.015904784, -0.040225983, 0.010340728, 0.019024787, 0.99895597, 1.0]\n",
      "[0.009296298, -0.0040795207, 0.015898466, -0.039842367, 0.010549907, 0.018455574, 0.99897987, 1.0]\n",
      "[0.009257793, -0.004108757, 0.015884042, -0.03946978, 0.010741722, 0.017897848, 0.9990028, 1.0]\n",
      "[0.009254932, -0.004048258, 0.015861988, -0.039108157, 0.010912158, 0.017354738, 0.9990246, 1.0]\n",
      "[0.009212017, -0.0040254593, 0.01583004, -0.038753152, 0.01107011, 0.016825072, 0.9990457, 1.0]\n",
      "[0.009166479, -0.0040017962, -0.07110779, -0.038407624, 0.011215612, 0.016308703, 0.99906605, 1.0]\n",
      "[0.010340691, -0.003978312, -0.07358353, -0.0377295, 0.014456995, 0.016294714, 0.9990505, 1.0]\n",
      "[0.0143892765, -0.0036999285, -0.076006114, -0.03564167, 0.025370818, 0.016747095, 0.9989021, 1.0]\n",
      "[0.017636657, -0.0035114586, -0.07560319, -0.033418715, 0.034790464, 0.01794288, 0.9986746, 1.0]\n",
      "[0.017886639, -0.0067571998, -0.07989422, -0.033519387, 0.04090829, 0.01810715, 0.99843633, 1.0]\n",
      "[0.0111477375, -0.011245042, -0.07232212, -0.03659141, 0.037775654, 0.02002528, 0.99841523, 1.0]\n",
      "[0.009837866, -0.011916488, -0.02122569, -0.037719846, 0.038771544, 0.021450303, 0.9983055, 1.0]\n",
      "[0.014299154, -0.010696858, 0.007909596, -0.03710556, 0.04583863, 0.021362796, 0.9980309, 1.0]\n",
      "[0.01735425, -0.0093075335, 0.018667996, -0.036158383, 0.050128814, 0.021181703, 0.9978633, 1.0]\n",
      "[0.017709017, -0.008714646, 0.020318866, -0.03570676, 0.05053997, 0.02136553, 0.9978548, 1.0]\n",
      "[0.01638794, -0.0082344115, 0.01825568, -0.035478115, 0.049208906, 0.021581836, 0.9979248, 1.0]\n",
      "[0.014827013, -0.0076070726, 0.01584223, -0.035169363, 0.047615424, 0.02187489, 0.9980067, 1.0]\n",
      "[0.014113426, -0.007095754, 0.015000284, -0.034792125, 0.046731386, 0.022282269, 0.99805266, 1.0]\n",
      "[0.014309645, -0.006552428, 0.015855849, -0.03428948, 0.046742693, 0.022694528, 0.9980602, 1.0]\n",
      "[0.014392734, -0.0061834455, 0.016277581, -0.033881903, 0.04666275, 0.023023117, 0.99807036, 1.0]\n",
      "[0.014185667, -0.005638927, 0.016433746, -0.033437252, 0.046325225, 0.023395702, 0.9980925, 1.0]\n",
      "[0.014267921, -0.0052229464, 0.016744912, -0.032980204, 0.04625344, 0.02372428, 0.99810326, 1.0]\n",
      "[0.014248133, -0.0050102174, 0.016999751, -0.032680154, 0.046070173, 0.024036102, 0.99811405, 1.0]\n",
      "[0.014278412, -0.004802346, 0.017125487, -0.032363713, 0.04596111, 0.024371494, 0.9981214, 1.0]\n",
      "[0.014333963, -0.0047759116, 0.017274886, -0.032161713, 0.04587241, 0.024587221, 0.9981266, 1.0]\n",
      "[0.0140321255, -0.0046863854, 0.017154217, -0.03198856, 0.045461822, 0.024854366, 0.9981443, 1.0]\n",
      "[0.013929963, -0.004455477, 0.017268449, -0.031713843, 0.045220517, 0.025176492, 0.998156, 1.0]\n",
      "[0.013916731, -0.0042568743, 0.01736474, -0.03144276, 0.04508057, 0.025442693, 0.9981641, 1.0]\n",
      "[0.013699174, -0.004275769, 0.017222404, -0.03128147, 0.044725705, 0.025720939, 0.998178, 1.0]\n",
      "[0.013528943, -0.004161656, 0.017107487, -0.030989885, 0.044424325, 0.026074812, 0.9981914, 1.0]\n",
      "[0.013493061, -0.004052967, 0.017125487, -0.030797243, 0.044275396, 0.02627287, 0.99819887, -1.0]\n",
      "[0.01256752, -0.004010141, 0.01545763, -0.030602694, 0.04330797, 0.026277505, 0.99824727, -1.0]\n"
     ]
    },
    {
     "data": {
      "text/plain": [
       "1"
      ]
     },
     "execution_count": 33,
     "metadata": {},
     "output_type": "execute_result"
    }
   ],
   "source": [
    "# Go through the demo and look for noops\n",
    "noops = []\n",
    "\n",
    "for action in data[\"actions\"]:\n",
    "    print(list(action))\n",
    "    if np.allclose(action[:-1], np.array([0.0, 0.0, 0.0, 0.0, 0.0, 0.0, 1.0])):\n",
    "        noops.append(action)\n",
    "\n",
    "len(noops)"
   ]
  },
  {
   "cell_type": "markdown",
   "metadata": {},
   "source": [
    "### Round table"
   ]
  },
  {
   "cell_type": "code",
   "execution_count": 8,
   "metadata": {},
   "outputs": [
    {
     "data": {
      "text/plain": [
       "396"
      ]
     },
     "execution_count": 8,
     "metadata": {},
     "output_type": "execute_result"
    }
   ],
   "source": [
    "demo_base = (\n",
    "    Path(os.environ[\"ROLLOUT_SAVE_DIR\"]) / \"raw\" / \"sim\" / \"round_table\" / \"high\"\n",
    ")\n",
    "paths = [path for path in demo_base.rglob(\"*.pkl\")]\n",
    "\n",
    "len(paths)"
   ]
  },
  {
   "cell_type": "code",
   "execution_count": 82,
   "metadata": {},
   "outputs": [
    {
     "name": "stderr",
     "output_type": "stream",
     "text": [
      "\n",
      "\u001b[A\n",
      "\u001b[A\n",
      "\u001b[A\n",
      "\u001b[A\n",
      "\u001b[A\n",
      "\u001b[A\n",
      "\u001b[A\n",
      "\u001b[A\n",
      "\u001b[A\n",
      "\u001b[A\n",
      "\u001b[A\n",
      "100%|██████████| 1039/1039 [00:01<00:00, 864.10it/s]\n"
     ]
    },
    {
     "name": "stdout",
     "output_type": "stream",
     "text": [
      "File saved as round_table_high.mp4\n"
     ]
    }
   ],
   "source": [
    "mp4_from_pickle(paths[1], \"round_table_high.mp4\")"
   ]
  },
  {
   "cell_type": "code",
   "execution_count": 39,
   "metadata": {},
   "outputs": [
    {
     "data": {
      "text/plain": [
       "(1, 471)"
      ]
     },
     "execution_count": 39,
     "metadata": {},
     "output_type": "execute_result"
    }
   ],
   "source": [
    "# Go through the demo and look for noops\n",
    "noops = []\n",
    "\n",
    "for i, action in enumerate(data[\"actions\"]):\n",
    "    if np.allclose(action[:-1], np.array([0.0, 0.0, 0.0, 0.0, 0.0, 0.0, 1.0])):\n",
    "        noops.append((i, action))\n",
    "\n",
    "len(noops), noops[0][0]"
   ]
  }
 ],
 "metadata": {
  "kernelspec": {
   "display_name": "venv",
   "language": "python",
   "name": "python3"
  },
  "language_info": {
   "codemirror_mode": {
    "name": "ipython",
    "version": 3
   },
   "file_extension": ".py",
   "mimetype": "text/x-python",
   "name": "python",
   "nbconvert_exporter": "python",
   "pygments_lexer": "ipython3",
   "version": "3.8.18"
  },
  "orig_nbformat": 4
 },
 "nbformat": 4,
 "nbformat_minor": 2
}
