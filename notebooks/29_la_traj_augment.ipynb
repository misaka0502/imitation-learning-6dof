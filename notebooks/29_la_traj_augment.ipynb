{
 "cells": [
  {
   "cell_type": "markdown",
   "metadata": {},
   "source": [
    "# Investigate the augmented trajectories"
   ]
  },
  {
   "cell_type": "markdown",
   "metadata": {},
   "source": [
    "## Analyze the `round_table` augmentation"
   ]
  },
  {
   "cell_type": "markdown",
   "metadata": {},
   "source": [
    "### Qualitatively analyze trajectories"
   ]
  },
  {
   "cell_type": "code",
   "execution_count": null,
   "metadata": {},
   "outputs": [],
   "source": [
    "from pathlib import Path\n",
    "from src.visualization.render_mp4 import (\n",
    "    mp4_from_pickle_jupyter,\n",
    "    unpickle_data,\n",
    "    pickle_data,\n",
    ")\n",
    "from src.common.files import get_raw_paths\n",
    "import random\n",
    "from tqdm import tqdm\n",
    "\n",
    "base_dir = Path(\"tmp\")"
   ]
  },
  {
   "cell_type": "code",
   "execution_count": null,
   "metadata": {},
   "outputs": [],
   "source": [
    "paths = get_raw_paths(\n",
    "    environment=\"sim\",\n",
    "    demo_source=\"augmentation\",\n",
    "    demo_outcome=\"success\",\n",
    "    task=\"round_table\",\n",
    "    randomness=\"low\",\n",
    ")\n",
    "\n",
    "random.shuffle(paths)\n",
    "\n",
    "len(paths), paths[:3]"
   ]
  },
  {
   "cell_type": "code",
   "execution_count": null,
   "metadata": {},
   "outputs": [],
   "source": [
    "# Loop over and see that I can read them all\n",
    "for path in tqdm(paths):\n",
    "    try:\n",
    "        data = unpickle_data(path)\n",
    "    except Exception as e:\n",
    "        print(f\"Failed to read {path}\")\n",
    "        print(e)"
   ]
  },
  {
   "cell_type": "code",
   "execution_count": null,
   "metadata": {},
   "outputs": [],
   "source": [
    "for path in paths[:20]:\n",
    "    mp4_from_pickle_jupyter(\n",
    "        path, filename=(base_dir / path.stem).with_suffix(\".mp4\"), fps=20\n",
    "    )"
   ]
  },
  {
   "cell_type": "markdown",
   "metadata": {},
   "source": [
    "### Plot coverage of new trajectories"
   ]
  },
  {
   "cell_type": "code",
   "execution_count": null,
   "metadata": {},
   "outputs": [],
   "source": [
    "import zarr\n",
    "import matplotlib.pyplot as plt\n",
    "import numpy as np\n",
    "\n",
    "\n",
    "from src.common.files import get_processed_paths"
   ]
  },
  {
   "cell_type": "code",
   "execution_count": null,
   "metadata": {},
   "outputs": [],
   "source": [
    "aug_path, teleop_path = sorted(\n",
    "    get_processed_paths(\n",
    "        environment=\"sim\",\n",
    "        demo_source=[\"teleop\", \"augmentation\"],\n",
    "        demo_outcome=\"success\",\n",
    "        task=\"round_table\",\n",
    "        randomness=\"low\",\n",
    "    )\n",
    ")\n",
    "\n",
    "aug_path, teleop_path"
   ]
  },
  {
   "cell_type": "code",
   "execution_count": null,
   "metadata": {},
   "outputs": [],
   "source": [
    "z_aug = zarr.open(str(aug_path), mode=\"r\")\n",
    "z_teleop = zarr.open(str(teleop_path), mode=\"r\")\n",
    "\n",
    "ends_aug = z_aug[\"episode_ends\"][:]\n",
    "ends_teleop = z_teleop[\"episode_ends\"][:]\n",
    "\n",
    "pos_teleop = z_teleop[\"robot_state\"][:, :3]\n",
    "pos_aug = z_aug[\"robot_state\"][:, :3]\n",
    "\n",
    "# Split the data into episodes\n",
    "pos_teleop = np.split(pos_teleop, ends_teleop[:-1])\n",
    "pos_aug = np.split(pos_aug, ends_aug[:-1])\n",
    "\n",
    "# # Concat them together again\n",
    "pos_teleop = np.concatenate(pos_teleop)\n",
    "pos_aug = np.concatenate(pos_aug)"
   ]
  },
  {
   "cell_type": "code",
   "execution_count": null,
   "metadata": {},
   "outputs": [],
   "source": [
    "len(ends_teleop), len(pos_teleop), len(ends_aug), len(pos_aug)"
   ]
  },
  {
   "cell_type": "markdown",
   "metadata": {},
   "source": [
    "### Plot the state-space coverage in 3D"
   ]
  },
  {
   "cell_type": "code",
   "execution_count": null,
   "metadata": {},
   "outputs": [],
   "source": [
    "fig = plt.figure(figsize=(6, 6))\n",
    "\n",
    "# Add a subplot for teleop data in the left side of the figure\n",
    "ax1 = fig.add_subplot(\n",
    "    111, projection=\"3d\"\n",
    ")  # Changed from 111 to 121 for a 1x2 grid, first position\n",
    "ax1.scatter(*pos_teleop.T, label=f\"Teleop (n={len(ends_teleop)})\", s=0.1)\n",
    "ax1.legend(frameon=False)\n",
    "ax1.set_title(\"Teleop data only\")\n",
    "ax1.set_xlabel(\"x\")\n",
    "ax1.set_ylabel(\"y\")\n",
    "ax1.set_zlabel(\"z\")\n",
    "\n",
    "plt.show()"
   ]
  },
  {
   "cell_type": "code",
   "execution_count": null,
   "metadata": {},
   "outputs": [],
   "source": [
    "fig = plt.figure(figsize=(6, 6))\n",
    "\n",
    "# Add a subplot for augmentation data in the right side of the figure\n",
    "ax2 = fig.add_subplot(\n",
    "    111, projection=\"3d\"\n",
    ")  # Changed from 111 to 122 for a 1x2 grid, second position\n",
    "ax2.scatter(*pos_teleop.T, label=f\"Teleop (n={len(ends_teleop)})\", s=0.2, alpha=0.5)\n",
    "ax2.scatter(*pos_aug.T, label=f\"Augmentation (n={len(ends_aug)})\", s=0.2, alpha=0.5)\n",
    "ax2.legend(frameon=False)\n",
    "ax2.set_title(\"Teleop and augmentation data\")\n",
    "ax2.set_xlabel(\"x\")\n",
    "ax2.set_ylabel(\"y\")\n",
    "ax2.set_zlabel(\"z\")\n",
    "\n",
    "plt.savefig(\"figs/teleop_augmentation.png\")\n",
    "\n",
    "plt.show()"
   ]
  },
  {
   "cell_type": "markdown",
   "metadata": {},
   "source": [
    "## Analyze the `lamp` augmentation"
   ]
  },
  {
   "cell_type": "markdown",
   "metadata": {},
   "source": [
    "### Qualitatively analyze trajectories"
   ]
  },
  {
   "cell_type": "code",
   "execution_count": null,
   "metadata": {},
   "outputs": [],
   "source": [
    "from pathlib import Path\n",
    "from src.visualization.render_mp4 import (\n",
    "    mp4_from_pickle_jupyter,\n",
    "    unpickle_data,\n",
    "    pickle_data,\n",
    ")\n",
    "from src.common.files import get_raw_paths\n",
    "import random\n",
    "from tqdm import tqdm\n",
    "\n",
    "base_dir = Path(\"tmp\")"
   ]
  },
  {
   "cell_type": "code",
   "execution_count": null,
   "metadata": {},
   "outputs": [],
   "source": [
    "paths = get_raw_paths(\n",
    "    environment=\"sim\",\n",
    "    demo_source=\"augmentation\",\n",
    "    demo_outcome=\"success\",\n",
    "    task=\"lamp\",\n",
    "    randomness=\"low\",\n",
    ")\n",
    "\n",
    "# random.shuffle(paths)\n",
    "\n",
    "paths = sorted(paths, reverse=True)\n",
    "\n",
    "len(paths), paths[:3]"
   ]
  },
  {
   "cell_type": "code",
   "execution_count": null,
   "metadata": {},
   "outputs": [],
   "source": [
    "for path in tqdm(paths):\n",
    "    data = unpickle_data(path)\n",
    "    if True or data.get(\"critical_state\", -1) == 1:\n",
    "        mp4_from_pickle_jupyter(\n",
    "            path, filename=(base_dir / path.stem).with_suffix(\".mp4\"), fps=20\n",
    "        )"
   ]
  },
  {
   "cell_type": "markdown",
   "metadata": {},
   "source": [
    "### Get stats on what critical state each is from"
   ]
  },
  {
   "cell_type": "code",
   "execution_count": null,
   "metadata": {},
   "outputs": [],
   "source": [
    "from collections import defaultdict"
   ]
  },
  {
   "cell_type": "code",
   "execution_count": null,
   "metadata": {},
   "outputs": [],
   "source": [
    "# Iterate over the paths and read in the data\n",
    "critical_state_paths = defaultdict(list)\n",
    "for path in tqdm(paths):\n",
    "    data = unpickle_data(path)\n",
    "\n",
    "    critical_state = data.get(\"critical_state\", 2)\n",
    "\n",
    "    critical_state_paths[critical_state].append(path)"
   ]
  },
  {
   "cell_type": "code",
   "execution_count": null,
   "metadata": {},
   "outputs": [],
   "source": [
    "# Budget of 400 augmentations\n",
    "400 / len(critical_state_paths)"
   ]
  },
  {
   "cell_type": "code",
   "execution_count": null,
   "metadata": {},
   "outputs": [],
   "source": [
    "[(k, len(v)) for k, v in critical_state_paths.items()]"
   ]
  },
  {
   "cell_type": "code",
   "execution_count": null,
   "metadata": {},
   "outputs": [],
   "source": [
    "# Pick 80 from each category at random\n",
    "random_paths = []\n",
    "for paths in critical_state_paths.values():\n",
    "    random_paths.extend(random.sample(paths, min(80, len(paths))))\n",
    "\n",
    "len(random_paths)"
   ]
  },
  {
   "cell_type": "code",
   "execution_count": null,
   "metadata": {},
   "outputs": [],
   "source": [
    "from random import sample\n",
    "\n",
    "def create_balanced_dataset(items_by_class, target_per_class=80, total_target=400):\n",
    "    selected_items = []\n",
    "    all_items = []\n",
    "    for class_items in items_by_class.values():\n",
    "        all_items.extend(class_items)\n",
    "        if len(class_items) >= target_per_class:\n",
    "            selected_items.extend(sample(class_items, target_per_class))\n",
    "        else:\n",
    "            selected_items.extend(class_items)\n",
    "    \n",
    "    shortfall = total_target - len(selected_items)\n",
    "    remaining_items = [item for item in all_items if item not in selected_items]\n",
    "    \n",
    "    if shortfall > 0:\n",
    "        selected_items.extend(sample(remaining_items, shortfall))\n",
    "    \n",
    "    return selected_items\n",
    "\n",
    "\n",
    "balanced_dataset = create_balanced_dataset(critical_state_paths)\n",
    "\n",
    "balanced_dataset\n"
   ]
  },
  {
   "cell_type": "code",
   "execution_count": null,
   "metadata": {},
   "outputs": [],
   "source": [
    "# Iterate over the paths and read in the data\n",
    "critical_state_paths_balanced = defaultdict(list)\n",
    "for path in tqdm(balanced_dataset):\n",
    "    data = unpickle_data(path)\n",
    "\n",
    "    critical_state = data.get(\"critical_state\", 2)\n",
    "\n",
    "    critical_state_paths_balanced[critical_state].append(path)\n",
    "\n"
   ]
  },
  {
   "cell_type": "code",
   "execution_count": null,
   "metadata": {},
   "outputs": [],
   "source": [
    "[(k, len(v)) for k, v in critical_state_paths_balanced.items()]"
   ]
  },
  {
   "cell_type": "code",
   "execution_count": null,
   "metadata": {},
   "outputs": [],
   "source": [
    "# Copy the files from the original location to a new location\n",
    "from shutil import copy\n",
    "\n",
    "for path in tqdm(balanced_dataset):\n",
    "    new_path = Path(str(path).replace(\"success\", \"balanced\"))\n",
    "    copy(path, new_path)"
   ]
  },
  {
   "cell_type": "markdown",
   "metadata": {},
   "source": [
    "### Plot coverage of new trajectories"
   ]
  },
  {
   "cell_type": "code",
   "execution_count": null,
   "metadata": {},
   "outputs": [],
   "source": [
    "import zarr\n",
    "import matplotlib.pyplot as plt\n",
    "import numpy as np\n",
    "\n",
    "\n",
    "from src.common.files import get_processed_paths"
   ]
  },
  {
   "cell_type": "code",
   "execution_count": null,
   "metadata": {},
   "outputs": [],
   "source": [
    "aug_path, teleop_path = sorted(\n",
    "    get_processed_paths(\n",
    "        environment=\"sim\",\n",
    "        demo_source=[\"teleop\", \"augmentation\"],\n",
    "        demo_outcome=\"success\",\n",
    "        task=\"lamp\",\n",
    "        randomness=\"low\",\n",
    "    )\n",
    ")\n",
    "\n",
    "aug_path, teleop_path"
   ]
  },
  {
   "cell_type": "code",
   "execution_count": null,
   "metadata": {},
   "outputs": [],
   "source": [
    "z_aug = zarr.open(str(aug_path), mode=\"r\")\n",
    "z_teleop = zarr.open(str(teleop_path), mode=\"r\")\n",
    "\n",
    "ends_aug = z_aug[\"episode_ends\"][:]\n",
    "ends_teleop = z_teleop[\"episode_ends\"][:]\n",
    "\n",
    "pos_teleop = z_teleop[\"robot_state\"][:, :3]\n",
    "pos_aug = z_aug[\"robot_state\"][:, :3]\n",
    "\n",
    "# Split the data into episodes\n",
    "pos_teleop = np.split(pos_teleop, ends_teleop[:-1])\n",
    "pos_aug = np.split(pos_aug, ends_aug[:-1])\n",
    "\n",
    "# # Get the skill labels for the teleop data and split them into episodes\n",
    "# skill_teleop = z_teleop[\"critical\"][:]\n",
    "# skill_teleop = np.split(skill_teleop, ends_teleop[:-1])\n",
    "\n",
    "# # For the teleop data, we slice off the data after the insertion\n",
    "# pos_teleop = [\n",
    "#     ep[: np.where(skill == 1)[0][3] + 1] for ep, skill in zip(pos_teleop, skill_teleop)\n",
    "# ]\n",
    "\n",
    "# # Concat them together again\n",
    "pos_teleop = np.concatenate(pos_teleop)\n",
    "pos_aug = np.concatenate(pos_aug)"
   ]
  },
  {
   "cell_type": "code",
   "execution_count": null,
   "metadata": {},
   "outputs": [],
   "source": [
    "len(ends_teleop), len(pos_teleop), len(ends_aug), len(pos_aug)"
   ]
  },
  {
   "cell_type": "markdown",
   "metadata": {},
   "source": [
    "### Plot the state-space coverage in 3D"
   ]
  },
  {
   "cell_type": "code",
   "execution_count": null,
   "metadata": {},
   "outputs": [],
   "source": [
    "fig = plt.figure(figsize=(6, 6))\n",
    "\n",
    "# Add a subplot for teleop data in the left side of the figure\n",
    "ax1 = fig.add_subplot(111, projection=\"3d\")\n",
    "\n",
    "ax1.scatter(*pos_teleop.T, label=f\"Teleop (n={len(ends_teleop)})\", s=0.1)\n",
    "\n",
    "ax1.legend(frameon=False)\n",
    "ax1.set_title(\"Teleop data only\")\n",
    "ax1.set_xlabel(\"x\")\n",
    "ax1.set_ylabel(\"y\")\n",
    "ax1.set_zlabel(\"z\")\n",
    "\n",
    "plt.show()"
   ]
  },
  {
   "cell_type": "code",
   "execution_count": null,
   "metadata": {},
   "outputs": [],
   "source": [
    "fig = plt.figure(figsize=(6, 6))\n",
    "\n",
    "# Add a subplot for augmentation data in the right side of the figure\n",
    "ax2 = fig.add_subplot(\n",
    "    111, projection=\"3d\"\n",
    ")  # Changed from 111 to 122 for a 1x2 grid, second position\n",
    "ax2.scatter(*pos_teleop.T, label=f\"Teleop (n={len(ends_teleop)})\", s=0.2, alpha=0.5)\n",
    "ax2.scatter(*pos_aug.T, label=f\"Augmentation (n={len(ends_aug)})\", s=0.2, alpha=0.5)\n",
    "ax2.legend(frameon=False)\n",
    "ax2.set_title(\"Teleop and augmentation data\")\n",
    "ax2.set_xlabel(\"x\")\n",
    "ax2.set_ylabel(\"y\")\n",
    "ax2.set_zlabel(\"z\")\n",
    "\n",
    "plt.savefig(\"teleop_augmentation.pdf\")\n",
    "\n",
    "plt.show()"
   ]
  },
  {
   "cell_type": "markdown",
   "metadata": {},
   "source": [
    "## Analyze the `square_table` augmentation"
   ]
  },
  {
   "cell_type": "code",
   "execution_count": null,
   "metadata": {},
   "outputs": [],
   "source": [
    "from pathlib import Path\n",
    "from src.visualization.render_mp4 import (\n",
    "    mp4_from_pickle_jupyter,\n",
    "    unpickle_data,\n",
    "    pickle_data,\n",
    ")\n",
    "from src.common.files import get_raw_paths\n",
    "import random\n",
    "from tqdm import tqdm"
   ]
  },
  {
   "cell_type": "code",
   "execution_count": null,
   "metadata": {},
   "outputs": [],
   "source": [
    "paths = get_raw_paths(\n",
    "    environment=\"sim\",\n",
    "    demo_source=\"augmentation\",\n",
    "    demo_outcome=\"success\",\n",
    "    task=\"square_table\",\n",
    "    randomness=\"low\",\n",
    ")\n",
    "\n",
    "random.shuffle(paths)\n",
    "\n",
    "len(paths), paths[:3]"
   ]
  },
  {
   "cell_type": "code",
   "execution_count": null,
   "metadata": {},
   "outputs": [],
   "source": [
    "for path in paths[:5]:\n",
    "    mp4_from_pickle_jupyter(path, filename=path.stem + \".mp4\", fps=20)"
   ]
  },
  {
   "cell_type": "markdown",
   "metadata": {},
   "source": [
    "### Plot coverage of new trajectories"
   ]
  },
  {
   "cell_type": "code",
   "execution_count": null,
   "metadata": {},
   "outputs": [],
   "source": [
    "import zarr\n",
    "import matplotlib.pyplot as plt\n",
    "import numpy as np\n",
    "\n",
    "\n",
    "from src.common.files import get_processed_paths"
   ]
  },
  {
   "cell_type": "code",
   "execution_count": null,
   "metadata": {},
   "outputs": [],
   "source": [
    "aug_path, teleop_path = sorted(\n",
    "    get_processed_paths(\n",
    "        environment=\"sim\",\n",
    "        demo_source=[\"teleop\", \"augmentation\"],\n",
    "        demo_outcome=\"success\",\n",
    "        task=\"square_table\",\n",
    "        randomness=\"low\",\n",
    "    )\n",
    ")\n",
    "\n",
    "aug_path, teleop_path"
   ]
  },
  {
   "cell_type": "code",
   "execution_count": null,
   "metadata": {},
   "outputs": [],
   "source": [
    "z_aug = zarr.open(str(aug_path), mode=\"r\")\n",
    "z_teleop = zarr.open(str(teleop_path), mode=\"r\")\n",
    "\n",
    "ends_aug = z_aug[\"episode_ends\"][:]\n",
    "ends_teleop = z_teleop[\"episode_ends\"][:]\n",
    "\n",
    "pos_teleop = z_teleop[\"robot_state\"][:, :3]\n",
    "pos_aug = z_aug[\"robot_state\"][:, :3]\n",
    "\n",
    "# Split the data into episodes\n",
    "pos_teleop = np.split(pos_teleop, ends_teleop[:-1])\n",
    "pos_aug = np.split(pos_aug, ends_aug[:-1])\n",
    "\n",
    "# # Get the skill labels for the teleop data and split them into episodes\n",
    "# skill_teleop = z_teleop[\"critical\"][:]\n",
    "# skill_teleop = np.split(skill_teleop, ends_teleop[:-1])\n",
    "\n",
    "# # For the teleop data, we slice off the data after the insertion\n",
    "# pos_teleop = [\n",
    "#     ep[: np.where(skill == 1)[0][3] + 1] for ep, skill in zip(pos_teleop, skill_teleop)\n",
    "# ]\n",
    "\n",
    "# # Concat them together again\n",
    "pos_teleop = np.concatenate(pos_teleop)\n",
    "pos_aug = np.concatenate(pos_aug)"
   ]
  },
  {
   "cell_type": "code",
   "execution_count": null,
   "metadata": {},
   "outputs": [],
   "source": [
    "len(ends_teleop), len(pos_teleop), len(ends_aug), len(pos_aug)"
   ]
  },
  {
   "cell_type": "code",
   "execution_count": null,
   "metadata": {},
   "outputs": [],
   "source": [
    "# Sample a subset of the data\n",
    "idx = np.random.choice(len(pos_teleop), size=53584, replace=False)\n",
    "pos_teleop = pos_teleop[idx]"
   ]
  },
  {
   "cell_type": "markdown",
   "metadata": {},
   "source": [
    "### Plot the state-space coverage in 3D"
   ]
  },
  {
   "cell_type": "code",
   "execution_count": null,
   "metadata": {},
   "outputs": [],
   "source": [
    "fig = plt.figure(figsize=(6, 6))\n",
    "\n",
    "# Add a subplot for teleop data in the left side of the figure\n",
    "ax1 = fig.add_subplot(111, projection=\"3d\")\n",
    "\n",
    "ax1.scatter(*pos_teleop.T, label=f\"Teleop (n={len(ends_teleop)})\", s=0.1)\n",
    "\n",
    "ax1.legend(frameon=False)\n",
    "ax1.set_title(\"Teleop data only\")\n",
    "ax1.set_xlabel(\"x\")\n",
    "ax1.set_ylabel(\"y\")\n",
    "ax1.set_zlabel(\"z\")\n",
    "\n",
    "plt.show()"
   ]
  },
  {
   "cell_type": "code",
   "execution_count": null,
   "metadata": {},
   "outputs": [],
   "source": [
    "fig = plt.figure(figsize=(6, 6))\n",
    "\n",
    "# Add a subplot for augmentation data in the right side of the figure\n",
    "ax2 = fig.add_subplot(\n",
    "    111, projection=\"3d\"\n",
    ")  # Changed from 111 to 122 for a 1x2 grid, second position\n",
    "ax2.scatter(*pos_teleop.T, label=f\"Teleop (n={len(ends_teleop)})\", s=0.2, alpha=0.5)\n",
    "ax2.scatter(*pos_aug.T, label=f\"Augmentation (n={len(ends_aug)})\", s=0.2, alpha=0.5)\n",
    "ax2.legend(frameon=False)\n",
    "ax2.set_title(\"Teleop and augmentation data\")\n",
    "ax2.set_xlabel(\"x\")\n",
    "ax2.set_ylabel(\"y\")\n",
    "ax2.set_zlabel(\"z\")\n",
    "\n",
    "plt.savefig(\"teleop_augmentation.pdf\")\n",
    "\n",
    "plt.show()"
   ]
  },
  {
   "cell_type": "markdown",
   "metadata": {},
   "source": [
    "## Analyze the `one_leg` augmentation"
   ]
  },
  {
   "cell_type": "code",
   "execution_count": null,
   "metadata": {},
   "outputs": [],
   "source": [
    "from pathlib import Path\n",
    "from src.visualization.render_mp4 import (\n",
    "    mp4_from_pickle_jupyter,\n",
    "    unpickle_data,\n",
    "    pickle_data,\n",
    ")\n",
    "from src.common.files import get_raw_paths\n",
    "import random\n",
    "from tqdm import tqdm\n",
    "\n",
    "base_dir = Path(\"tmp\")"
   ]
  },
  {
   "cell_type": "code",
   "execution_count": null,
   "metadata": {},
   "outputs": [],
   "source": [
    "paths = get_raw_paths(\n",
    "    environment=\"sim\",\n",
    "    demo_source=\"augmentation\",\n",
    "    demo_outcome=\"success\",\n",
    "    task=\"one_leg\",\n",
    "    randomness=\"low\",\n",
    ")\n",
    "\n",
    "paths = sorted(paths, reverse=False)\n",
    "# random.shuffle(paths)\n",
    "\n",
    "len(paths), paths[:3]"
   ]
  },
  {
   "cell_type": "code",
   "execution_count": null,
   "metadata": {},
   "outputs": [],
   "source": [
    "for path in paths[:50]:\n",
    "    data = unpickle_data(path)\n",
    "    print(len(data[\"observations\"]))\n",
    "    mp4_from_pickle_jupyter(\n",
    "        path, filename=(base_dir / path.stem).with_suffix(\".mp4\"), fps=20\n",
    "    )"
   ]
  },
  {
   "cell_type": "markdown",
   "metadata": {},
   "source": [
    "### Plot coverage of new trajectories"
   ]
  },
  {
   "cell_type": "code",
   "execution_count": null,
   "metadata": {},
   "outputs": [],
   "source": [
    "import zarr\n",
    "import matplotlib.pyplot as plt\n",
    "import numpy as np\n",
    "\n",
    "\n",
    "from src.common.files import get_processed_paths"
   ]
  },
  {
   "cell_type": "code",
   "execution_count": null,
   "metadata": {},
   "outputs": [],
   "source": [
    "aug_path, teleop_path = sorted(\n",
    "    get_processed_paths(\n",
    "        environment=\"sim\",\n",
    "        demo_source=[\"teleop\", \"augmentation\"],\n",
    "        demo_outcome=\"success\",\n",
    "        task=\"one_leg\",\n",
    "        randomness=\"low\",\n",
    "    )\n",
    ")\n",
    "\n",
    "aug_path, teleop_path"
   ]
  },
  {
   "cell_type": "code",
   "execution_count": null,
   "metadata": {},
   "outputs": [],
   "source": [
    "z_aug = zarr.open(str(aug_path), mode=\"r\")\n",
    "z_teleop = zarr.open(str(teleop_path), mode=\"r\")\n",
    "\n",
    "ends_aug = z_aug[\"episode_ends\"][:]\n",
    "ends_teleop = z_teleop[\"episode_ends\"][:]\n",
    "\n",
    "pos_teleop = z_teleop[\"robot_state\"][:, :3]\n",
    "pos_aug = z_aug[\"robot_state\"][:, :3]\n",
    "\n",
    "# Split the data into episodes\n",
    "pos_teleop = np.split(pos_teleop, ends_teleop[:-1])\n",
    "pos_aug = np.split(pos_aug, ends_aug[:-1])\n",
    "\n",
    "# # Get the skill labels for the teleop data and split them into episodes\n",
    "# skill_teleop = z_teleop[\"critical\"][:]\n",
    "# skill_teleop = np.split(skill_teleop, ends_teleop[:-1])\n",
    "\n",
    "# # For the teleop data, we slice off the data after the insertion\n",
    "# pos_teleop = [\n",
    "#     ep[: np.where(skill == 1)[0][3] + 1] for ep, skill in zip(pos_teleop, skill_teleop)\n",
    "# ]\n",
    "\n",
    "# # Concat them together again\n",
    "pos_teleop = np.concatenate(pos_teleop)\n",
    "pos_aug = np.concatenate(pos_aug)"
   ]
  },
  {
   "cell_type": "code",
   "execution_count": null,
   "metadata": {},
   "outputs": [],
   "source": [
    "len(ends_teleop), len(pos_teleop), len(ends_aug), len(pos_aug)"
   ]
  },
  {
   "cell_type": "code",
   "execution_count": null,
   "metadata": {},
   "outputs": [],
   "source": [
    "n_teleop = len(pos_teleop)\n",
    "mean_len_aug = np.diff(ends_aug).mean()"
   ]
  },
  {
   "cell_type": "code",
   "execution_count": null,
   "metadata": {},
   "outputs": [],
   "source": [
    "for p in [10, 20, 30, 50]:\n",
    "    # Format as percent with no decimal places\n",
    "    print(\n",
    "        f\"{p/100:.0%} of teleop data: {n_teleop*p/100:.0f} timesteps, i.e., {n_teleop*p/100 /mean_len_aug:.0f} augmented trajectories\"\n",
    "    )\n",
    "\n",
    "print()\n",
    "for n in [50, 100, 150, 200, 250]:\n",
    "    print(\n",
    "        f\"{n} augmented trajectories: {n*mean_len_aug:.0f} timesteps, i.e., {n*mean_len_aug/n_teleop:.0%} of teleop data\"\n",
    "    )"
   ]
  },
  {
   "cell_type": "code",
   "execution_count": null,
   "metadata": {},
   "outputs": [],
   "source": []
  },
  {
   "cell_type": "code",
   "execution_count": null,
   "metadata": {},
   "outputs": [],
   "source": [
    "plt.hist(np.diff(ends_aug))"
   ]
  },
  {
   "cell_type": "code",
   "execution_count": null,
   "metadata": {},
   "outputs": [],
   "source": [
    "# Sample a subset of the data\n",
    "idx = np.random.choice(len(pos_teleop), size=53584, replace=False)\n",
    "pos_teleop = pos_teleop[idx]"
   ]
  },
  {
   "cell_type": "markdown",
   "metadata": {},
   "source": [
    "### Plot the state-space coverage in 3D"
   ]
  },
  {
   "cell_type": "code",
   "execution_count": null,
   "metadata": {},
   "outputs": [],
   "source": [
    "fig = plt.figure(figsize=(6, 6))\n",
    "\n",
    "# Add a subplot for teleop data in the left side of the figure\n",
    "ax1 = fig.add_subplot(111, projection=\"3d\")\n",
    "\n",
    "ax1.scatter(*pos_teleop.T, label=f\"Teleop (n={len(ends_teleop)})\", s=0.1)\n",
    "\n",
    "ax1.legend(frameon=False)\n",
    "ax1.set_title(\"Teleop data only\")\n",
    "ax1.set_xlabel(\"x\")\n",
    "ax1.set_ylabel(\"y\")\n",
    "ax1.set_zlabel(\"z\")\n",
    "\n",
    "plt.show()"
   ]
  },
  {
   "cell_type": "code",
   "execution_count": null,
   "metadata": {},
   "outputs": [],
   "source": [
    "fig = plt.figure(figsize=(6, 6))\n",
    "\n",
    "# Add a subplot for augmentation data in the right side of the figure\n",
    "ax2 = fig.add_subplot(\n",
    "    111, projection=\"3d\"\n",
    ")  # Changed from 111 to 122 for a 1x2 grid, second position\n",
    "ax2.scatter(*pos_teleop.T, label=f\"Teleop (n={len(ends_teleop)})\", s=0.2, alpha=0.5)\n",
    "ax2.scatter(*pos_aug.T, label=f\"Augmentation (n={len(ends_aug)})\", s=0.2, alpha=0.5)\n",
    "ax2.legend(frameon=False)\n",
    "ax2.set_title(\"Teleop and augmentation data\")\n",
    "ax2.set_xlabel(\"x\")\n",
    "ax2.set_ylabel(\"y\")\n",
    "ax2.set_zlabel(\"z\")\n",
    "\n",
    "plt.savefig(\"teleop_augmentation.pdf\")\n",
    "\n",
    "plt.show()"
   ]
  },
  {
   "cell_type": "code",
   "execution_count": null,
   "metadata": {},
   "outputs": [],
   "source": [
    "from src.models.unet import ConditionalUnet1D"
   ]
  },
  {
   "cell_type": "code",
   "execution_count": null,
   "metadata": {},
   "outputs": [],
   "source": [
    "net = ConditionalUnet1D(10, 272)"
   ]
  },
  {
   "cell_type": "code",
   "execution_count": null,
   "metadata": {},
   "outputs": [],
   "source": [
    "# Print the total number of parameters and parameters in each submodule\n",
    "for name, param in net.named_parameters():\n",
    "    print(name, param.numel())"
   ]
  },
  {
   "cell_type": "code",
   "execution_count": null,
   "metadata": {},
   "outputs": [],
   "source": []
  }
 ],
 "metadata": {
  "kernelspec": {
   "display_name": "rlgpu",
   "language": "python",
   "name": "python3"
  },
  "language_info": {
   "codemirror_mode": {
    "name": "ipython",
    "version": 3
   },
   "file_extension": ".py",
   "mimetype": "text/x-python",
   "name": "python",
   "nbconvert_exporter": "python",
   "pygments_lexer": "ipython3",
   "version": "3.8.18"
  }
 },
 "nbformat": 4,
 "nbformat_minor": 2
}
