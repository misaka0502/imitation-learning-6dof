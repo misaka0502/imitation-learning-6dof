{
    "cells": [
        {
            "cell_type": "markdown",
            "metadata": {},
            "source": [
                "# Investigate rollouts and resulting datasets"
            ]
        },
        {
            "cell_type": "markdown",
            "metadata": {},
            "source": [
                "## Round table"
            ]
        },
        {
            "cell_type": "markdown",
            "metadata": {},
            "source": [
                "### Visualize rollouts"
            ]
        },
        {
            "cell_type": "code",
            "execution_count": null,
            "metadata": {},
            "outputs": [],
            "source": [
                "from pathlib import Path\n",
                "from src.visualization.render_mp4 import (\n",
                "    mp4_from_pickle_jupyter,\n",
                "    unpickle_data,\n",
                "    pickle_data,\n",
                ")\n",
                "from src.common.files import get_raw_paths\n",
                "import random\n",
                "from tqdm import tqdm\n",
                "\n",
                "import numpy as np\n",
                "\n",
                "base_dir = Path(\"tmp\")"
            ]
        },
        {
            "cell_type": "code",
            "execution_count": null,
            "metadata": {},
            "outputs": [],
            "source": [
                "paths = get_raw_paths(\n",
                "    environment=\"sim\",\n",
                "    demo_source=\"rollout\",\n",
                "    demo_outcome=\"success\",\n",
                "    task=\"round_table\",\n",
                "    randomness=\"low\",\n",
                ")\n",
                "\n",
                "random.shuffle(paths)\n",
                "\n",
                "len(paths), paths[:3]"
            ]
        },
        {
            "cell_type": "code",
            "execution_count": null,
            "metadata": {},
            "outputs": [],
            "source": [
                "for path in paths[:1]:\n",
                "    mp4_from_pickle_jupyter(\n",
                "        path, filename=(base_dir / path.stem).with_suffix(\".mp4\"), fps=20\n",
                "    )"
            ]
        },
        {
            "cell_type": "markdown",
            "metadata": {},
            "source": [
                "### Look at state-space coverage"
            ]
        },
        {
            "cell_type": "markdown",
            "metadata": {},
            "source": [
                "### Learn from partial successes as a curriculum"
            ]
        },
        {
            "cell_type": "code",
            "execution_count": null,
            "metadata": {},
            "outputs": [],
            "source": [
                "paths = get_raw_paths(\n",
                "    environment=\"sim\",\n",
                "    demo_source=\"rollout\",\n",
                "    demo_outcome=\"failure\",\n",
                "    task=\"round_table\",\n",
                "    randomness=\"med\",\n",
                ")\n",
                "\n",
                "# random.shuffle(paths)\n",
                "paths = sorted(paths)\n",
                "\n",
                "data_keys = [\"observations\", \"actions\", \"rewards\"]\n",
                "meta_keys = [\"success\", \"furniture\", \"action_type\"]\n",
                "\n",
                "len(paths), paths[:3]"
            ]
        },
        {
            "cell_type": "code",
            "execution_count": null,
            "metadata": {},
            "outputs": [],
            "source": [
                "new_path = Path(str(paths[0]).replace(\"failure\", \"partial_success\"))\n",
                "\n",
                "new_path.parent.mkdir(parents=True, exist_ok=True)"
            ]
        },
        {
            "cell_type": "code",
            "execution_count": null,
            "metadata": {},
            "outputs": [],
            "source": [
                "# Iterate over the paths and render and find the ones where ther is at least one reward\n",
                "truncation_tail = 64\n",
                "n_partial = 0\n",
                "\n",
                "n = 0\n",
                "\n",
                "it = tqdm(paths[n * 114 : (n + 1) * 114], postfix={\"partial_success\": n_partial})\n",
                "for path in it:\n",
                "    data = unpickle_data(path)\n",
                "\n",
                "    if sum(data[\"rewards\"]) < 1:\n",
                "        continue\n",
                "\n",
                "    # Find the index of the last reward\n",
                "    rew = np.array(data[\"rewards\"])\n",
                "    last_reward = np.where(rew > 0)[0][-1]\n",
                "\n",
                "    # Make a copy of the data and truncate the `data_keys`\n",
                "    truncated_data = {}\n",
                "    truncated_data[\"observations\"] = data[\"observations\"][\n",
                "        : last_reward + truncation_tail + 1\n",
                "    ]\n",
                "    truncated_data[\"actions\"] = data[\"actions\"][: last_reward + truncation_tail]\n",
                "    truncated_data[\"rewards\"] = data[\"rewards\"][: last_reward + truncation_tail]\n",
                "\n",
                "    # Add the `meta_keys`\n",
                "    truncated_data.update({k: data[k] for k in meta_keys})\n",
                "    truncated_data[\"success\"] = \"partial_success\"\n",
                "    truncated_data[\"truncated\"] = True\n",
                "    truncated_data[\"truncation_tail\"] = truncation_tail\n",
                "\n",
                "    new_path = Path(str(path).replace(\"failure\", \"partial_success\"))\n",
                "    new_path.parent.mkdir(parents=True, exist_ok=True)\n",
                "\n",
                "    pickle_data(truncated_data, new_path)\n",
                "    n_partial += 1\n",
                "    it.set_postfix({\"partial_success\": n_partial})"
            ]
        },
        {
            "cell_type": "markdown",
            "metadata": {},
            "source": [
                "## Lamp"
            ]
        },
        {
            "cell_type": "markdown",
            "metadata": {},
            "source": [
                "### Visualize the rollouts"
            ]
        },
        {
            "cell_type": "code",
            "execution_count": null,
            "metadata": {},
            "outputs": [],
            "source": [
                "from pathlib import Path\n",
                "from src.visualization.render_mp4 import (\n",
                "    mp4_from_pickle_jupyter,\n",
                "    unpickle_data,\n",
                "    pickle_data,\n",
                ")\n",
                "from src.common.files import get_raw_paths\n",
                "import random\n",
                "from tqdm import tqdm\n",
                "\n",
                "base_dir = Path(\"tmp\")"
            ]
        },
        {
            "cell_type": "code",
            "execution_count": null,
            "metadata": {},
            "outputs": [],
            "source": [
                "paths = get_raw_paths(\n",
                "    environment=\"sim\",\n",
                "    demo_source=\"rollout\",\n",
                "    demo_outcome=\"success\",\n",
                "    task=\"lamp\",\n",
                "    randomness=\"low\",\n",
                ")\n",
                "\n",
                "# random.shuffle(paths)\n",
                "\n",
                "paths = sorted(paths, reverse=True)\n",
                "\n",
                "len(paths), paths[:3]"
            ]
        },
        {
            "cell_type": "code",
            "execution_count": null,
            "metadata": {},
            "outputs": [],
            "source": [
                "for i, path in enumerate(paths[:10], start=1):\n",
                "    mp4_from_pickle_jupyter(\n",
                "        path, filename=(base_dir / path.stem).with_suffix(\".mp4\"), fps=20\n",
                "    )"
            ]
        },
        {
            "cell_type": "markdown",
            "metadata": {},
            "source": [
                "## Round table"
            ]
        },
        {
            "cell_type": "code",
            "execution_count": null,
            "metadata": {},
            "outputs": [],
            "source": [
                "from pathlib import Path\n",
                "from src.visualization.render_mp4 import (\n",
                "    mp4_from_pickle_jupyter,\n",
                "    unpickle_data,\n",
                "    pickle_data,\n",
                ")\n",
                "from src.common.files import get_raw_paths\n",
                "import random\n",
                "from tqdm import tqdm\n",
                "\n",
                "base_dir = Path(\"tmp\")"
            ]
        },
        {
            "cell_type": "code",
            "execution_count": null,
            "metadata": {},
            "outputs": [],
            "source": [
                "paths = get_raw_paths(\n",
                "    environment=\"sim\",\n",
                "    demo_source=\"rollout\",\n",
                "    demo_outcome=\"success\",\n",
                "    task=\"round_table\",\n",
                "    randomness=\"low\",\n",
                ")\n",
                "\n",
                "# random.shuffle(paths)\n",
                "\n",
                "paths = sorted(paths, reverse=False)\n",
                "\n",
                "len(paths), paths[:3]"
            ]
        },
        {
            "cell_type": "code",
            "execution_count": null,
            "metadata": {},
            "outputs": [],
            "source": [
                "for i, path in enumerate(paths[:1], start=1):\n",
                "    mp4_from_pickle_jupyter(\n",
                "        path, filename=(base_dir / path.stem).with_suffix(\".mp4\"), fps=20\n",
                "    )"
            ]
        },
        {
            "cell_type": "markdown",
            "metadata": {},
            "source": [
                "### Plot coverage of new trajectories"
            ]
        },
        {
            "cell_type": "code",
            "execution_count": null,
            "metadata": {},
            "outputs": [],
            "source": [
                "import zarr\n",
                "import matplotlib.pyplot as plt\n",
                "import numpy as np\n",
                "\n",
                "\n",
                "from src.common.files import get_processed_paths"
            ]
        },
        {
            "cell_type": "code",
            "execution_count": null,
            "metadata": {},
            "outputs": [],
            "source": [
                "rollout_path, teleop_path = sorted(\n",
                "    get_processed_paths(\n",
                "        environment=\"sim\",\n",
                "        demo_source=[\"teleop\", \"rollout\"],\n",
                "        demo_outcome=\"success\",\n",
                "        task=\"round_table\",\n",
                "        randomness=\"low\",\n",
                "    )\n",
                ")\n",
                "\n",
                "rollout_path, teleop_path"
            ]
        },
        {
            "cell_type": "code",
            "execution_count": null,
            "metadata": {},
            "outputs": [],
            "source": [
                "z_rollout = zarr.open(str(rollout_path), mode=\"r\")\n",
                "z_teleop = zarr.open(str(teleop_path), mode=\"r\")\n",
                "\n",
                "ends_rollout = z_rollout[\"episode_ends\"][:]\n",
                "ends_teleop = z_teleop[\"episode_ends\"][:]\n",
                "\n",
                "pos_teleop = z_teleop[\"robot_state\"][:, :3]\n",
                "pos_rollout = z_rollout[\"robot_state\"][:, :3]\n",
                "\n",
                "# Split the data into episodes\n",
                "pos_teleop = np.split(pos_teleop, ends_teleop[:-1])\n",
                "pos_rollout = np.split(pos_rollout, ends_rollout[:-1])\n",
                "\n",
                "# # Concat them together again\n",
                "pos_teleop = np.concatenate(pos_teleop)\n",
                "pos_rollout = np.concatenate(pos_rollout)"
            ]
        },
        {
            "cell_type": "code",
            "execution_count": null,
            "metadata": {},
            "outputs": [],
            "source": [
                "len(ends_teleop), len(pos_teleop), len(ends_rollout), len(pos_rollout)"
            ]
        },
        {
            "cell_type": "markdown",
            "metadata": {},
            "source": [
                "### Plot the state-space coverage in 3D"
            ]
        },
        {
            "cell_type": "code",
            "execution_count": null,
            "metadata": {},
            "outputs": [],
            "source": [
                "fig = plt.figure(figsize=(6, 6))\n",
                "\n",
                "# Add a subplot for teleop data in the left side of the figure\n",
                "ax1 = fig.add_subplot(\n",
                "    111, projection=\"3d\"\n",
                ")  # Changed from 111 to 121 for a 1x2 grid, first position\n",
                "ax1.scatter(*pos_teleop.T, label=f\"Teleop (n={len(ends_teleop)})\", s=0.1)\n",
                "ax1.legend(frameon=False)\n",
                "ax1.set_title(\"Teleop data only\")\n",
                "ax1.set_xlabel(\"x\")\n",
                "ax1.set_ylabel(\"y\")\n",
                "ax1.set_zlabel(\"z\")\n",
                "\n",
                "plt.show()"
            ]
        },
        {
            "cell_type": "code",
            "execution_count": null,
            "metadata": {},
            "outputs": [],
            "source": [
                "fig = plt.figure(figsize=(12, 6))\n",
                "\n",
                "# Add a subplot for teleop data in the left side of the figure\n",
                "ax1 = fig.add_subplot(\n",
                "    121, projection=\"3d\"\n",
                ")  # Changed from 111 to 121 for a 1x2 grid, first position\n",
                "ax1.scatter(*pos_teleop.T, label=f\"Teleop (n={len(ends_teleop)})\", s=0.1)\n",
                "ax1.legend(frameon=False)\n",
                "ax1.set_title(\"Teleop data\")\n",
                "ax1.set_xlabel(\"x\")\n",
                "ax1.set_ylabel(\"y\")\n",
                "ax1.set_zlabel(\"z\")\n",
                "\n",
                "# Add a subplot for Rollout data in the right side of the figure\n",
                "ax2 = fig.add_subplot(\n",
                "    122, projection=\"3d\"\n",
                ")  # Changed from 111 to 122 for a 1x2 grid, second position\n",
                "# ax2.scatter(*pos_teleop.T, label=f\"Teleop (n={len(ends_teleop)})\", s=0.2, alpha=0.2)\n",
                "ax2.scatter(*pos_rollout.T, label=f\"Rollout (n={len(ends_rollout)})\", s=0.2, alpha=0.5)\n",
                "ax2.legend(frameon=False)\n",
                "ax2.set_title(\"Rollout data\")\n",
                "ax2.set_xlabel(\"x\")\n",
                "ax2.set_ylabel(\"y\")\n",
                "ax2.set_zlabel(\"z\")\n",
                "\n",
                "plt.savefig(\"figs/teleop_rollout.png\")\n",
                "\n",
                "plt.show()"
            ]
        },
        {
            "cell_type": "code",
            "execution_count": null,
            "metadata": {},
            "outputs": [],
            "source": [
                "fig = plt.figure(figsize=(6, 6))\n",
                "\n",
                "# Add a subplot for Rollout data in the right side of the figure\n",
                "ax2 = fig.add_subplot(\n",
                "    111, projection=\"3d\"\n",
                ")  # Changed from 111 to 122 for a 1x2 grid, second position\n",
                "# ax2.scatter(*pos_teleop.T, label=f\"Teleop (n={len(ends_teleop)})\", s=0.2, alpha=0.2)\n",
                "ax2.scatter(*pos_rollout.T, label=f\"Rollout (n={len(ends_rollout)})\", s=0.2, alpha=0.5)\n",
                "ax2.legend(frameon=False)\n",
                "ax2.set_title(\"Rollout data\")\n",
                "ax2.set_xlabel(\"x\")\n",
                "ax2.set_ylabel(\"y\")\n",
                "ax2.set_zlabel(\"z\")\n",
                "\n",
                "plt.savefig(\"figs/teleop_rollout.png\")\n",
                "\n",
                "plt.show()"
            ]
        },
        {
            "cell_type": "markdown",
            "metadata": {},
            "source": [
                "## Look at MLP rollouts"
            ]
        },
        {
            "cell_type": "code",
            "execution_count": null,
            "metadata": {},
            "outputs": [],
            "source": [
                "from pathlib import Path\n",
                "from src.visualization.render_mp4 import (\n",
                "    mp4_from_pickle_jupyter,\n",
                "    unpickle_data,\n",
                "    pickle_data,\n",
                ")\n",
                "from src.common.files import get_raw_paths\n",
                "import random\n",
                "from tqdm import tqdm\n",
                "\n",
                "base_dir = Path(\"tmp\")\n",
                "pickles = list((base_dir / \"mlp_rollouts\").rglob(\"*.pkl\"))\n",
                "\n",
                "pickles"
            ]
        },
        {
            "cell_type": "code",
            "execution_count": null,
            "metadata": {},
            "outputs": [],
            "source": [
                "for i, path in enumerate(pickles, start=1):\n",
                "    print(f\"Rendering {i}/{len(pickles)}: {path}\")\n",
                "    mp4_from_pickle_jupyter(\n",
                "        path, filename=(base_dir / path.stem).with_suffix(\".mp4\"), fps=20\n",
                "    )"
            ]
        },
        {
            "cell_type": "markdown",
            "metadata": {},
            "source": [
                "## Fix stored state representation in Round Table rollouts"
            ]
        },
        {
            "cell_type": "code",
            "execution_count": 3,
            "metadata": {},
            "outputs": [
                {
                    "name": "stdout",
                    "output_type": "stream",
                    "text": [
                        "env: DATA_DIR_RAW=/data/scratch-oc40/pulkitag/ankile/furniture-data\n"
                    ]
                }
            ],
            "source": [
                "%env DATA_DIR_RAW=/data/scratch-oc40/pulkitag/ankile/furniture-data"
            ]
        },
        {
            "cell_type": "code",
            "execution_count": 2,
            "metadata": {},
            "outputs": [],
            "source": [
                "from pathlib import Path\n",
                "from src.visualization.render_mp4 import (\n",
                "    mp4_from_pickle_jupyter,\n",
                "    unpickle_data,\n",
                "    pickle_data,\n",
                ")\n",
                "from src.common.files import get_raw_paths\n",
                "import random\n",
                "from tqdm import tqdm\n",
                "\n",
                "from furniture_bench.robot.robot_state import ROBOT_STATES, ROBOT_STATE_DIMS"
            ]
        },
        {
            "cell_type": "code",
            "execution_count": 3,
            "metadata": {},
            "outputs": [
                {
                    "data": {
                        "text/plain": [
                            "(['ee_pos', 'ee_quat', 'ee_pos_vel', 'ee_ori_vel', 'gripper_width'],\n",
                            " {'ee_pos': 3,\n",
                            "  'ee_quat': 4,\n",
                            "  'ee_pos_vel': 3,\n",
                            "  'ee_ori_vel': 3,\n",
                            "  'joint_positions': 7,\n",
                            "  'joint_velocities': 7,\n",
                            "  'joint_torques': 7,\n",
                            "  'gripper_width': 1})"
                        ]
                    },
                    "execution_count": 3,
                    "metadata": {},
                    "output_type": "execute_result"
                }
            ],
            "source": [
                "ROBOT_STATES, ROBOT_STATE_DIMS"
            ]
        },
        {
            "cell_type": "code",
            "execution_count": 4,
            "metadata": {},
            "outputs": [
                {
                    "name": "stdout",
                    "output_type": "stream",
                    "text": [
                        "Found the following paths:\n",
                        "    /data/scratch-oc40/pulkitag/ankile/furniture-data/raw/sim/round_table/rollout/med/success/*.pkl*\n",
                        "Found the following paths:\n",
                        "    /data/scratch-oc40/pulkitag/ankile/furniture-data/raw/sim/round_table/teleop/low/success/*.pkl*\n"
                    ]
                },
                {
                    "data": {
                        "text/plain": [
                            "(161,\n",
                            " [PosixPath('/data/scratch-oc40/pulkitag/ankile/furniture-data/raw/sim/round_table/rollout/med/success/2024-02-23T02:21:31.pkl.xz'),\n",
                            "  PosixPath('/data/scratch-oc40/pulkitag/ankile/furniture-data/raw/sim/round_table/rollout/med/success/2024-02-23T08:02:11.pkl.xz'),\n",
                            "  PosixPath('/data/scratch-oc40/pulkitag/ankile/furniture-data/raw/sim/round_table/rollout/med/success/2024-02-23T08:17:46.pkl.xz')])"
                        ]
                    },
                    "execution_count": 4,
                    "metadata": {},
                    "output_type": "execute_result"
                }
            ],
            "source": [
                "base_dir = Path(\"tmp\")\n",
                "\n",
                "rollout_paths = get_raw_paths(\n",
                "    environment=\"sim\",\n",
                "    demo_source=\"rollout\",\n",
                "    demo_outcome=\"success\",\n",
                "    task=\"round_table\",\n",
                "    randomness=\"med\",\n",
                ")\n",
                "\n",
                "teleop_paths = get_raw_paths(\n",
                "    environment=\"sim\",\n",
                "    demo_source=\"teleop\",\n",
                "    demo_outcome=\"success\",\n",
                "    task=\"round_table\",\n",
                "    randomness=\"low\",\n",
                ")\n",
                "\n",
                "# random.shuffle(rollout_paths)\n",
                "\n",
                "rollout_paths = sorted(rollout_paths, reverse=False)\n",
                "\n",
                "len(rollout_paths), rollout_paths[:3]"
            ]
        },
        {
            "cell_type": "code",
            "execution_count": 5,
            "metadata": {},
            "outputs": [
                {
                    "name": "stdout",
                    "output_type": "stream",
                    "text": [
                        "dict_keys(['observations', 'actions', 'rewards', 'skills', 'success', 'furniture', 'error', 'error_description', 'augment_states'])\n"
                    ]
                },
                {
                    "data": {
                        "text/plain": [
                            "[('ee_pos', (3,)),\n",
                            " ('ee_quat', (4,)),\n",
                            " ('ee_pos_vel', (3,)),\n",
                            " ('ee_ori_vel', (3,)),\n",
                            " ('gripper_width', ()),\n",
                            " ('joint_positions', (7,)),\n",
                            " ('joint_velocities', (7,)),\n",
                            " ('joint_torques', (9,))]"
                        ]
                    },
                    "execution_count": 5,
                    "metadata": {},
                    "output_type": "execute_result"
                }
            ],
            "source": [
                "data = unpickle_data(teleop_paths[0])\n",
                "\n",
                "print(data.keys())\n",
                "\n",
                "[(k, v.shape) for k, v in data[\"observations\"][0][\"robot_state\"].items()]"
            ]
        },
        {
            "cell_type": "code",
            "execution_count": 9,
            "metadata": {},
            "outputs": [
                {
                    "name": "stdout",
                    "output_type": "stream",
                    "text": [
                        "dict_keys(['observations', 'actions', 'rewards', 'success', 'furniture', 'action_type', 'augment_states'])\n",
                        "(14,)\n"
                    ]
                }
            ],
            "source": [
                "# data = unpickle_data(rollout_paths[0])\n",
                "data = unpickle_data(\n",
                "    \"/data/scratch-oc40/pulkitag/ankile/furniture-data/raw/sim/round_table/rollout/med/success_backup/2024-02-23T02:21:31.pkl.xz\"\n",
                ")\n",
                "\n",
                "print(data.keys())\n",
                "\n",
                "# [(k, v.shape) for k, v in data[\"observations\"][0][\"robot_state\"].items()]\n",
                "print(data[\"observations\"][0][\"robot_state\"].shape)"
            ]
        },
        {
            "cell_type": "code",
            "execution_count": 22,
            "metadata": {},
            "outputs": [
                {
                    "name": "stderr",
                    "output_type": "stream",
                    "text": [
                        " 27%|██▋       | 43/158 [1:03:10<2:48:56, 88.14s/it]\n"
                    ]
                },
                {
                    "ename": "KeyboardInterrupt",
                    "evalue": "",
                    "output_type": "error",
                    "traceback": [
                        "\u001b[0;31m---------------------------------------------------------------------------\u001b[0m",
                        "\u001b[0;31mKeyboardInterrupt\u001b[0m                         Traceback (most recent call last)",
                        "Cell \u001b[0;32mIn[22], line 2\u001b[0m\n\u001b[1;32m      1\u001b[0m \u001b[38;5;28;01mfor\u001b[39;00m path \u001b[38;5;129;01min\u001b[39;00m tqdm(rollout_paths):\n\u001b[0;32m----> 2\u001b[0m     data \u001b[38;5;241m=\u001b[39m \u001b[43munpickle_data\u001b[49m\u001b[43m(\u001b[49m\u001b[43mpath\u001b[49m\u001b[43m)\u001b[49m\n\u001b[1;32m      4\u001b[0m     \u001b[38;5;28;01mfor\u001b[39;00m obs \u001b[38;5;129;01min\u001b[39;00m data[\u001b[38;5;124m\"\u001b[39m\u001b[38;5;124mobservations\u001b[39m\u001b[38;5;124m\"\u001b[39m]:\n\u001b[1;32m      5\u001b[0m         robot_state_flat \u001b[38;5;241m=\u001b[39m obs[\u001b[38;5;124m\"\u001b[39m\u001b[38;5;124mrobot_state\u001b[39m\u001b[38;5;124m\"\u001b[39m]\n",
                        "File \u001b[0;32m/data/scratch/ankile/furniture-diffusion/src/visualization/render_mp4.py:76\u001b[0m, in \u001b[0;36munpickle_data\u001b[0;34m(pickle_path)\u001b[0m\n\u001b[1;32m     74\u001b[0m \u001b[38;5;28;01melif\u001b[39;00m pickle_path\u001b[38;5;241m.\u001b[39msuffix \u001b[38;5;241m==\u001b[39m \u001b[38;5;124m\"\u001b[39m\u001b[38;5;124m.xz\u001b[39m\u001b[38;5;124m\"\u001b[39m:\n\u001b[1;32m     75\u001b[0m     \u001b[38;5;28;01mwith\u001b[39;00m lzma\u001b[38;5;241m.\u001b[39mopen(pickle_path, \u001b[38;5;124m\"\u001b[39m\u001b[38;5;124mrb\u001b[39m\u001b[38;5;124m\"\u001b[39m) \u001b[38;5;28;01mas\u001b[39;00m f:\n\u001b[0;32m---> 76\u001b[0m         \u001b[38;5;28;01mreturn\u001b[39;00m \u001b[43mpickle\u001b[49m\u001b[38;5;241;43m.\u001b[39;49m\u001b[43mload\u001b[49m\u001b[43m(\u001b[49m\u001b[43mf\u001b[49m\u001b[43m)\u001b[49m\n\u001b[1;32m     78\u001b[0m \u001b[38;5;28;01mraise\u001b[39;00m \u001b[38;5;167;01mValueError\u001b[39;00m(\u001b[38;5;124mf\u001b[39m\u001b[38;5;124m\"\u001b[39m\u001b[38;5;124mInvalid file extension: \u001b[39m\u001b[38;5;132;01m{\u001b[39;00mpickle_path\u001b[38;5;241m.\u001b[39msuffix\u001b[38;5;132;01m}\u001b[39;00m\u001b[38;5;124m\"\u001b[39m)\n",
                        "File \u001b[0;32m/data/scratch/ankile/miniconda3/envs/ilgpu/lib/python3.8/lzma.py:200\u001b[0m, in \u001b[0;36mLZMAFile.read\u001b[0;34m(self, size)\u001b[0m\n\u001b[1;32m    194\u001b[0m \u001b[38;5;250m\u001b[39m\u001b[38;5;124;03m\"\"\"Read up to size uncompressed bytes from the file.\u001b[39;00m\n\u001b[1;32m    195\u001b[0m \n\u001b[1;32m    196\u001b[0m \u001b[38;5;124;03mIf size is negative or omitted, read until EOF is reached.\u001b[39;00m\n\u001b[1;32m    197\u001b[0m \u001b[38;5;124;03mReturns b\"\" if the file is already at EOF.\u001b[39;00m\n\u001b[1;32m    198\u001b[0m \u001b[38;5;124;03m\"\"\"\u001b[39;00m\n\u001b[1;32m    199\u001b[0m \u001b[38;5;28mself\u001b[39m\u001b[38;5;241m.\u001b[39m_check_can_read()\n\u001b[0;32m--> 200\u001b[0m \u001b[38;5;28;01mreturn\u001b[39;00m \u001b[38;5;28;43mself\u001b[39;49m\u001b[38;5;241;43m.\u001b[39;49m\u001b[43m_buffer\u001b[49m\u001b[38;5;241;43m.\u001b[39;49m\u001b[43mread\u001b[49m\u001b[43m(\u001b[49m\u001b[43msize\u001b[49m\u001b[43m)\u001b[49m\n",
                        "File \u001b[0;32m/data/scratch/ankile/miniconda3/envs/ilgpu/lib/python3.8/_compression.py:68\u001b[0m, in \u001b[0;36mDecompressReader.readinto\u001b[0;34m(self, b)\u001b[0m\n\u001b[1;32m     66\u001b[0m \u001b[38;5;28;01mdef\u001b[39;00m \u001b[38;5;21mreadinto\u001b[39m(\u001b[38;5;28mself\u001b[39m, b):\n\u001b[1;32m     67\u001b[0m     \u001b[38;5;28;01mwith\u001b[39;00m \u001b[38;5;28mmemoryview\u001b[39m(b) \u001b[38;5;28;01mas\u001b[39;00m view, view\u001b[38;5;241m.\u001b[39mcast(\u001b[38;5;124m\"\u001b[39m\u001b[38;5;124mB\u001b[39m\u001b[38;5;124m\"\u001b[39m) \u001b[38;5;28;01mas\u001b[39;00m byte_view:\n\u001b[0;32m---> 68\u001b[0m         data \u001b[38;5;241m=\u001b[39m \u001b[38;5;28;43mself\u001b[39;49m\u001b[38;5;241;43m.\u001b[39;49m\u001b[43mread\u001b[49m\u001b[43m(\u001b[49m\u001b[38;5;28;43mlen\u001b[39;49m\u001b[43m(\u001b[49m\u001b[43mbyte_view\u001b[49m\u001b[43m)\u001b[49m\u001b[43m)\u001b[49m\n\u001b[1;32m     69\u001b[0m         byte_view[:\u001b[38;5;28mlen\u001b[39m(data)] \u001b[38;5;241m=\u001b[39m data\n\u001b[1;32m     70\u001b[0m     \u001b[38;5;28;01mreturn\u001b[39;00m \u001b[38;5;28mlen\u001b[39m(data)\n",
                        "File \u001b[0;32m/data/scratch/ankile/miniconda3/envs/ilgpu/lib/python3.8/_compression.py:103\u001b[0m, in \u001b[0;36mDecompressReader.read\u001b[0;34m(self, size)\u001b[0m\n\u001b[1;32m    101\u001b[0m     \u001b[38;5;28;01melse\u001b[39;00m:\n\u001b[1;32m    102\u001b[0m         rawblock \u001b[38;5;241m=\u001b[39m \u001b[38;5;124mb\u001b[39m\u001b[38;5;124m\"\u001b[39m\u001b[38;5;124m\"\u001b[39m\n\u001b[0;32m--> 103\u001b[0m     data \u001b[38;5;241m=\u001b[39m \u001b[38;5;28;43mself\u001b[39;49m\u001b[38;5;241;43m.\u001b[39;49m\u001b[43m_decompressor\u001b[49m\u001b[38;5;241;43m.\u001b[39;49m\u001b[43mdecompress\u001b[49m\u001b[43m(\u001b[49m\u001b[43mrawblock\u001b[49m\u001b[43m,\u001b[49m\u001b[43m \u001b[49m\u001b[43msize\u001b[49m\u001b[43m)\u001b[49m\n\u001b[1;32m    104\u001b[0m \u001b[38;5;28;01mif\u001b[39;00m data:\n\u001b[1;32m    105\u001b[0m     \u001b[38;5;28;01mbreak\u001b[39;00m\n",
                        "\u001b[0;31mKeyboardInterrupt\u001b[0m: "
                    ]
                }
            ],
            "source": [
                "rollout_paths = get_raw_paths(\n",
                "    environment=\"sim\",\n",
                "    demo_source=\"rollout\",\n",
                "    demo_outcome=\"success\",\n",
                "    task=\"round_table\",\n",
                "    randomness=\"med\",\n",
                ")\n",
                "\n",
                "\n",
                "for path in tqdm(rollout_paths):\n",
                "    data = unpickle_data(path)\n",
                "\n",
                "    # Check if we have already converted this one\n",
                "    if isinstance(data[\"observations\"][0][\"robot_state\"], dict):\n",
                "        continue\n",
                "\n",
                "    for obs in data[\"observations\"]:\n",
                "        robot_state_flat = obs[\"robot_state\"]\n",
                "        robot_state_dict = {}\n",
                "\n",
                "        start = 0\n",
                "        for state, dim in map(lambda s: (s, ROBOT_STATE_DIMS[s]), ROBOT_STATES):\n",
                "            end = start + dim\n",
                "            robot_state_dict[state] = robot_state_flat[start:end]\n",
                "            start = end\n",
                "\n",
                "        obs[\"robot_state\"] = robot_state_dict\n",
                "\n",
                "    pickle_data(data, path)"
            ]
        },
        {
            "cell_type": "code",
            "execution_count": null,
            "metadata": {},
            "outputs": [],
            "source": []
        }
    ],
    "metadata": {
        "kernelspec": {
            "display_name": "rlgpu",
            "language": "python",
            "name": "python3"
        },
        "language_info": {
            "codemirror_mode": {
                "name": "ipython",
                "version": 3
            },
            "file_extension": ".py",
            "mimetype": "text/x-python",
            "name": "python",
            "nbconvert_exporter": "python",
            "pygments_lexer": "ipython3",
            "version": "3.8.18"
        }
    },
    "nbformat": 4,
    "nbformat_minor": 2
}
