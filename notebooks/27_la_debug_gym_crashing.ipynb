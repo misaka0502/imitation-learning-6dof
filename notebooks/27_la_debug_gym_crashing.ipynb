{
 "cells": [
  {
   "cell_type": "code",
   "execution_count": 1,
   "metadata": {},
   "outputs": [
    {
     "name": "stdout",
     "output_type": "stream",
     "text": [
      "env: CUDA_VISIBLE_DEVICES=0\n"
     ]
    }
   ],
   "source": [
    "%env CUDA_VISIBLE_DEVICES=0"
   ]
  },
  {
   "cell_type": "code",
   "execution_count": 2,
   "metadata": {},
   "outputs": [
    {
     "name": "stdout",
     "output_type": "stream",
     "text": [
      "Importing module 'gym_38' (/data/scratch/ankile/isaacgym/python/isaacgym/_bindings/linux-x86_64/gym_38.so)\n",
      "Setting GYM_USD_PLUG_INFO_PATH to /data/scratch/ankile/isaacgym/python/isaacgym/_bindings/linux-x86_64/usd/plugInfo.json\n",
      "PyTorch version 2.0.1+cu117\n",
      "Device count 1\n",
      "/data/scratch/ankile/isaacgym/python/isaacgym/_bindings/src/gymtorch\n"
     ]
    },
    {
     "name": "stderr",
     "output_type": "stream",
     "text": [
      "Using /data/scratch/ankile/.cache as PyTorch extensions root...\n",
      "Emitting ninja build file /data/scratch/ankile/.cache/gymtorch/build.ninja...\n",
      "Building extension module gymtorch...\n",
      "Allowing ninja to set a default number of workers... (overridable by setting the environment variable MAX_JOBS=N)\n"
     ]
    },
    {
     "name": "stdout",
     "output_type": "stream",
     "text": [
      "ninja: no work to do.\n"
     ]
    },
    {
     "name": "stderr",
     "output_type": "stream",
     "text": [
      "Loading extension module gymtorch...\n"
     ]
    }
   ],
   "source": [
    "import furniture_bench\n",
    "\n",
    "from src.gym import get_env\n",
    "import os"
   ]
  },
  {
   "cell_type": "code",
   "execution_count": 3,
   "metadata": {},
   "outputs": [
    {
     "ename": "",
     "evalue": "",
     "output_type": "error",
     "traceback": [
      "\u001b[1;31mThe Kernel crashed while executing code in the current cell or a previous cell. \n",
      "\u001b[1;31mPlease review the code in the cell(s) to identify a possible cause of the failure. \n",
      "\u001b[1;31mClick <a href='https://aka.ms/vscodeJupyterKernelCrash'>here</a> for more info. \n",
      "\u001b[1;31mView Jupyter <a href='command:jupyter.viewOutput'>log</a> for further details."
     ]
    }
   ],
   "source": [
    "env = get_env(\n",
    "    gpu_id=0,\n",
    "    furniture=\"one_leg\",\n",
    "    verbose=True,\n",
    ")"
   ]
  },
  {
   "cell_type": "code",
   "execution_count": null,
   "metadata": {},
   "outputs": [
    {
     "name": "stderr",
     "output_type": "stream",
     "text": [
      "INFO: Found collision-free init pose\n"
     ]
    },
    {
     "data": {
      "text/plain": [
       "{'robot_state': tensor([[ 0.5673,  0.0554,  0.1239,  0.8933,  0.4494, -0.0080,  0.0027,  0.0000,\n",
       "           0.0000,  0.0000,  0.0000,  0.0000,  0.0000,  0.0650]],\n",
       "        device='cuda:0'),\n",
       " 'color_image1': tensor([[[[ 84,  84,  84],\n",
       "           [ 84,  84,  84],\n",
       "           [ 84,  84,  84],\n",
       "           ...,\n",
       "           [169, 169, 169],\n",
       "           [238, 238, 238],\n",
       "           [120, 120, 120]],\n",
       " \n",
       "          [[ 84,  84,  84],\n",
       "           [ 84,  84,  84],\n",
       "           [ 84,  84,  84],\n",
       "           ...,\n",
       "           [255, 255, 255],\n",
       "           [120, 120, 120],\n",
       "           [120, 120, 120]],\n",
       " \n",
       "          [[ 84,  84,  84],\n",
       "           [ 84,  84,  84],\n",
       "           [ 84,  84,  84],\n",
       "           ...,\n",
       "           [255, 255, 255],\n",
       "           [120, 120, 120],\n",
       "           [120, 120, 120]],\n",
       " \n",
       "          ...,\n",
       " \n",
       "          [[ 43,  43,  41],\n",
       "           [ 43,  43,  41],\n",
       "           [ 43,  43,  41],\n",
       "           ...,\n",
       "           [ 42,  42,  41],\n",
       "           [ 42,  42,  41],\n",
       "           [ 42,  42,  41]],\n",
       " \n",
       "          [[ 43,  43,  41],\n",
       "           [ 43,  43,  41],\n",
       "           [ 43,  43,  41],\n",
       "           ...,\n",
       "           [ 42,  42,  40],\n",
       "           [ 42,  42,  40],\n",
       "           [ 42,  42,  40]],\n",
       " \n",
       "          [[ 43,  43,  41],\n",
       "           [ 43,  43,  41],\n",
       "           [ 43,  43,  41],\n",
       "           ...,\n",
       "           [ 41,  41,  40],\n",
       "           [ 41,  41,  39],\n",
       "           [ 42,  42,  40]]]], device='cuda:0', dtype=torch.uint8),\n",
       " 'color_image2': tensor([[[[ 0, 51, 28],\n",
       "           [ 0, 51, 29],\n",
       "           [ 0, 51, 29],\n",
       "           ...,\n",
       "           [ 0, 58, 32],\n",
       "           [ 0, 58, 32],\n",
       "           [ 0, 58, 32]],\n",
       " \n",
       "          [[ 0, 50, 28],\n",
       "           [ 0, 51, 28],\n",
       "           [ 0, 51, 29],\n",
       "           ...,\n",
       "           [ 0, 58, 32],\n",
       "           [ 0, 58, 32],\n",
       "           [ 0, 58, 32]],\n",
       " \n",
       "          [[ 0, 50, 28],\n",
       "           [ 0, 50, 28],\n",
       "           [ 0, 51, 28],\n",
       "           ...,\n",
       "           [ 0, 58, 32],\n",
       "           [ 0, 58, 32],\n",
       "           [ 0, 58, 32]],\n",
       " \n",
       "          ...,\n",
       " \n",
       "          [[42, 42, 40],\n",
       "           [41, 41, 40],\n",
       "           [42, 42, 40],\n",
       "           ...,\n",
       "           [42, 42, 40],\n",
       "           [42, 42, 40],\n",
       "           [42, 42, 40]],\n",
       " \n",
       "          [[41, 41, 39],\n",
       "           [41, 41, 39],\n",
       "           [42, 42, 40],\n",
       "           ...,\n",
       "           [42, 42, 40],\n",
       "           [41, 41, 40],\n",
       "           [41, 41, 40]],\n",
       " \n",
       "          [[41, 41, 40],\n",
       "           [42, 42, 40],\n",
       "           [42, 42, 40],\n",
       "           ...,\n",
       "           [42, 42, 40],\n",
       "           [42, 42, 40],\n",
       "           [41, 41, 40]]]], device='cuda:0', dtype=torch.uint8),\n",
       " 'parts_poses': tensor([[-0.0068,  0.2396, -0.0157, -0.0468, -0.7056,  0.7056,  0.0468, -0.1982,\n",
       "           0.0724, -0.0150, -0.0319, -0.7064, -0.0319,  0.7064, -0.1125,  0.0704,\n",
       "          -0.0150, -0.0240, -0.7067, -0.0240,  0.7067,  0.1062,  0.0737, -0.0150,\n",
       "           0.0888, -0.7015,  0.0888,  0.7015,  0.1926,  0.0753, -0.0150, -0.0521,\n",
       "          -0.7052, -0.0521,  0.7052]], device='cuda:0')}"
      ]
     },
     "execution_count": 4,
     "metadata": {},
     "output_type": "execute_result"
    }
   ],
   "source": [
    "# Do random actions\n",
    "env.reset()"
   ]
  },
  {
   "cell_type": "code",
   "execution_count": 2,
   "metadata": {},
   "outputs": [
    {
     "name": "stdout",
     "output_type": "stream",
     "text": [
      "Importing module 'gym_38' (/data/scratch/ankile/isaacgym/python/isaacgym/_bindings/linux-x86_64/gym_38.so)\n",
      "Setting GYM_USD_PLUG_INFO_PATH to /data/scratch/ankile/isaacgym/python/isaacgym/_bindings/linux-x86_64/usd/plugInfo.json\n",
      "PyTorch version 2.2.0+cu121\n",
      "Device count 1\n",
      "/data/scratch/ankile/isaacgym/python/isaacgym/_bindings/src/gymtorch\n"
     ]
    },
    {
     "name": "stderr",
     "output_type": "stream",
     "text": [
      "Using /data/scratch/ankile/.cache as PyTorch extensions root...\n",
      "Emitting ninja build file /data/scratch/ankile/.cache/gymtorch/build.ninja...\n",
      "Building extension module gymtorch...\n",
      "Allowing ninja to set a default number of workers... (overridable by setting the environment variable MAX_JOBS=N)\n"
     ]
    },
    {
     "name": "stdout",
     "output_type": "stream",
     "text": [
      "ninja: no work to do.\n"
     ]
    },
    {
     "name": "stderr",
     "output_type": "stream",
     "text": [
      "Loading extension module gymtorch...\n",
      "2024-02-06 18:18:39,445 - INFO - logger - logger initialized\n",
      "<unknown>:3: DeprecationWarning: invalid escape sequence \\*\n"
     ]
    },
    {
     "name": "stdout",
     "output_type": "stream",
     "text": [
      "Error: FBX library failed to load - importing FBX data will not succeed. Message: No module named 'fbx'\n",
      "FBX tools must be installed from https://help.autodesk.com/view/FBX/2020/ENU/?guid=FBX_Developer_Help_scripting_with_python_fbx_installing_python_fbx_html\n"
     ]
    },
    {
     "ename": "AttributeError",
     "evalue": "module 'numpy' has no attribute 'float'.\n`np.float` was a deprecated alias for the builtin `float`. To avoid this error in existing code, use `float` by itself. Doing this will not modify any behavior and is safe. If you specifically wanted the numpy scalar type, use `np.float64` here.\nThe aliases was originally deprecated in NumPy 1.20; for more details and guidance see the original release note at:\n    https://numpy.org/devdocs/release/1.20.0-notes.html#deprecations",
     "output_type": "error",
     "traceback": [
      "\u001b[0;31m---------------------------------------------------------------------------\u001b[0m",
      "\u001b[0;31mAttributeError\u001b[0m                            Traceback (most recent call last)",
      "Cell \u001b[0;32mIn[2], line 7\u001b[0m\n\u001b[1;32m      3\u001b[0m \u001b[38;5;28;01mimport\u001b[39;00m \u001b[38;5;21;01mtorch\u001b[39;00m\n\u001b[1;32m      5\u001b[0m num_envs \u001b[38;5;241m=\u001b[39m \u001b[38;5;241m2000\u001b[39m\n\u001b[0;32m----> 7\u001b[0m envs \u001b[38;5;241m=\u001b[39m \u001b[43misaacgymenvs\u001b[49m\u001b[38;5;241;43m.\u001b[39;49m\u001b[43mmake\u001b[49m\u001b[43m(\u001b[49m\n\u001b[1;32m      8\u001b[0m \u001b[43m    \u001b[49m\u001b[43mseed\u001b[49m\u001b[38;5;241;43m=\u001b[39;49m\u001b[38;5;241;43m0\u001b[39;49m\u001b[43m,\u001b[49m\n\u001b[1;32m      9\u001b[0m \u001b[43m    \u001b[49m\u001b[43mtask\u001b[49m\u001b[38;5;241;43m=\u001b[39;49m\u001b[38;5;124;43m\"\u001b[39;49m\u001b[38;5;124;43mAnt\u001b[39;49m\u001b[38;5;124;43m\"\u001b[39;49m\u001b[43m,\u001b[49m\n\u001b[1;32m     10\u001b[0m \u001b[43m    \u001b[49m\u001b[43mnum_envs\u001b[49m\u001b[38;5;241;43m=\u001b[39;49m\u001b[43mnum_envs\u001b[49m\u001b[43m,\u001b[49m\n\u001b[1;32m     11\u001b[0m \u001b[43m    \u001b[49m\u001b[43msim_device\u001b[49m\u001b[38;5;241;43m=\u001b[39;49m\u001b[38;5;124;43m\"\u001b[39;49m\u001b[38;5;124;43mcuda:0\u001b[39;49m\u001b[38;5;124;43m\"\u001b[39;49m\u001b[43m,\u001b[49m\n\u001b[1;32m     12\u001b[0m \u001b[43m    \u001b[49m\u001b[43mrl_device\u001b[49m\u001b[38;5;241;43m=\u001b[39;49m\u001b[38;5;124;43m\"\u001b[39;49m\u001b[38;5;124;43mcuda:0\u001b[39;49m\u001b[38;5;124;43m\"\u001b[39;49m\u001b[43m,\u001b[49m\n\u001b[1;32m     13\u001b[0m \u001b[43m)\u001b[49m\n\u001b[1;32m     14\u001b[0m \u001b[38;5;28mprint\u001b[39m(\u001b[38;5;124m\"\u001b[39m\u001b[38;5;124mObservation space is\u001b[39m\u001b[38;5;124m\"\u001b[39m, envs\u001b[38;5;241m.\u001b[39mobservation_space)\n\u001b[1;32m     15\u001b[0m \u001b[38;5;28mprint\u001b[39m(\u001b[38;5;124m\"\u001b[39m\u001b[38;5;124mAction space is\u001b[39m\u001b[38;5;124m\"\u001b[39m, envs\u001b[38;5;241m.\u001b[39maction_space)\n",
      "File \u001b[0;32m/data/scratch/ankile/IsaacGymEnvs/isaacgymenvs/__init__.py:27\u001b[0m, in \u001b[0;36mmake\u001b[0;34m(seed, task, num_envs, sim_device, rl_device, graphics_device_id, headless, multi_gpu, virtual_screen_capture, force_render, cfg)\u001b[0m\n\u001b[1;32m     14\u001b[0m \u001b[38;5;28;01mdef\u001b[39;00m \u001b[38;5;21mmake\u001b[39m(\n\u001b[1;32m     15\u001b[0m     seed: \u001b[38;5;28mint\u001b[39m, \n\u001b[1;32m     16\u001b[0m     task: \u001b[38;5;28mstr\u001b[39m, \n\u001b[0;32m   (...)\u001b[0m\n\u001b[1;32m     25\u001b[0m     cfg: DictConfig \u001b[38;5;241m=\u001b[39m \u001b[38;5;28;01mNone\u001b[39;00m\n\u001b[1;32m     26\u001b[0m ): \n\u001b[0;32m---> 27\u001b[0m     \u001b[38;5;28;01mfrom\u001b[39;00m \u001b[38;5;21;01misaacgymenvs\u001b[39;00m\u001b[38;5;21;01m.\u001b[39;00m\u001b[38;5;21;01mutils\u001b[39;00m\u001b[38;5;21;01m.\u001b[39;00m\u001b[38;5;21;01mrlgames_utils\u001b[39;00m \u001b[38;5;28;01mimport\u001b[39;00m get_rlgames_env_creator\n\u001b[1;32m     28\u001b[0m     \u001b[38;5;66;03m# create hydra config if no config passed in\u001b[39;00m\n\u001b[1;32m     29\u001b[0m     \u001b[38;5;28;01mif\u001b[39;00m cfg \u001b[38;5;129;01mis\u001b[39;00m \u001b[38;5;28;01mNone\u001b[39;00m:\n\u001b[1;32m     30\u001b[0m         \u001b[38;5;66;03m# reset current hydra config if already parsed (but not passed in here)\u001b[39;00m\n",
      "File \u001b[0;32m/data/scratch/ankile/IsaacGymEnvs/isaacgymenvs/utils/rlgames_utils.py:40\u001b[0m\n\u001b[1;32m     37\u001b[0m \u001b[38;5;28;01mfrom\u001b[39;00m \u001b[38;5;21;01mrl_games\u001b[39;00m\u001b[38;5;21;01m.\u001b[39;00m\u001b[38;5;21;01mcommon\u001b[39;00m \u001b[38;5;28;01mimport\u001b[39;00m env_configurations, vecenv\n\u001b[1;32m     38\u001b[0m \u001b[38;5;28;01mfrom\u001b[39;00m \u001b[38;5;21;01mrl_games\u001b[39;00m\u001b[38;5;21;01m.\u001b[39;00m\u001b[38;5;21;01mcommon\u001b[39;00m\u001b[38;5;21;01m.\u001b[39;00m\u001b[38;5;21;01malgo_observer\u001b[39;00m \u001b[38;5;28;01mimport\u001b[39;00m AlgoObserver\n\u001b[0;32m---> 40\u001b[0m \u001b[38;5;28;01mfrom\u001b[39;00m \u001b[38;5;21;01misaacgymenvs\u001b[39;00m\u001b[38;5;21;01m.\u001b[39;00m\u001b[38;5;21;01mtasks\u001b[39;00m \u001b[38;5;28;01mimport\u001b[39;00m isaacgym_task_map\n\u001b[1;32m     41\u001b[0m \u001b[38;5;28;01mfrom\u001b[39;00m \u001b[38;5;21;01misaacgymenvs\u001b[39;00m\u001b[38;5;21;01m.\u001b[39;00m\u001b[38;5;21;01mutils\u001b[39;00m\u001b[38;5;21;01m.\u001b[39;00m\u001b[38;5;21;01mutils\u001b[39;00m \u001b[38;5;28;01mimport\u001b[39;00m set_seed, flatten_dict\n\u001b[1;32m     44\u001b[0m \u001b[38;5;28;01mdef\u001b[39;00m \u001b[38;5;21mmulti_gpu_get_rank\u001b[39m(multi_gpu):\n",
      "File \u001b[0;32m/data/scratch/ankile/IsaacGymEnvs/isaacgymenvs/tasks/__init__.py:56\u001b[0m\n\u001b[1;32m     53\u001b[0m \u001b[38;5;28;01mfrom\u001b[39;00m \u001b[38;5;21;01m.\u001b[39;00m\u001b[38;5;21;01mallegro_kuka\u001b[39;00m\u001b[38;5;21;01m.\u001b[39;00m\u001b[38;5;21;01mallegro_kuka_two_arms_regrasping\u001b[39;00m \u001b[38;5;28;01mimport\u001b[39;00m AllegroKukaTwoArmsRegrasping\n\u001b[1;32m     54\u001b[0m \u001b[38;5;28;01mfrom\u001b[39;00m \u001b[38;5;21;01m.\u001b[39;00m\u001b[38;5;21;01mallegro_kuka\u001b[39;00m\u001b[38;5;21;01m.\u001b[39;00m\u001b[38;5;21;01mallegro_kuka_two_arms_reorientation\u001b[39;00m \u001b[38;5;28;01mimport\u001b[39;00m AllegroKukaTwoArmsReorientation\n\u001b[0;32m---> 56\u001b[0m \u001b[38;5;28;01mfrom\u001b[39;00m \u001b[38;5;21;01m.\u001b[39;00m\u001b[38;5;21;01mindustreal\u001b[39;00m\u001b[38;5;21;01m.\u001b[39;00m\u001b[38;5;21;01mindustreal_task_pegs_insert\u001b[39;00m \u001b[38;5;28;01mimport\u001b[39;00m IndustRealTaskPegsInsert\n\u001b[1;32m     57\u001b[0m \u001b[38;5;28;01mfrom\u001b[39;00m \u001b[38;5;21;01m.\u001b[39;00m\u001b[38;5;21;01mindustreal\u001b[39;00m\u001b[38;5;21;01m.\u001b[39;00m\u001b[38;5;21;01mindustreal_task_gears_insert\u001b[39;00m \u001b[38;5;28;01mimport\u001b[39;00m IndustRealTaskGearsInsert\n\u001b[1;32m     60\u001b[0m \u001b[38;5;28;01mdef\u001b[39;00m \u001b[38;5;21mresolve_allegro_kuka\u001b[39m(cfg, \u001b[38;5;241m*\u001b[39margs, \u001b[38;5;241m*\u001b[39m\u001b[38;5;241m*\u001b[39mkwargs):\n",
      "File \u001b[0;32m/data/scratch/ankile/IsaacGymEnvs/isaacgymenvs/tasks/industreal/industreal_task_pegs_insert.py:46\u001b[0m\n\u001b[1;32m     43\u001b[0m \u001b[38;5;28;01mimport\u001b[39;00m \u001b[38;5;21;01mtorch\u001b[39;00m\n\u001b[1;32m     44\u001b[0m \u001b[38;5;28;01mimport\u001b[39;00m \u001b[38;5;21;01mwarp\u001b[39;00m \u001b[38;5;28;01mas\u001b[39;00m \u001b[38;5;21;01mwp\u001b[39;00m\n\u001b[0;32m---> 46\u001b[0m \u001b[38;5;28;01mfrom\u001b[39;00m \u001b[38;5;21;01misaacgym\u001b[39;00m \u001b[38;5;28;01mimport\u001b[39;00m gymapi, gymtorch, torch_utils\n\u001b[1;32m     47\u001b[0m \u001b[38;5;28;01mfrom\u001b[39;00m \u001b[38;5;21;01misaacgymenvs\u001b[39;00m\u001b[38;5;21;01m.\u001b[39;00m\u001b[38;5;21;01mtasks\u001b[39;00m\u001b[38;5;21;01m.\u001b[39;00m\u001b[38;5;21;01mfactory\u001b[39;00m\u001b[38;5;21;01m.\u001b[39;00m\u001b[38;5;21;01mfactory_schema_class_task\u001b[39;00m \u001b[38;5;28;01mimport\u001b[39;00m FactoryABCTask\n\u001b[1;32m     48\u001b[0m \u001b[38;5;28;01mfrom\u001b[39;00m \u001b[38;5;21;01misaacgymenvs\u001b[39;00m\u001b[38;5;21;01m.\u001b[39;00m\u001b[38;5;21;01mtasks\u001b[39;00m\u001b[38;5;21;01m.\u001b[39;00m\u001b[38;5;21;01mfactory\u001b[39;00m\u001b[38;5;21;01m.\u001b[39;00m\u001b[38;5;21;01mfactory_schema_config_task\u001b[39;00m \u001b[38;5;28;01mimport\u001b[39;00m (\n\u001b[1;32m     49\u001b[0m     FactorySchemaConfigTask,\n\u001b[1;32m     50\u001b[0m )\n",
      "File \u001b[0;32m/data/scratch/ankile/isaacgym/python/isaacgym/torch_utils.py:135\u001b[0m\n\u001b[1;32m    130\u001b[0m \u001b[38;5;129m@torch\u001b[39m\u001b[38;5;241m.\u001b[39mjit\u001b[38;5;241m.\u001b[39mscript\n\u001b[1;32m    131\u001b[0m \u001b[38;5;28;01mdef\u001b[39;00m \u001b[38;5;21mget_basis_vector\u001b[39m(q, v):\n\u001b[1;32m    132\u001b[0m     \u001b[38;5;28;01mreturn\u001b[39;00m quat_rotate(q, v)\n\u001b[0;32m--> 135\u001b[0m \u001b[38;5;28;01mdef\u001b[39;00m \u001b[38;5;21mget_axis_params\u001b[39m(value, axis_idx, x_value\u001b[38;5;241m=\u001b[39m\u001b[38;5;241m0.\u001b[39m, dtype\u001b[38;5;241m=\u001b[39m\u001b[43mnp\u001b[49m\u001b[38;5;241;43m.\u001b[39;49m\u001b[43mfloat\u001b[49m, n_dims\u001b[38;5;241m=\u001b[39m\u001b[38;5;241m3\u001b[39m):\n\u001b[1;32m    136\u001b[0m \u001b[38;5;250m    \u001b[39m\u001b[38;5;124;03m\"\"\"construct arguments to `Vec` according to axis index.\u001b[39;00m\n\u001b[1;32m    137\u001b[0m \u001b[38;5;124;03m    \"\"\"\u001b[39;00m\n\u001b[1;32m    138\u001b[0m     zs \u001b[38;5;241m=\u001b[39m np\u001b[38;5;241m.\u001b[39mzeros((n_dims,))\n",
      "File \u001b[0;32m/data/scratch/ankile/miniconda3/envs/test-env/lib/python3.8/site-packages/numpy/__init__.py:305\u001b[0m, in \u001b[0;36m__getattr__\u001b[0;34m(attr)\u001b[0m\n\u001b[1;32m    300\u001b[0m     warnings\u001b[38;5;241m.\u001b[39mwarn(\n\u001b[1;32m    301\u001b[0m         \u001b[38;5;124mf\u001b[39m\u001b[38;5;124m\"\u001b[39m\u001b[38;5;124mIn the future `np.\u001b[39m\u001b[38;5;132;01m{\u001b[39;00mattr\u001b[38;5;132;01m}\u001b[39;00m\u001b[38;5;124m` will be defined as the \u001b[39m\u001b[38;5;124m\"\u001b[39m\n\u001b[1;32m    302\u001b[0m         \u001b[38;5;124m\"\u001b[39m\u001b[38;5;124mcorresponding NumPy scalar.\u001b[39m\u001b[38;5;124m\"\u001b[39m, \u001b[38;5;167;01mFutureWarning\u001b[39;00m, stacklevel\u001b[38;5;241m=\u001b[39m\u001b[38;5;241m2\u001b[39m)\n\u001b[1;32m    304\u001b[0m \u001b[38;5;28;01mif\u001b[39;00m attr \u001b[38;5;129;01min\u001b[39;00m __former_attrs__:\n\u001b[0;32m--> 305\u001b[0m     \u001b[38;5;28;01mraise\u001b[39;00m \u001b[38;5;167;01mAttributeError\u001b[39;00m(__former_attrs__[attr])\n\u001b[1;32m    307\u001b[0m \u001b[38;5;66;03m# Importing Tester requires importing all of UnitTest which is not a\u001b[39;00m\n\u001b[1;32m    308\u001b[0m \u001b[38;5;66;03m# cheap import Since it is mainly used in test suits, we lazy import it\u001b[39;00m\n\u001b[1;32m    309\u001b[0m \u001b[38;5;66;03m# here to save on the order of 10 ms of import time for most users\u001b[39;00m\n\u001b[1;32m    310\u001b[0m \u001b[38;5;66;03m#\u001b[39;00m\n\u001b[1;32m    311\u001b[0m \u001b[38;5;66;03m# The previous way Tester was imported also had a side effect of adding\u001b[39;00m\n\u001b[1;32m    312\u001b[0m \u001b[38;5;66;03m# the full `numpy.testing` namespace\u001b[39;00m\n\u001b[1;32m    313\u001b[0m \u001b[38;5;28;01mif\u001b[39;00m attr \u001b[38;5;241m==\u001b[39m \u001b[38;5;124m'\u001b[39m\u001b[38;5;124mtesting\u001b[39m\u001b[38;5;124m'\u001b[39m:\n",
      "\u001b[0;31mAttributeError\u001b[0m: module 'numpy' has no attribute 'float'.\n`np.float` was a deprecated alias for the builtin `float`. To avoid this error in existing code, use `float` by itself. Doing this will not modify any behavior and is safe. If you specifically wanted the numpy scalar type, use `np.float64` here.\nThe aliases was originally deprecated in NumPy 1.20; for more details and guidance see the original release note at:\n    https://numpy.org/devdocs/release/1.20.0-notes.html#deprecations"
     ]
    }
   ],
   "source": [
    "import isaacgym\n",
    "import isaacgymenvs\n",
    "import torch\n",
    "\n",
    "num_envs = 2000\n",
    "\n",
    "envs = isaacgymenvs.make(\n",
    "    seed=0,\n",
    "    task=\"Ant\",\n",
    "    num_envs=num_envs,\n",
    "    sim_device=\"cuda:0\",\n",
    "    rl_device=\"cuda:0\",\n",
    ")\n",
    "print(\"Observation space is\", envs.observation_space)\n",
    "print(\"Action space is\", envs.action_space)\n",
    "obs = envs.reset()\n",
    "for _ in range(20):\n",
    "    random_actions = (\n",
    "        2.0 * torch.rand((num_envs,) + envs.action_space.shape, device=\"cuda:0\") - 1.0\n",
    "    )\n",
    "    envs.step(random_actions)"
   ]
  },
  {
   "cell_type": "code",
   "execution_count": null,
   "metadata": {},
   "outputs": [],
   "source": []
  }
 ],
 "metadata": {
  "kernelspec": {
   "display_name": "rlgpu",
   "language": "python",
   "name": "python3"
  },
  "language_info": {
   "codemirror_mode": {
    "name": "ipython",
    "version": 3
   },
   "file_extension": ".py",
   "mimetype": "text/x-python",
   "name": "python",
   "nbconvert_exporter": "python",
   "pygments_lexer": "ipython3",
   "version": "3.8.18"
  }
 },
 "nbformat": 4,
 "nbformat_minor": 2
}
