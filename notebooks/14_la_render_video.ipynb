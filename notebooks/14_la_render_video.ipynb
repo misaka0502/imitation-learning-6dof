{
 "cells": [
  {
   "cell_type": "code",
   "execution_count": 2,
   "metadata": {},
   "outputs": [],
   "source": [
    "import numpy as np\n",
    "from tqdm import tqdm\n",
    "import wandb as wb\n",
    "import imageio\n",
    "from io import BytesIO\n",
    "import pickle\n",
    "import zarr\n",
    "from pathlib import Path\n",
    "from src.visualization.render_mp4 import create_mp4"
   ]
  },
  {
   "cell_type": "code",
   "execution_count": 3,
   "metadata": {},
   "outputs": [
    {
     "data": {
      "text/plain": [
       "(750, 720, 1280, 3)"
      ]
     },
     "execution_count": 3,
     "metadata": {},
     "output_type": "execute_result"
    }
   ],
   "source": [
    "np_images = np.linspace(0, 256, 750, dtype=np.uint8).reshape(750, 1, 1, 1)\n",
    "\n",
    "# Repeat this (750,) to (750, 720, 1280, 3)\n",
    "np_images = np.repeat(np_images, 720, axis=1)\n",
    "np_images = np.repeat(np_images, 1280, axis=2)\n",
    "np_images = np.repeat(np_images, 3, axis=3)\n",
    "\n",
    "np_images.shape"
   ]
  },
  {
   "cell_type": "code",
   "execution_count": 5,
   "metadata": {},
   "outputs": [
    {
     "name": "stderr",
     "output_type": "stream",
     "text": [
      "  0%|          | 2/750 [00:00<00:42, 17.75it/s]"
     ]
    },
    {
     "name": "stderr",
     "output_type": "stream",
     "text": [
      "100%|██████████| 750/750 [00:03<00:00, 211.11it/s]"
     ]
    },
    {
     "name": "stdout",
     "output_type": "stream",
     "text": [
      "File saved as output.mp4\n"
     ]
    },
    {
     "name": "stderr",
     "output_type": "stream",
     "text": [
      "\n"
     ]
    }
   ],
   "source": [
    "# For MP4\n",
    "create_mp4(np_images, \"output.mp4\")"
   ]
  },
  {
   "cell_type": "code",
   "execution_count": 15,
   "metadata": {},
   "outputs": [
    {
     "data": {
      "text/plain": [
       "(750, 224, 224, 3)"
      ]
     },
     "execution_count": 15,
     "metadata": {},
     "output_type": "execute_result"
    }
   ],
   "source": [
    "np_images = np.linspace(0, 256, 750, dtype=np.uint8).reshape(750, 1, 1, 1)\n",
    "\n",
    "# Repeat this (750,) to (750, 720, 1280, 3)\n",
    "np_images = np.repeat(np_images, 224, axis=1)\n",
    "np_images = np.repeat(np_images, 224, axis=2)\n",
    "np_images = np.repeat(np_images, 3, axis=3)\n",
    "\n",
    "np_images.shape"
   ]
  },
  {
   "cell_type": "code",
   "execution_count": 16,
   "metadata": {},
   "outputs": [
    {
     "name": "stderr",
     "output_type": "stream",
     "text": [
      "100%|██████████| 750/750 [00:00<00:00, 3374.72it/s]"
     ]
    },
    {
     "name": "stdout",
     "output_type": "stream",
     "text": [
      "File saved as output_small.mp4\n"
     ]
    },
    {
     "name": "stderr",
     "output_type": "stream",
     "text": [
      "\n"
     ]
    }
   ],
   "source": [
    "create_gif_or_mp4(np_images, \"output_small.mp4\", is_mp4=True)"
   ]
  },
  {
   "cell_type": "code",
   "execution_count": 3,
   "metadata": {},
   "outputs": [],
   "source": [
    "def create_in_memory_mp4(np_images, fps=10):\n",
    "    output = BytesIO()\n",
    "\n",
    "    writer_options = {\"fps\": fps}\n",
    "    writer_options[\"format\"] = \"mp4\"\n",
    "    writer_options[\"codec\"] = \"libx264\"\n",
    "    writer_options[\"pixelformat\"] = \"yuv420p\"\n",
    "\n",
    "    with imageio.get_writer(output, **writer_options) as writer:\n",
    "        for img in tqdm(np_images):\n",
    "            writer.append_data(img)\n",
    "    output.seek(0)\n",
    "    return output"
   ]
  },
  {
   "cell_type": "code",
   "execution_count": 26,
   "metadata": {},
   "outputs": [],
   "source": [
    "# Keep black\n",
    "vid1 = np_images.copy()\n",
    "\n",
    "# Make Red\n",
    "vid2 = np_images.copy()\n",
    "vid2[:, :, :, 1] = 0\n",
    "vid2[:, :, :, 2] = 0\n",
    "\n",
    "# Make Green\n",
    "vid3 = np_images.copy()\n",
    "vid3[:, :, :, 0] = 0\n",
    "vid3[:, :, :, 2] = 0\n",
    "\n",
    "# Make Blue\n",
    "vid4 = np_images.copy()\n",
    "vid4[:, :, :, 0] = 0\n",
    "vid4[:, :, :, 1] = 0\n",
    "\n",
    "vids = [vid1, vid2, vid3, vid4]"
   ]
  },
  {
   "cell_type": "code",
   "execution_count": 33,
   "metadata": {},
   "outputs": [],
   "source": [
    "import zarr\n",
    "\n",
    "data = zarr.open(\n",
    "    \"/data/scratch/ankile/furniture-data-old/data/processed/sim/image_small/one_leg/data.zarr\"\n",
    ")\n",
    "\n",
    "vid5 = data[\"color_image2\"][:750]"
   ]
  },
  {
   "cell_type": "code",
   "execution_count": 34,
   "metadata": {},
   "outputs": [],
   "source": [
    "vids.append(vid5)"
   ]
  },
  {
   "cell_type": "code",
   "execution_count": 35,
   "metadata": {},
   "outputs": [
    {
     "data": {
      "text/html": [
       "wandb version 0.16.0 is available!  To upgrade, please run:\n",
       " $ pip install wandb --upgrade"
      ],
      "text/plain": [
       "<IPython.core.display.HTML object>"
      ]
     },
     "metadata": {},
     "output_type": "display_data"
    },
    {
     "data": {
      "text/html": [
       "Tracking run with wandb version 0.15.11"
      ],
      "text/plain": [
       "<IPython.core.display.HTML object>"
      ]
     },
     "metadata": {},
     "output_type": "display_data"
    },
    {
     "data": {
      "text/html": [
       "Run data is saved locally in <code>/data/pulkitag/misc/ankile/.cache/wandb/run-20231115_204029-3jd7gcc3</code>"
      ],
      "text/plain": [
       "<IPython.core.display.HTML object>"
      ]
     },
     "metadata": {},
     "output_type": "display_data"
    },
    {
     "data": {
      "text/html": [
       "Syncing run <strong><a href='https://wandb.ai/robot-rearrangement/test-video/runs/3jd7gcc3' target=\"_blank\">golden-resonance-7</a></strong> to <a href='https://wandb.ai/robot-rearrangement/test-video' target=\"_blank\">Weights & Biases</a> (<a href='https://wandb.me/run' target=\"_blank\">docs</a>)<br/>"
      ],
      "text/plain": [
       "<IPython.core.display.HTML object>"
      ]
     },
     "metadata": {},
     "output_type": "display_data"
    },
    {
     "data": {
      "text/html": [
       " View project at <a href='https://wandb.ai/robot-rearrangement/test-video' target=\"_blank\">https://wandb.ai/robot-rearrangement/test-video</a>"
      ],
      "text/plain": [
       "<IPython.core.display.HTML object>"
      ]
     },
     "metadata": {},
     "output_type": "display_data"
    },
    {
     "data": {
      "text/html": [
       " View run at <a href='https://wandb.ai/robot-rearrangement/test-video/runs/3jd7gcc3' target=\"_blank\">https://wandb.ai/robot-rearrangement/test-video/runs/3jd7gcc3</a>"
      ],
      "text/plain": [
       "<IPython.core.display.HTML object>"
      ]
     },
     "metadata": {},
     "output_type": "display_data"
    },
    {
     "name": "stderr",
     "output_type": "stream",
     "text": [
      "100%|██████████| 750/750 [00:00<00:00, 3205.23it/s]\n",
      "100%|██████████| 750/750 [00:00<00:00, 2501.51it/s]\n",
      "100%|██████████| 750/750 [00:00<00:00, 2533.86it/s]\n",
      "100%|██████████| 750/750 [00:00<00:00, 2363.64it/s]\n",
      "100%|██████████| 750/750 [00:00<00:00, 1734.42it/s]\n"
     ]
    },
    {
     "data": {
      "text/html": [
       "Waiting for W&B process to finish... <strong style=\"color:green\">(success).</strong>"
      ],
      "text/plain": [
       "<IPython.core.display.HTML object>"
      ]
     },
     "metadata": {},
     "output_type": "display_data"
    },
    {
     "name": "stderr",
     "output_type": "stream",
     "text": [
      "wandb: WARNING Source type is set to 'repo' but some required information is missing from the environment. A job will not be created from this run. See https://docs.wandb.ai/guides/launch/create-job\n"
     ]
    },
    {
     "data": {
      "text/html": [
       " View run <strong style=\"color:#cdcd00\">golden-resonance-7</strong> at: <a href='https://wandb.ai/robot-rearrangement/test-video/runs/3jd7gcc3' target=\"_blank\">https://wandb.ai/robot-rearrangement/test-video/runs/3jd7gcc3</a><br/>Synced 6 W&B file(s), 1 media file(s), 6 artifact file(s) and 0 other file(s)"
      ],
      "text/plain": [
       "<IPython.core.display.HTML object>"
      ]
     },
     "metadata": {},
     "output_type": "display_data"
    },
    {
     "data": {
      "text/html": [
       "Find logs at: <code>/data/pulkitag/misc/ankile/.cache/wandb/run-20231115_204029-3jd7gcc3/logs</code>"
      ],
      "text/plain": [
       "<IPython.core.display.HTML object>"
      ]
     },
     "metadata": {},
     "output_type": "display_data"
    }
   ],
   "source": [
    "wb.init(project=\"test-video\")\n",
    "\n",
    "# Make a table object\n",
    "table = wb.Table(columns=[\"video\"])\n",
    "\n",
    "# Add the videos to the table\n",
    "for vid in vids:\n",
    "    video = create_in_memory_mp4(vid, fps=10)\n",
    "    table.add_data(wb.Video(video, fps=10, format=\"mp4\"))\n",
    "\n",
    "# Log the table\n",
    "wb.log({\"videos\": table})\n",
    "\n",
    "# end the run\n",
    "wb.finish()"
   ]
  },
  {
   "cell_type": "markdown",
   "metadata": {},
   "source": [
    "## Check the rollouts produced and saved"
   ]
  },
  {
   "cell_type": "code",
   "execution_count": 19,
   "metadata": {},
   "outputs": [
    {
     "data": {
      "text/plain": [
       "dict_keys(['observations', 'actions', 'rewards', 'success', 'furniture'])"
      ]
     },
     "execution_count": 19,
     "metadata": {},
     "output_type": "execute_result"
    }
   ],
   "source": [
    "rollout_path = \"/data/pulkitag/data/ankile/furniture-data/data/raw/sim_rollouts/2024-01-03_08-23-57/rollout_15.pkl\"\n",
    "\n",
    "with open(rollout_path, \"rb\") as f:\n",
    "    rollout = pickle.load(f)\n",
    "\n",
    "rollout.keys()"
   ]
  },
  {
   "cell_type": "code",
   "execution_count": 26,
   "metadata": {},
   "outputs": [
    {
     "data": {
      "text/plain": [
       "(False, 0.0)"
      ]
     },
     "execution_count": 26,
     "metadata": {},
     "output_type": "execute_result"
    }
   ],
   "source": [
    "rollout[\"success\"], sum(rollout[\"rewards\"])"
   ]
  },
  {
   "cell_type": "code",
   "execution_count": 27,
   "metadata": {},
   "outputs": [
    {
     "data": {
      "text/plain": [
       "(600, 600, 600)"
      ]
     },
     "execution_count": 27,
     "metadata": {},
     "output_type": "execute_result"
    }
   ],
   "source": [
    "len(rollout[\"observations\"]), len(rollout[\"actions\"]), len(rollout[\"rewards\"])"
   ]
  },
  {
   "cell_type": "code",
   "execution_count": 21,
   "metadata": {},
   "outputs": [],
   "source": [
    "# Produce a video of the rollout\n",
    "vid1, vid2 = zip(\n",
    "    *[(o[\"color_image1\"], o[\"color_image2\"]) for o in rollout[\"observations\"]]\n",
    ")\n",
    "\n",
    "vid = np.concatenate([vid1, vid2], axis=2)"
   ]
  },
  {
   "cell_type": "code",
   "execution_count": 6,
   "metadata": {},
   "outputs": [
    {
     "name": "stderr",
     "output_type": "stream",
     "text": [
      "100%|██████████| 600/600 [00:00<00:00, 758.79it/s]\n"
     ]
    },
    {
     "name": "stdout",
     "output_type": "stream",
     "text": [
      "File saved as output_rollout.mp4\n"
     ]
    }
   ],
   "source": [
    "# make video\n",
    "create_gif_or_mp4(vid, \"output_rollout.mp4\")"
   ]
  },
  {
   "cell_type": "markdown",
   "metadata": {},
   "source": [
    "## Some unrelated testing"
   ]
  },
  {
   "cell_type": "code",
   "execution_count": 4,
   "metadata": {},
   "outputs": [],
   "source": [
    "data = zarr.open(\n",
    "    \"/data/scratch/ankile/furniture-diffusion/replay_buffer.zarr\", mode=\"r\"\n",
    ")"
   ]
  },
  {
   "cell_type": "code",
   "execution_count": 5,
   "metadata": {},
   "outputs": [
    {
     "data": {
      "text/plain": [
       "27672"
      ]
     },
     "execution_count": 5,
     "metadata": {},
     "output_type": "execute_result"
    }
   ],
   "source": [
    "len(data[\"data\"][\"stage\"][:])"
   ]
  },
  {
   "cell_type": "code",
   "execution_count": 6,
   "metadata": {},
   "outputs": [
    {
     "data": {
      "text/plain": [
       "136"
      ]
     },
     "execution_count": 6,
     "metadata": {},
     "output_type": "execute_result"
    }
   ],
   "source": [
    "len(data[\"meta\"][\"episode_ends\"])"
   ]
  },
  {
   "cell_type": "code",
   "execution_count": 11,
   "metadata": {},
   "outputs": [
    {
     "data": {
      "text/plain": [
       "1672955667.7093015"
      ]
     },
     "execution_count": 11,
     "metadata": {},
     "output_type": "execute_result"
    }
   ],
   "source": [
    "data[\"data\"][\"timestamp\"][3]"
   ]
  },
  {
   "cell_type": "markdown",
   "metadata": {},
   "source": [
    "## More Unrelated Testing: Inspect demo collected from teleop"
   ]
  },
  {
   "cell_type": "code",
   "execution_count": 7,
   "metadata": {},
   "outputs": [],
   "source": [
    "pkl_file = \"/data/pulkitag/data/anthony/repos/research2/furniture-bench/test/drawer/2023-12-18-17:42:56/2023-12-18-17:42:56.pkl\""
   ]
  },
  {
   "cell_type": "code",
   "execution_count": 8,
   "metadata": {},
   "outputs": [],
   "source": [
    "with open(pkl_file, \"rb\") as f:\n",
    "    rollout = pickle.load(f)"
   ]
  },
  {
   "cell_type": "code",
   "execution_count": 21,
   "metadata": {},
   "outputs": [
    {
     "name": "stderr",
     "output_type": "stream",
     "text": [
      "100%|██████████| 1297/1297 [00:01<00:00, 1113.30it/s]"
     ]
    },
    {
     "name": "stdout",
     "output_type": "stream",
     "text": [
      "File saved as output_teleop.mp4\n"
     ]
    },
    {
     "name": "stderr",
     "output_type": "stream",
     "text": [
      "\n"
     ]
    }
   ],
   "source": [
    "# Produce a video of the rollout\n",
    "vid1, vid2 = zip(\n",
    "    *[(o[\"color_image1\"], o[\"color_image2\"]) for o in rollout[\"observations\"]]\n",
    ")\n",
    "\n",
    "vid = np.concatenate([vid1, vid2], axis=2)\n",
    "\n",
    "# make video\n",
    "create_gif_or_mp4(vid, \"output_teleop.mp4\")"
   ]
  },
  {
   "cell_type": "code",
   "execution_count": null,
   "metadata": {},
   "outputs": [],
   "source": []
  }
 ],
 "metadata": {
  "kernelspec": {
   "display_name": "rlgpu",
   "language": "python",
   "name": "python3"
  },
  "language_info": {
   "codemirror_mode": {
    "name": "ipython",
    "version": 3
   },
   "file_extension": ".py",
   "mimetype": "text/x-python",
   "name": "python",
   "nbconvert_exporter": "python",
   "pygments_lexer": "ipython3",
   "version": "3.8.18"
  }
 },
 "nbformat": 4,
 "nbformat_minor": 2
}
