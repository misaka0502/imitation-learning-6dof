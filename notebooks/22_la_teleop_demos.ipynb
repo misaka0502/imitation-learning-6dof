{
 "cells": [
  {
   "cell_type": "code",
   "execution_count": null,
   "metadata": {},
   "outputs": [],
   "source": [
    "%load_ext autoreload\n",
    "%autoreload 2"
   ]
  },
  {
   "cell_type": "code",
   "execution_count": null,
   "metadata": {},
   "outputs": [],
   "source": [
    "import furniture_bench\n",
    "\n",
    "import os\n",
    "import pickle\n",
    "import numpy as np\n",
    "from pathlib import Path\n",
    "import zarr\n",
    "\n",
    "from src.visualization.render_mp4 import (\n",
    "    data_to_video,\n",
    "    unpickle_data,\n",
    "    create_mp4_jupyter,\n",
    "    mp4_from_pickle_jupyter,\n",
    ")\n",
    "from src.gym import get_env\n",
    "\n",
    "from tqdm import tqdm"
   ]
  },
  {
   "cell_type": "code",
   "execution_count": null,
   "metadata": {},
   "outputs": [],
   "source": [
    "os.environ[\"DATA_DIR_RAW\"] = \"/data/scratch-oc40/pulkitag/ankile/furniture-data/\""
   ]
  },
  {
   "cell_type": "code",
   "execution_count": null,
   "metadata": {},
   "outputs": [],
   "source": [
    "teleopdir = Path(os.environ[\"DATA_DIR_RAW\"]) / \"raw\" / \"sim\" / \"teleop\""
   ]
  },
  {
   "cell_type": "code",
   "execution_count": null,
   "metadata": {},
   "outputs": [],
   "source": [
    "pickles = list(teleopdir.rglob(\"*success.pkl\"))\n",
    "\n",
    "len(pickles)"
   ]
  },
  {
   "cell_type": "code",
   "execution_count": null,
   "metadata": {},
   "outputs": [],
   "source": [
    "tmp_rollout_dir = Path(\".\") / \"tmp_rollout_dir\"\n",
    "tmp_rollout_dir.mkdir(exist_ok=True)"
   ]
  },
  {
   "cell_type": "code",
   "execution_count": null,
   "metadata": {},
   "outputs": [],
   "source": [
    "total = 0\n",
    "\n",
    "for i, p in enumerate(pickles):\n",
    "    data = unpickle_data(p)\n",
    "    if not data[\"success\"]:\n",
    "        continue\n",
    "    ims = data_to_video(data)\n",
    "    video_tag = create_mp4_jupyter(ims, tmp_rollout_dir / f\"video{i}.mp4\")\n",
    "    display(video_tag)\n",
    "    total += 1\n",
    "\n",
    "print(f\"Total successes: {total}\")"
   ]
  },
  {
   "cell_type": "markdown",
   "metadata": {},
   "source": [
    "## Play back teleop demos in the sim"
   ]
  },
  {
   "cell_type": "markdown",
   "metadata": {},
   "source": [
    "### Teleop demo"
   ]
  },
  {
   "cell_type": "code",
   "execution_count": null,
   "metadata": {},
   "outputs": [],
   "source": [
    "data = unpickle_data(\n",
    "    \"/data/scratch/ankile/furniture-diffusion/data/raw/sim/one_leg/low/2024-01-18-14:40:50/2024-01-18-14:40:50.pkl\"\n",
    ")\n",
    "data = unpickle_data(\n",
    "    \"/data/scratch-oc40/pulkitag/ankile/furniture-data/raw/sim/scripted/one_leg/low/2024-01-12-16:21:52/2024-01-12-16:21:52_success.pkl\"\n",
    ")\n",
    "\n",
    "lamp = unpickle_data(\n",
    "    \"/data/scratch-oc40/pulkitag/ankile/furniture-data/raw/sim/lamp/low/2024-01-18-15:00:10/2024-01-18-15:00:10.pkl\"\n",
    ")\n",
    "\n",
    "data[\"observations\"][0].keys()"
   ]
  },
  {
   "cell_type": "code",
   "execution_count": null,
   "metadata": {},
   "outputs": [],
   "source": [
    "env = get_env(\n",
    "    gpu_id=0,\n",
    "    # obs_type=\"image\",\n",
    "    furniture=\"lamp\",\n",
    "    num_envs=1,\n",
    "    randomness=\"low\",\n",
    "    resize_img=True,\n",
    "    act_rot_repr=\"quat\",\n",
    "    ctrl_mode=\"diffik\",\n",
    "    verbose=False,\n",
    ")"
   ]
  },
  {
   "cell_type": "code",
   "execution_count": null,
   "metadata": {},
   "outputs": [],
   "source": [
    "def play_back_trajectory(actions, env, filename):\n",
    "    imgs1, imgs2 = [], []\n",
    "\n",
    "    obs = env.reset()\n",
    "    imgs1.append(obs[\"color_image1\"])\n",
    "    imgs2.append(obs[\"color_image2\"])\n",
    "\n",
    "    for action in tqdm(actions):\n",
    "        obs, _, _, _ = env.step(action)\n",
    "        imgs1.append(obs[\"color_image1\"])\n",
    "        imgs2.append(obs[\"color_image2\"])\n",
    "\n",
    "    imgs1 = np.array([img.cpu().numpy() for img in imgs1])\n",
    "    imgs2 = np.array([img.cpu().numpy() for img in imgs2])\n",
    "\n",
    "    imgs1 = imgs1.reshape(-1, 224, 224, 3)\n",
    "    imgs2 = imgs2.reshape(-1, 224, 224, 3)\n",
    "\n",
    "    imgs1.shape, imgs2.shape\n",
    "    images = np.concatenate([imgs1, imgs2], axis=2)\n",
    "\n",
    "    video_tag = create_mp4_jupyter(images, tmp_rollout_dir / filename)\n",
    "    display(video_tag)"
   ]
  },
  {
   "cell_type": "code",
   "execution_count": null,
   "metadata": {},
   "outputs": [],
   "source": [
    "play_back_trajectory(lamp[\"actions\"], env, \"scripted_demo_lamp_1.mp4\")"
   ]
  },
  {
   "cell_type": "code",
   "execution_count": null,
   "metadata": {},
   "outputs": [],
   "source": [
    "data1 = unpickle_data(\n",
    "    \"/data/scratch/ankile/furniture-diffusion/data/raw/sim/one_leg/low/2024-01-18-14:40:50/2024-01-18-14:40:50.pkl\"\n",
    ")\n",
    "\n",
    "ims1 = data_to_video(lamp)\n",
    "\n",
    "video_tag = create_mp4_jupyter(ims1, tmp_rollout_dir / \"test_lamp.mp4\")\n",
    "display(video_tag)"
   ]
  },
  {
   "cell_type": "markdown",
   "metadata": {},
   "source": [
    "### Scripted demo"
   ]
  },
  {
   "cell_type": "code",
   "execution_count": null,
   "metadata": {},
   "outputs": [],
   "source": [
    "import zarr\n",
    "\n",
    "z = zarr.open(\n",
    "    \"/data/scratch/ankile/furniture-data/processed/sim/image/lamp/data_batch_32.zarr\"\n",
    ")"
   ]
  },
  {
   "cell_type": "code",
   "execution_count": null,
   "metadata": {},
   "outputs": [],
   "source": [
    "ep_num = 3\n",
    "\n",
    "start_idx = z[\"episode_ends\"][ep_num - 1]\n",
    "end_idx = z[\"episode_ends\"][ep_num]\n",
    "\n",
    "actions = z[\"action\"][start_idx:end_idx]\n",
    "\n",
    "actions.shape"
   ]
  },
  {
   "cell_type": "code",
   "execution_count": null,
   "metadata": {},
   "outputs": [],
   "source": [
    "play_back_trajectory(actions, env, \"scripted_demo_1.mp4\")"
   ]
  },
  {
   "cell_type": "code",
   "execution_count": null,
   "metadata": {},
   "outputs": [],
   "source": [
    "import numpy as np\n",
    "from tqdm import tqdm\n",
    "import zarr\n",
    "import random"
   ]
  },
  {
   "cell_type": "code",
   "execution_count": null,
   "metadata": {},
   "outputs": [],
   "source": [
    "chunk_size = (1_000, 224, 224, 3)  # Adjust based on your needs"
   ]
  },
  {
   "cell_type": "code",
   "execution_count": null,
   "metadata": {},
   "outputs": [],
   "source": [
    "tmp = zarr.open(\n",
    "    \"/data/scratch/ankile/furniture-data/processed/sim/image/one_leg/data_batch_32.zarr\",\n",
    "    mode=\"r\",\n",
    ")\n",
    "\n",
    "tmp[\"color_image1\"].shape, tmp[\"color_image2\"].shape"
   ]
  },
  {
   "cell_type": "code",
   "execution_count": null,
   "metadata": {},
   "outputs": [],
   "source": [
    "np_img1 = np.zeros(tmp[\"color_image1\"].shape, dtype=np.uint8)\n",
    "\n",
    "for i in tqdm(range(0, tmp[\"color_image1\"].shape[0], 1024)):\n",
    "    np_img1[i : i + 1024] = tmp[\"color_image1\"][i : i + 1024]"
   ]
  },
  {
   "cell_type": "code",
   "execution_count": null,
   "metadata": {},
   "outputs": [],
   "source": [
    "np_img2 = np.zeros(tmp[\"color_image2\"].shape, dtype=np.uint8)\n",
    "\n",
    "for i in tqdm(range(0, tmp[\"color_image2\"].shape[0], 1024)):\n",
    "    np_img2[i : i + 1024] = tmp[\"color_image2\"][i : i + 1024]"
   ]
  },
  {
   "cell_type": "code",
   "execution_count": null,
   "metadata": {},
   "outputs": [],
   "source": [
    "np_img1.shape, np_img2.shape"
   ]
  },
  {
   "cell_type": "code",
   "execution_count": null,
   "metadata": {},
   "outputs": [],
   "source": [
    "np_img1.shape, np_img2.shape"
   ]
  },
  {
   "cell_type": "code",
   "execution_count": null,
   "metadata": {},
   "outputs": [],
   "source": [
    "# Create a directory store\n",
    "store = zarr.DirectoryStore(\"stores/directory_store.zarr\")\n",
    "\n",
    "# Define chunk size\n",
    "chunk_size = (1_000, 224, 224, 3)  # Adjust based on your needs\n",
    "\n",
    "# Create Zarr arrays\n",
    "color_image1 = zarr.create(\n",
    "    shape=np_img1.shape,\n",
    "    chunks=chunk_size,\n",
    "    dtype=np_img1.dtype,\n",
    "    store=store,\n",
    "    path=\"color_image1\",\n",
    "    overwrite=True,\n",
    ")\n",
    "color_image2 = zarr.create(\n",
    "    shape=np_img2.shape,\n",
    "    chunks=chunk_size,\n",
    "    dtype=np_img2.dtype,\n",
    "    store=store,\n",
    "    path=\"color_image2\",\n",
    "    overwrite=True,\n",
    ")\n",
    "\n",
    "# Populate the arrays\n",
    "color_image1[:] = np_img1\n",
    "color_image2[:] = np_img2"
   ]
  },
  {
   "cell_type": "code",
   "execution_count": null,
   "metadata": {},
   "outputs": [],
   "source": [
    "# Create a directory store\n",
    "store = zarr.DirectoryStore(\"stores/directory_store.zarr\")\n",
    "\n",
    "# Now wrap the store with LRU cache\n",
    "cached_store = zarr.LRUStoreCache(store, max_size=None)\n",
    "\n",
    "# Access the arrays using the cached store for later operations\n",
    "color_image1 = zarr.open_array(cached_store, path=\"color_image1\", mode=\"r\")\n",
    "color_image2 = zarr.open_array(cached_store, path=\"color_image2\", mode=\"r\")"
   ]
  },
  {
   "cell_type": "code",
   "execution_count": null,
   "metadata": {},
   "outputs": [],
   "source": [
    "color_image1"
   ]
  },
  {
   "cell_type": "code",
   "execution_count": null,
   "metadata": {},
   "outputs": [],
   "source": [
    "for i in tqdm(range(1_000)):\n",
    "    # Get just random chunks of 16 images\n",
    "    random_idx = random.randint(0, color_image1.shape[0] - 16)\n",
    "    color_image1[i : i + 16]\n",
    "    color_image2[i : i + 16]"
   ]
  },
  {
   "cell_type": "code",
   "execution_count": null,
   "metadata": {},
   "outputs": [],
   "source": [
    "# iterate over the arrays to test the cache\n",
    "for i in tqdm(range(0, color_image1.shape[0], 1024)):\n",
    "    color_image1[i : i + 1024]\n",
    "    color_image2[i : i + 1024]"
   ]
  },
  {
   "cell_type": "code",
   "execution_count": null,
   "metadata": {},
   "outputs": [],
   "source": [
    "# This time, hope it's much faster\n",
    "for i in tqdm(range(1_000)):\n",
    "    random_idx = random.randint(0, color_image1.shape[0] - 16)\n",
    "    color_image1[i : i + 16]\n",
    "    color_image2[i : i + 16]"
   ]
  },
  {
   "cell_type": "code",
   "execution_count": null,
   "metadata": {},
   "outputs": [],
   "source": [
    "# Create a ZipStore\n",
    "zip_store = zarr.ZipStore(\"stores/zip_store.zip\", mode=\"w\")\n",
    "\n",
    "# Define chunk size\n",
    "\n",
    "# Create Zarr arrays within the ZipStore\n",
    "color_image1 = zarr.create(\n",
    "    shape=np_img1.shape,\n",
    "    chunks=chunk_size,\n",
    "    dtype=np_img1.dtype,\n",
    "    store=zip_store,\n",
    "    path=\"color_image1\",\n",
    ")\n",
    "color_image2 = zarr.create(\n",
    "    shape=np_img2.shape,\n",
    "    chunks=chunk_size,\n",
    "    dtype=np_img2.dtype,\n",
    "    store=zip_store,\n",
    "    path=\"color_image2\",\n",
    ")\n",
    "\n",
    "# Populate the arrays\n",
    "color_image1[:] = np_img1\n",
    "color_image2[:] = np_img2\n",
    "\n",
    "# It's important to close the ZipStore\n",
    "zip_store.close()"
   ]
  },
  {
   "cell_type": "code",
   "execution_count": null,
   "metadata": {},
   "outputs": [],
   "source": [
    "import zarr\n",
    "import numpy as np\n",
    "from concurrent.futures import ThreadPoolExecutor\n",
    "\n",
    "\n",
    "def load_chunk(arr, chunk_slice):\n",
    "    return arr[chunk_slice]\n",
    "\n",
    "\n",
    "# Function to get all chunk slices for a given Zarr array\n",
    "def get_chunk_slices(shape, chunks):\n",
    "    ranges = [range(0, s, c) for s, c in zip(shape, chunks)]\n",
    "    return [\n",
    "        tuple(slice(i, min(i + c, s)) for i, c, s in zip(start, chunks, shape))\n",
    "        for start in np.ndindex(*map(len, ranges))\n",
    "    ]\n",
    "\n",
    "\n",
    "# Open the ZipStore in read-only mode\n",
    "zip_store = zarr.ZipStore(\"stores/zip_store.zip\", mode=\"r\")\n",
    "\n",
    "# Open the arrays\n",
    "color_image1 = zarr.open_array(store=zip_store, path=\"color_image1\", mode=\"r\")\n",
    "color_image2 = zarr.open_array(store=zip_store, path=\"color_image2\", mode=\"r\")\n",
    "\n",
    "# Get the chunk slices for each array\n",
    "chunk_slices1 = get_chunk_slices(color_image1.shape, color_image1.chunks)\n",
    "chunk_slices2 = get_chunk_slices(color_image2.shape, color_image2.chunks)\n",
    "\n",
    "# Create empty arrays to hold the data in memory\n",
    "color_image1_data = np.empty(color_image1.shape, dtype=color_image1.dtype)\n",
    "color_image2_data = np.empty(color_image2.shape, dtype=color_image2.dtype)\n",
    "\n",
    "# Load data in parallel\n",
    "with ThreadPoolExecutor() as executor:\n",
    "    # Load color_image1\n",
    "    futures1 = [executor.submit(load_chunk, color_image1, cs) for cs in chunk_slices1]\n",
    "    for cs, future in enumerate(futures1):\n",
    "        color_image1_data[chunk_slices1[cs]] = future.result()\n",
    "\n",
    "    # Load color_image2\n",
    "    futures2 = [executor.submit(load_chunk, color_image2, cs) for cs in chunk_slices2]\n",
    "    for cs, future in enumerate(futures2):\n",
    "        color_image2_data[chunk_slices2[cs]] = future.result()\n",
    "\n",
    "# Close the store when done\n",
    "zip_store.close()"
   ]
  },
  {
   "cell_type": "code",
   "execution_count": null,
   "metadata": {},
   "outputs": [],
   "source": [
    "np_img1.shape, np_img2.shape"
   ]
  },
  {
   "cell_type": "code",
   "execution_count": null,
   "metadata": {},
   "outputs": [],
   "source": [
    "from numcodecs import Blosc\n",
    "\n",
    "\n",
    "compressor = Blosc(cname=\"zstd\", clevel=9, shuffle=Blosc.BITSHUFFLE)\n",
    "\n",
    "# Create a directory store or ZipStore\n",
    "store = zarr.DirectoryStore(\"stores/directory_store_2.zarr\")\n",
    "# Or for ZipStore: store = zarr.ZipStore('path/to/zip_store.zip')\n",
    "\n",
    "# Create Zarr arrays with the compressor\n",
    "color_image1 = zarr.array(\n",
    "    np_img1,\n",
    "    chunks=chunk_size,\n",
    "    compressor=compressor,\n",
    "    store=store,\n",
    "    path=\"color_image1\",\n",
    ")\n",
    "color_image2 = zarr.array(\n",
    "    np_img1,\n",
    "    chunks=chunk_size,\n",
    "    compressor=compressor,\n",
    "    store=store,\n",
    "    path=\"color_image2\",\n",
    ")"
   ]
  },
  {
   "cell_type": "code",
   "execution_count": null,
   "metadata": {},
   "outputs": [],
   "source": [
    "# Open the DirectoryStore in read-only mode\n",
    "store = zarr.DirectoryStore(\"stores/directory_store_2.zarr\")\n",
    "\n",
    "# Open the arrays\n",
    "color_image1 = zarr.open_array(store=store, path=\"color_image1\", mode=\"r\")\n",
    "color_image2 = zarr.open_array(store=store, path=\"color_image2\", mode=\"r\")"
   ]
  },
  {
   "cell_type": "code",
   "execution_count": null,
   "metadata": {},
   "outputs": [],
   "source": [
    "color_image1.shape, color_image2.shape"
   ]
  },
  {
   "cell_type": "code",
   "execution_count": null,
   "metadata": {},
   "outputs": [],
   "source": [
    "# Show an image\n",
    "import matplotlib.pyplot as plt\n",
    "\n",
    "img_idx = 190\n",
    "\n",
    "fig, (ax1, ax2) = plt.subplots(1, 2, figsize=(20, 10))\n",
    "\n",
    "ax1.imshow(color_image2[img_idx])\n",
    "ax2.imshow(tmp[\"color_image2\"][img_idx])"
   ]
  },
  {
   "cell_type": "code",
   "execution_count": null,
   "metadata": {},
   "outputs": [],
   "source": [
    "tmp1 = color_image1[:]\n",
    "tmp2 = color_image2[:]"
   ]
  },
  {
   "cell_type": "code",
   "execution_count": null,
   "metadata": {},
   "outputs": [],
   "source": [
    "tmp1.shape, tmp2.shape"
   ]
  },
  {
   "cell_type": "code",
   "execution_count": null,
   "metadata": {},
   "outputs": [],
   "source": [
    "type(tmp1)"
   ]
  },
  {
   "cell_type": "code",
   "execution_count": null,
   "metadata": {},
   "outputs": [],
   "source": [
    "for i in tqdm(range(1_000)):\n",
    "    random_idx = random.randint(0, tmp1.shape[0] - 16)\n",
    "    color_image2[i : i + 16]"
   ]
  },
  {
   "cell_type": "code",
   "execution_count": null,
   "metadata": {},
   "outputs": [],
   "source": [
    "import zarr\n",
    "\n",
    "z = zarr.open(\n",
    "    \"/data/scratch/ankile/furniture-data/processed/sim/image/one_leg/scripted.zarr\",\n",
    "    mode=\"r\",\n",
    ")"
   ]
  },
  {
   "cell_type": "code",
   "execution_count": null,
   "metadata": {},
   "outputs": [],
   "source": [
    "z[\"color_image1\"].shape, z[\"color_image2\"].shape"
   ]
  },
  {
   "cell_type": "code",
   "execution_count": null,
   "metadata": {},
   "outputs": [],
   "source": [
    "z[\"episode_ends\"][:]"
   ]
  },
  {
   "cell_type": "markdown",
   "metadata": {},
   "source": [
    "## Look at MP4 compression rate"
   ]
  },
  {
   "cell_type": "code",
   "execution_count": null,
   "metadata": {},
   "outputs": [],
   "source": [
    "# Make 1280 by 720 videos of length 1_000\n",
    "vid1280 = np.zeros((1_000, 720, 1280, 3), dtype=np.uint8)\n",
    "vid1280[:, :180, :320, :] = np.random.randint(\n",
    "    0, 255, size=(1_000, 180, 320, 3), dtype=np.uint8\n",
    ")\n",
    "# vid240 = np.random.randint(0, 255, size=(1_000, 240, 240, 3), dtype=np.uint8)"
   ]
  },
  {
   "cell_type": "code",
   "execution_count": null,
   "metadata": {},
   "outputs": [],
   "source": [
    "with open(\"test_1280.npy\", \"wb\") as f:\n",
    "    pickle.dump(vid1280, f)"
   ]
  },
  {
   "cell_type": "code",
   "execution_count": null,
   "metadata": {},
   "outputs": [],
   "source": [
    "# 1000 * 720 * 1280 * 3 / 1e9\n",
    "1000 * 240 * 240 * 3 / 1e9"
   ]
  },
  {
   "cell_type": "code",
   "execution_count": null,
   "metadata": {},
   "outputs": [],
   "source": [
    "# Write it as an mp4\n",
    "create_mp4_jupyter(vid1280, \"test_1280.mp4\")"
   ]
  },
  {
   "cell_type": "code",
   "execution_count": null,
   "metadata": {},
   "outputs": [],
   "source": [
    "import gzip\n",
    "import numpy\n",
    "import bz2\n",
    "import lzma\n",
    "import pickle\n",
    "\n",
    "from src.visualization.render_mp4 import unpickle_data"
   ]
  },
  {
   "cell_type": "code",
   "execution_count": null,
   "metadata": {},
   "outputs": [],
   "source": [
    "data1 = unpickle_data(\n",
    "    \"/data/scratch/ankile/furniture-data/raw-old/sim/scripted/image/one_leg/low/2023-10-25-17:49:38/2023-10-25-17:49:38.pkl\"\n",
    ")"
   ]
  },
  {
   "cell_type": "code",
   "execution_count": null,
   "metadata": {},
   "outputs": [],
   "source": [
    "%%timeit\n",
    "with open(\"no_compression.pickle\", \"wb\") as f:\n",
    "    pickle.dump(data1, f)\n"
   ]
  },
  {
   "cell_type": "code",
   "execution_count": null,
   "metadata": {},
   "outputs": [],
   "source": [
    "%%timeit\n",
    "# Read them all back and verify they are the same\n",
    "with open(\"no_compression.pickle\", \"rb\") as f:\n",
    "    data1 = pickle.load(f)"
   ]
  },
  {
   "cell_type": "code",
   "execution_count": null,
   "metadata": {},
   "outputs": [],
   "source": [
    "%%timeit\n",
    "with gzip.open(\"gzip_test.gz\", \"wb\") as f:\n",
    "    pickle.dump(data1, f)\n"
   ]
  },
  {
   "cell_type": "code",
   "execution_count": null,
   "metadata": {},
   "outputs": [],
   "source": [
    "%%timeit\n",
    "with gzip.open(\"gzip_test.gz\", \"rb\") as f:\n",
    "    data2 = pickle.load(f)\n"
   ]
  },
  {
   "cell_type": "code",
   "execution_count": null,
   "metadata": {},
   "outputs": [],
   "source": [
    "%%timeit\n",
    "with bz2.BZ2File(\"bz2_test.pbz2\", \"wb\") as f:\n",
    "    pickle.dump(data1, f)\n"
   ]
  },
  {
   "cell_type": "code",
   "execution_count": null,
   "metadata": {},
   "outputs": [],
   "source": [
    "%%timeit\n",
    "with bz2.BZ2File(\"bz2_test.pbz2\", \"rb\") as f:\n",
    "    data3 = pickle.load(f)\n"
   ]
  },
  {
   "cell_type": "code",
   "execution_count": null,
   "metadata": {},
   "outputs": [],
   "source": [
    "%%timeit\n",
    "with lzma.open(\"lzma_test.xz\", \"wb\") as f:\n",
    "    pickle.dump(data1, f)"
   ]
  },
  {
   "cell_type": "code",
   "execution_count": null,
   "metadata": {},
   "outputs": [],
   "source": [
    "%%timeit\n",
    "with lzma.open(\"lzma_test.xz\", \"rb\") as f:\n",
    "    data4 = pickle.load(f)\n"
   ]
  },
  {
   "cell_type": "code",
   "execution_count": null,
   "metadata": {},
   "outputs": [],
   "source": [
    "data1.keys()  # , data2.keys(), data3.keys(), data4.keys()"
   ]
  },
  {
   "cell_type": "code",
   "execution_count": null,
   "metadata": {},
   "outputs": [],
   "source": [
    "data1[\"observations\"][0].keys(), data1[\"observations\"][0][\"image_size\"]"
   ]
  },
  {
   "cell_type": "code",
   "execution_count": null,
   "metadata": {},
   "outputs": [],
   "source": [
    "# Check the first frame of the video\n",
    "(\n",
    "    np.all(\n",
    "        data1[\"observations\"][0][\"color_image1\"]\n",
    "        == data2[\"observations\"][0][\"color_image1\"]\n",
    "    ),\n",
    "    np.all(\n",
    "        data1[\"observations\"][0][\"color_image1\"]\n",
    "        == data3[\"observations\"][0][\"color_image1\"]\n",
    "    ),\n",
    "    np.all(\n",
    "        data1[\"observations\"][0][\"color_image1\"]\n",
    "        == data4[\"observations\"][0][\"color_image1\"]\n",
    "    ),\n",
    ")"
   ]
  },
  {
   "cell_type": "markdown",
   "metadata": {},
   "source": [
    "## Inspect the teleop demos that are continued from one_leg scripted"
   ]
  },
  {
   "cell_type": "code",
   "execution_count": null,
   "metadata": {},
   "outputs": [],
   "source": [
    "import zarr\n",
    "import numpy as np\n",
    "from pathlib import Path\n",
    "from src.visualization.render_mp4 import (\n",
    "    mp4_from_pickle_jupyter,\n",
    "    unpickle_data,\n",
    "    pickle_data,\n",
    ")\n",
    "from furniture_bench.robot.robot_state import filter_and_concat_robot_state\n",
    "from tqdm import tqdm\n",
    "\n",
    "tmp_rollout_dir = Path(\".\") / \"tmp_rollout_dir\""
   ]
  },
  {
   "cell_type": "code",
   "execution_count": null,
   "metadata": {},
   "outputs": [],
   "source": [
    "demos = list(\n",
    "    Path(\n",
    "        \"/data/scratch-oc40/pulkitag/ankile/furniture-data/raw/sim/square_table/teleop\"\n",
    "    ).rglob(\"**/success/*.pkl\")\n",
    ")\n",
    "\n",
    "len(demos)"
   ]
  },
  {
   "cell_type": "code",
   "execution_count": null,
   "metadata": {},
   "outputs": [],
   "source": [
    "# Look at them\n",
    "for d in demos:\n",
    "    mp4_from_pickle_jupyter(d, tmp_rollout_dir / f\"{d.stem}.mp4\", fps=20)"
   ]
  },
  {
   "cell_type": "code",
   "execution_count": null,
   "metadata": {},
   "outputs": [],
   "source": [
    "for i, d in enumerate(demos):\n",
    "    print(i, d)"
   ]
  },
  {
   "cell_type": "code",
   "execution_count": null,
   "metadata": {},
   "outputs": [],
   "source": [
    "data = unpickle_data(demos[48])"
   ]
  },
  {
   "cell_type": "code",
   "execution_count": null,
   "metadata": {},
   "outputs": [],
   "source": [
    "filter_and_concat_robot_state(data[\"observations\"][0][\"robot_state\"])"
   ]
  },
  {
   "cell_type": "code",
   "execution_count": null,
   "metadata": {},
   "outputs": [],
   "source": [
    "ROBOT_STATES = [\n",
    "    \"ee_pos\",\n",
    "    \"ee_quat\",\n",
    "    \"ee_pos_vel\",\n",
    "    \"ee_ori_vel\",\n",
    "    \"gripper_width\",\n",
    "]\n",
    "\n",
    "robot_state = data[\"observations\"][0][\"robot_state\"]\n",
    "parts_poses = data[\"observations\"][0][\"parts_poses\"]"
   ]
  },
  {
   "cell_type": "code",
   "execution_count": null,
   "metadata": {},
   "outputs": [],
   "source": [
    "robot_state.item()"
   ]
  },
  {
   "cell_type": "code",
   "execution_count": null,
   "metadata": {},
   "outputs": [],
   "source": [
    "current_robot_state = []\n",
    "for rs in ROBOT_STATES:\n",
    "    if rs == \"gripper_width\" and robot_state[rs].shape == ():\n",
    "        robot_state[rs] = np.array([robot_state[rs]])\n",
    "    current_robot_state.append(robot_state[rs])"
   ]
  },
  {
   "cell_type": "code",
   "execution_count": null,
   "metadata": {},
   "outputs": [],
   "source": [
    "# One-off piece of code to fix the robot state\n",
    "for demo in tqdm(demos):\n",
    "    data = unpickle_data(demo)\n",
    "    for o in data[\"observations\"]:\n",
    "        if isinstance(o[\"robot_state\"], np.ndarray):\n",
    "            o[\"robot_state\"] = o[\"robot_state\"].item()\n",
    "        elif isinstance(o[\"robot_state\"], dict):\n",
    "            continue\n",
    "\n",
    "        raise ValueError(\"Unknown type of robot state\")\n",
    "\n",
    "    # Save it back\n",
    "    pickle_data(data, demo)"
   ]
  },
  {
   "cell_type": "code",
   "execution_count": null,
   "metadata": {},
   "outputs": [],
   "source": [
    "# One-off piece of code to fix the rewards\n",
    "import torch\n",
    "\n",
    "\n",
    "for demo in tqdm(demos):\n",
    "    data = unpickle_data(demo)\n",
    "\n",
    "    for i in range(len(data[\"rewards\"])):\n",
    "        if isinstance(data[\"rewards\"][i], torch.Tensor):\n",
    "            data[\"rewards\"][i] = data[\"rewards\"][i].item()\n",
    "        elif isinstance(data[\"rewards\"][i], float):\n",
    "            continue\n",
    "        elif isinstance(data[\"rewards\"][i], int):\n",
    "            data[\"rewards\"][i] = float(data[\"rewards\"][i])\n",
    "        else:\n",
    "            print(\"in else\")\n",
    "            print(data[\"rewards\"][i])\n",
    "            raise ValueError(\"Unknown type of reward:\" + str(type(data[\"rewards\"][i])))\n",
    "\n",
    "    # Save it back\n",
    "    pickle_data(data, demo)"
   ]
  },
  {
   "cell_type": "code",
   "execution_count": null,
   "metadata": {},
   "outputs": [],
   "source": [
    "len(data[\"rewards\"])"
   ]
  },
  {
   "cell_type": "code",
   "execution_count": null,
   "metadata": {},
   "outputs": [],
   "source": [
    "# Look at why there's a difference in the length of the arrays\n",
    "data = unpickle_data(demos[0])\n",
    "\n",
    "data.keys()"
   ]
  },
  {
   "cell_type": "code",
   "execution_count": null,
   "metadata": {},
   "outputs": [],
   "source": [
    "len(data[\"observations\"]), len(data[\"rewards\"]), len(data[\"actions\"])"
   ]
  },
  {
   "cell_type": "markdown",
   "metadata": {},
   "source": [
    "## Look at my new `one_leg` teleop demos"
   ]
  },
  {
   "cell_type": "code",
   "execution_count": null,
   "metadata": {},
   "outputs": [],
   "source": [
    "z = zarr.open(\n",
    "    \"/data/scratch/ankile/furniture-data/processed/sim/one_leg/teleop/low/success.zarr\",\n",
    "    mode=\"r\",\n",
    ")"
   ]
  },
  {
   "cell_type": "code",
   "execution_count": null,
   "metadata": {},
   "outputs": [],
   "source": [
    "print(z[\"episode_ends\"].shape)\n",
    "\n",
    "z[\"episode_ends\"][:]"
   ]
  },
  {
   "cell_type": "code",
   "execution_count": null,
   "metadata": {},
   "outputs": [],
   "source": [
    "ep_idx = 10\n",
    "end_idx = z[\"episode_ends\"][ep_idx]\n",
    "\n",
    "img1 = z[\"color_image1\"][:end_idx]\n",
    "img2 = z[\"color_image2\"][:end_idx]\n",
    "img = np.concatenate([img1, img2], axis=2)\n",
    "\n",
    "print(img.shape)\n",
    "\n",
    "create_mp4_jupyter(img, \"test.mp4\", fps=30)"
   ]
  },
  {
   "cell_type": "markdown",
   "metadata": {},
   "source": [
    "## Produce examples of each of the tasks"
   ]
  },
  {
   "cell_type": "code",
   "execution_count": null,
   "metadata": {},
   "outputs": [],
   "source": [
    "from src.visualization.render_mp4 import mp4_from_pickle_jupyter, unpickle_data\n",
    "from src.common.files import get_raw_paths\n",
    "from pathlib import Path"
   ]
  },
  {
   "cell_type": "code",
   "execution_count": null,
   "metadata": {},
   "outputs": [],
   "source": [
    "lamp = \"/data/scratch-oc40/pulkitag/ankile/furniture-data/raw/sim/lamp/rollout/low/success/2024-02-10T16:04:24.pkl\"\n",
    "rtable = \"/data/scratch-oc40/pulkitag/ankile/furniture-data/raw/sim/round_table/teleop/low/success/2024-02-09T19:05:14.pkl\"\n",
    "stable = \"/data/scratch-oc40/pulkitag/ankile/furniture-data/raw/sim/square_table/teleop/low/success/2024-01-24T11:43:40.pkl\"\n",
    "# chair = \"/data/scratch-oc40/pulkitag/ankile/furniture-data/raw/sim/chair/teleop/med/success/2024-02-10T12:32:45.pkl\"\n",
    "\n",
    "files = [\n",
    "    lamp,\n",
    "    rtable,\n",
    "    # chair,\n",
    "    stable,\n",
    "]"
   ]
  },
  {
   "cell_type": "code",
   "execution_count": null,
   "metadata": {},
   "outputs": [],
   "source": [
    "# Make videos of all the files\n",
    "for f in files:\n",
    "    f = Path(f)\n",
    "    print(unpickle_data(f).keys())\n",
    "    mp4_from_pickle_jupyter(f, f\"{f.stem}.mp4\", fps=20)"
   ]
  },
  {
   "cell_type": "markdown",
   "metadata": {},
   "source": [
    "## Square table demos "
   ]
  },
  {
   "cell_type": "code",
   "execution_count": null,
   "metadata": {},
   "outputs": [],
   "source": [
    "import furniture_bench\n",
    "\n",
    "import os\n",
    "import pickle\n",
    "import numpy as np\n",
    "from pathlib import Path\n",
    "import zarr\n",
    "\n",
    "from src.visualization.render_mp4 import (\n",
    "    data_to_video,\n",
    "    unpickle_data,\n",
    "    create_mp4_jupyter,\n",
    "    mp4_from_pickle_jupyter,\n",
    ")\n",
    "from src.gym import get_env\n",
    "from src.common.files import get_raw_paths\n",
    "\n",
    "from tqdm import tqdm"
   ]
  },
  {
   "cell_type": "code",
   "execution_count": null,
   "metadata": {},
   "outputs": [],
   "source": [
    "pickles = get_raw_paths(\n",
    "    task=\"square_table\",\n",
    "    randomness=\"low\",\n",
    "    demo_source=\"teleop\",\n",
    ")"
   ]
  },
  {
   "cell_type": "code",
   "execution_count": null,
   "metadata": {},
   "outputs": [],
   "source": [
    "for p in pickles:\n",
    "    mp4_from_pickle_jupyter(p, f\"{p.stem}.mp4\", fps=20)"
   ]
  },
  {
   "cell_type": "markdown",
   "metadata": {},
   "source": [
    "## Look at a couple of `one_leg` demos"
   ]
  },
  {
   "cell_type": "code",
   "execution_count": null,
   "metadata": {},
   "outputs": [],
   "source": [
    "from src.common.files import get_raw_paths"
   ]
  },
  {
   "cell_type": "code",
   "execution_count": null,
   "metadata": {},
   "outputs": [],
   "source": [
    "pickles = get_raw_paths(\n",
    "    task=\"one_leg\",\n",
    "    randomness=\"low\",\n",
    "    demo_source=\"teleop\",\n",
    "    demo_outcome=\"success\",\n",
    "    environment=\"sim\",\n",
    ")"
   ]
  },
  {
   "cell_type": "code",
   "execution_count": null,
   "metadata": {},
   "outputs": [],
   "source": []
  }
 ],
 "metadata": {
  "kernelspec": {
   "display_name": "rlgpu",
   "language": "python",
   "name": "python3"
  },
  "language_info": {
   "codemirror_mode": {
    "name": "ipython",
    "version": 3
   },
   "file_extension": ".py",
   "mimetype": "text/x-python",
   "name": "python",
   "nbconvert_exporter": "python",
   "pygments_lexer": "ipython3",
   "version": "3.8.18"
  }
 },
 "nbformat": 4,
 "nbformat_minor": 2
}
