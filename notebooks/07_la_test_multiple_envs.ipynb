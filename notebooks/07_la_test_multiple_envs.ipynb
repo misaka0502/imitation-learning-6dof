{
 "cells": [
  {
   "cell_type": "code",
   "execution_count": 1,
   "metadata": {},
   "outputs": [],
   "source": [
    "%load_ext autoreload\n",
    "%autoreload 2"
   ]
  },
  {
   "cell_type": "code",
   "execution_count": 5,
   "metadata": {},
   "outputs": [],
   "source": [
    "import furniture_bench\n",
    "import gym\n",
    "import torch\n",
    "\n",
    "from src.models.vision import get_encoder"
   ]
  },
  {
   "cell_type": "markdown",
   "metadata": {},
   "source": [
    "## Test normal env"
   ]
  },
  {
   "cell_type": "code",
   "execution_count": null,
   "metadata": {},
   "outputs": [],
   "source": [
    "env = gym.make(\n",
    "    \"FurnitureSim-v0\",\n",
    "    furniture=\"one_leg\",  # Specifies the type of furniture [lamp | square_table | desk | drawer | cabinet | round_table | stool | chair | one_leg].\n",
    "    num_envs=16,  # Number of parallel environments.\n",
    "    resize_img=True,  # If true, images are resized to 224 x 224.\n",
    "    concat_robot_state=True,  # If true, robot state is concatenated to the observation.\n",
    "    headless=True,  # If true, simulation runs without GUI.\n",
    "    compute_device_id=0,\n",
    "    graphics_device_id=0,\n",
    "    init_assembled=False,  # If true, the environment is initialized with assembled furniture.\n",
    "    np_step_out=False,  # If true, env.step() returns Numpy arrays.\n",
    "    channel_first=False,  # If true, images are returned in channel first format.\n",
    "    randomness=\"low\",  # Level of randomness in the environment [low | med | high].\n",
    "    high_random_idx=-1,  # Index of the high randomness level (range: [0-2]). Default -1 will randomly select the index within the range.\n",
    "    save_camera_input=False,  # If true, the initial camera inputs are saved.\n",
    "    record=False,  # If true, videos of the wrist and front cameras' RGB inputs are recorded.\n",
    "    max_env_steps=3000,  # Maximum number of steps per episode.\n",
    "    act_rot_repr=\"quat\",  # Representation of rotation for action space. Options are 'quat' and 'axis'.\n",
    ")"
   ]
  },
  {
   "cell_type": "code",
   "execution_count": 3,
   "metadata": {},
   "outputs": [
    {
     "name": "stdout",
     "output_type": "stream",
     "text": [
      "Action shape:  (16, 8)\n"
     ]
    }
   ],
   "source": [
    "# Sample action\n",
    "action = env.action_space.sample()\n",
    "print(\"Action shape: \", action.shape)"
   ]
  },
  {
   "cell_type": "code",
   "execution_count": 4,
   "metadata": {},
   "outputs": [],
   "source": [
    "env.reset()\n",
    "\n",
    "# Take a step\n",
    "obs, reward, done, info = env.step(action)"
   ]
  },
  {
   "cell_type": "code",
   "execution_count": 6,
   "metadata": {},
   "outputs": [
    {
     "data": {
      "text/plain": [
       "device(type='cuda', index=0)"
      ]
     },
     "execution_count": 6,
     "metadata": {},
     "output_type": "execute_result"
    }
   ],
   "source": [
    "obs[\"color_image2\"].device"
   ]
  },
  {
   "cell_type": "code",
   "execution_count": 7,
   "metadata": {},
   "outputs": [
    {
     "data": {
      "text/plain": [
       "torch.Size([8, 14])"
      ]
     },
     "execution_count": 7,
     "metadata": {},
     "output_type": "execute_result"
    }
   ],
   "source": [
    "obs[\"robot_state\"].shape"
   ]
  },
  {
   "cell_type": "markdown",
   "metadata": {},
   "source": [
    "## Test Feature Env"
   ]
  },
  {
   "cell_type": "code",
   "execution_count": 3,
   "metadata": {},
   "outputs": [
    {
     "name": "stdout",
     "output_type": "stream",
     "text": [
      "PyTorch version 2.0.1+cu117\n",
      "Device count 2\n",
      "/home/larsankile/isaacgym/python/isaacgym/_bindings/src/gymtorch\n"
     ]
    },
    {
     "name": "stderr",
     "output_type": "stream",
     "text": [
      "Using /home/larsankile/.cache/torch_extensions/py38_cu117 as PyTorch extensions root...\n",
      "Emitting ninja build file /home/larsankile/.cache/torch_extensions/py38_cu117/gymtorch/build.ninja...\n",
      "Building extension module gymtorch...\n",
      "Allowing ninja to set a default number of workers... (overridable by setting the environment variable MAX_JOBS=N)\n",
      "Loading extension module gymtorch...\n"
     ]
    },
    {
     "name": "stdout",
     "output_type": "stream",
     "text": [
      "ninja: no work to do.\n"
     ]
    },
    {
     "ename": "AttributeError",
     "evalue": "module 'furniture_bench.envs.policy_envs.furniture_sim_image_feature' has no attribute 'FurnitureSimFeature'",
     "output_type": "error",
     "traceback": [
      "\u001b[0;31m---------------------------------------------------------------------------\u001b[0m",
      "\u001b[0;31mAttributeError\u001b[0m                            Traceback (most recent call last)",
      "\u001b[1;32m/home/larsankile/furniture-diffusion/notebooks/07_la_test_multiple_envs.ipynb Cell 10\u001b[0m line \u001b[0;36m3\n\u001b[1;32m      <a href='vscode-notebook-cell://ssh-remote%2Banthony-gpu/home/larsankile/furniture-diffusion/notebooks/07_la_test_multiple_envs.ipynb#X13sdnNjb2RlLXJlbW90ZQ%3D%3D?line=0'>1</a>\u001b[0m encoder \u001b[39m=\u001b[39m get_encoder(\u001b[39m\"\u001b[39m\u001b[39mdinov2-base\u001b[39m\u001b[39m\"\u001b[39m)\n\u001b[0;32m----> <a href='vscode-notebook-cell://ssh-remote%2Banthony-gpu/home/larsankile/furniture-diffusion/notebooks/07_la_test_multiple_envs.ipynb#X13sdnNjb2RlLXJlbW90ZQ%3D%3D?line=2'>3</a>\u001b[0m env \u001b[39m=\u001b[39m gym\u001b[39m.\u001b[39;49mmake(\n\u001b[1;32m      <a href='vscode-notebook-cell://ssh-remote%2Banthony-gpu/home/larsankile/furniture-diffusion/notebooks/07_la_test_multiple_envs.ipynb#X13sdnNjb2RlLXJlbW90ZQ%3D%3D?line=3'>4</a>\u001b[0m     \u001b[39m\"\u001b[39;49m\u001b[39mFurnitureSimFeature-v0\u001b[39;49m\u001b[39m\"\u001b[39;49m,\n\u001b[1;32m      <a href='vscode-notebook-cell://ssh-remote%2Banthony-gpu/home/larsankile/furniture-diffusion/notebooks/07_la_test_multiple_envs.ipynb#X13sdnNjb2RlLXJlbW90ZQ%3D%3D?line=4'>5</a>\u001b[0m     furniture\u001b[39m=\u001b[39;49m\u001b[39m\"\u001b[39;49m\u001b[39mone_leg\u001b[39;49m\u001b[39m\"\u001b[39;49m,  \u001b[39m# Specifies the type of furniture [lamp | square_table | desk | drawer | cabinet | round_table | stool | chair | one_leg].\u001b[39;49;00m\n\u001b[1;32m      <a href='vscode-notebook-cell://ssh-remote%2Banthony-gpu/home/larsankile/furniture-diffusion/notebooks/07_la_test_multiple_envs.ipynb#X13sdnNjb2RlLXJlbW90ZQ%3D%3D?line=5'>6</a>\u001b[0m     num_envs\u001b[39m=\u001b[39;49m\u001b[39m4\u001b[39;49m,  \u001b[39m# Number of parallel environments.\u001b[39;49;00m\n\u001b[1;32m      <a href='vscode-notebook-cell://ssh-remote%2Banthony-gpu/home/larsankile/furniture-diffusion/notebooks/07_la_test_multiple_envs.ipynb#X13sdnNjb2RlLXJlbW90ZQ%3D%3D?line=6'>7</a>\u001b[0m     headless\u001b[39m=\u001b[39;49m\u001b[39mTrue\u001b[39;49;00m,  \u001b[39m# If true, simulation runs without GUI.\u001b[39;49;00m\n\u001b[1;32m      <a href='vscode-notebook-cell://ssh-remote%2Banthony-gpu/home/larsankile/furniture-diffusion/notebooks/07_la_test_multiple_envs.ipynb#X13sdnNjb2RlLXJlbW90ZQ%3D%3D?line=7'>8</a>\u001b[0m     encoder\u001b[39m=\u001b[39;49mencoder,\n\u001b[1;32m      <a href='vscode-notebook-cell://ssh-remote%2Banthony-gpu/home/larsankile/furniture-diffusion/notebooks/07_la_test_multiple_envs.ipynb#X13sdnNjb2RlLXJlbW90ZQ%3D%3D?line=8'>9</a>\u001b[0m     compute_device_id\u001b[39m=\u001b[39;49m\u001b[39m0\u001b[39;49m,\n\u001b[1;32m     <a href='vscode-notebook-cell://ssh-remote%2Banthony-gpu/home/larsankile/furniture-diffusion/notebooks/07_la_test_multiple_envs.ipynb#X13sdnNjb2RlLXJlbW90ZQ%3D%3D?line=9'>10</a>\u001b[0m     graphics_device_id\u001b[39m=\u001b[39;49m\u001b[39m0\u001b[39;49m,\n\u001b[1;32m     <a href='vscode-notebook-cell://ssh-remote%2Banthony-gpu/home/larsankile/furniture-diffusion/notebooks/07_la_test_multiple_envs.ipynb#X13sdnNjb2RlLXJlbW90ZQ%3D%3D?line=10'>11</a>\u001b[0m     init_assembled\u001b[39m=\u001b[39;49m\u001b[39mFalse\u001b[39;49;00m,  \u001b[39m# If true, the environment is initialized with assembled furniture.\u001b[39;49;00m\n\u001b[1;32m     <a href='vscode-notebook-cell://ssh-remote%2Banthony-gpu/home/larsankile/furniture-diffusion/notebooks/07_la_test_multiple_envs.ipynb#X13sdnNjb2RlLXJlbW90ZQ%3D%3D?line=11'>12</a>\u001b[0m     randomness\u001b[39m=\u001b[39;49m\u001b[39m\"\u001b[39;49m\u001b[39mlow\u001b[39;49m\u001b[39m\"\u001b[39;49m,  \u001b[39m# Level of randomness in the environment [low | med | high].\u001b[39;49;00m\n\u001b[1;32m     <a href='vscode-notebook-cell://ssh-remote%2Banthony-gpu/home/larsankile/furniture-diffusion/notebooks/07_la_test_multiple_envs.ipynb#X13sdnNjb2RlLXJlbW90ZQ%3D%3D?line=12'>13</a>\u001b[0m     high_random_idx\u001b[39m=\u001b[39;49m\u001b[39m-\u001b[39;49m\u001b[39m1\u001b[39;49m,  \u001b[39m# Index of the high randomness level (range: [0-2]). Default -1 will randomly select the index within the range.\u001b[39;49;00m\n\u001b[1;32m     <a href='vscode-notebook-cell://ssh-remote%2Banthony-gpu/home/larsankile/furniture-diffusion/notebooks/07_la_test_multiple_envs.ipynb#X13sdnNjb2RlLXJlbW90ZQ%3D%3D?line=13'>14</a>\u001b[0m     save_camera_input\u001b[39m=\u001b[39;49m\u001b[39mFalse\u001b[39;49;00m,  \u001b[39m# If true, the initial camera inputs are saved.\u001b[39;49;00m\n\u001b[1;32m     <a href='vscode-notebook-cell://ssh-remote%2Banthony-gpu/home/larsankile/furniture-diffusion/notebooks/07_la_test_multiple_envs.ipynb#X13sdnNjb2RlLXJlbW90ZQ%3D%3D?line=14'>15</a>\u001b[0m     record\u001b[39m=\u001b[39;49m\u001b[39mFalse\u001b[39;49;00m,  \u001b[39m# If true, videos of the wrist and front cameras' RGB inputs are recorded.\u001b[39;49;00m\n\u001b[1;32m     <a href='vscode-notebook-cell://ssh-remote%2Banthony-gpu/home/larsankile/furniture-diffusion/notebooks/07_la_test_multiple_envs.ipynb#X13sdnNjb2RlLXJlbW90ZQ%3D%3D?line=15'>16</a>\u001b[0m     max_env_steps\u001b[39m=\u001b[39;49m\u001b[39m3000\u001b[39;49m,  \u001b[39m# Maximum number of steps per episode.\u001b[39;49;00m\n\u001b[1;32m     <a href='vscode-notebook-cell://ssh-remote%2Banthony-gpu/home/larsankile/furniture-diffusion/notebooks/07_la_test_multiple_envs.ipynb#X13sdnNjb2RlLXJlbW90ZQ%3D%3D?line=16'>17</a>\u001b[0m     act_rot_repr\u001b[39m=\u001b[39;49m\u001b[39m\"\u001b[39;49m\u001b[39mquat\u001b[39;49m\u001b[39m\"\u001b[39;49m,  \u001b[39m# Representation of rotation for action space. Options are 'quat' and 'axis'.\u001b[39;49;00m\n\u001b[1;32m     <a href='vscode-notebook-cell://ssh-remote%2Banthony-gpu/home/larsankile/furniture-diffusion/notebooks/07_la_test_multiple_envs.ipynb#X13sdnNjb2RlLXJlbW90ZQ%3D%3D?line=17'>18</a>\u001b[0m )\n",
      "File \u001b[0;32m~/miniconda3/envs/rlgpu/lib/python3.8/site-packages/gym/envs/registration.py:235\u001b[0m, in \u001b[0;36mmake\u001b[0;34m(id, **kwargs)\u001b[0m\n\u001b[1;32m    234\u001b[0m \u001b[39mdef\u001b[39;00m \u001b[39mmake\u001b[39m(\u001b[39mid\u001b[39m, \u001b[39m*\u001b[39m\u001b[39m*\u001b[39mkwargs):\n\u001b[0;32m--> 235\u001b[0m     \u001b[39mreturn\u001b[39;00m registry\u001b[39m.\u001b[39;49mmake(\u001b[39mid\u001b[39;49m, \u001b[39m*\u001b[39;49m\u001b[39m*\u001b[39;49mkwargs)\n",
      "File \u001b[0;32m~/miniconda3/envs/rlgpu/lib/python3.8/site-packages/gym/envs/registration.py:129\u001b[0m, in \u001b[0;36mEnvRegistry.make\u001b[0;34m(self, path, **kwargs)\u001b[0m\n\u001b[1;32m    127\u001b[0m     logger\u001b[39m.\u001b[39minfo(\u001b[39m\"\u001b[39m\u001b[39mMaking new env: \u001b[39m\u001b[39m%s\u001b[39;00m\u001b[39m\"\u001b[39m, path)\n\u001b[1;32m    128\u001b[0m spec \u001b[39m=\u001b[39m \u001b[39mself\u001b[39m\u001b[39m.\u001b[39mspec(path)\n\u001b[0;32m--> 129\u001b[0m env \u001b[39m=\u001b[39m spec\u001b[39m.\u001b[39;49mmake(\u001b[39m*\u001b[39;49m\u001b[39m*\u001b[39;49mkwargs)\n\u001b[1;32m    130\u001b[0m \u001b[39mreturn\u001b[39;00m env\n",
      "File \u001b[0;32m~/miniconda3/envs/rlgpu/lib/python3.8/site-packages/gym/envs/registration.py:89\u001b[0m, in \u001b[0;36mEnvSpec.make\u001b[0;34m(self, **kwargs)\u001b[0m\n\u001b[1;32m     87\u001b[0m     env \u001b[39m=\u001b[39m \u001b[39mself\u001b[39m\u001b[39m.\u001b[39mentry_point(\u001b[39m*\u001b[39m\u001b[39m*\u001b[39m_kwargs)\n\u001b[1;32m     88\u001b[0m \u001b[39melse\u001b[39;00m:\n\u001b[0;32m---> 89\u001b[0m     \u001b[39mcls\u001b[39m \u001b[39m=\u001b[39m load(\u001b[39mself\u001b[39;49m\u001b[39m.\u001b[39;49mentry_point)\n\u001b[1;32m     90\u001b[0m     env \u001b[39m=\u001b[39m \u001b[39mcls\u001b[39m(\u001b[39m*\u001b[39m\u001b[39m*\u001b[39m_kwargs)\n\u001b[1;32m     92\u001b[0m \u001b[39m# Make the environment aware of which spec it came from.\u001b[39;00m\n",
      "File \u001b[0;32m~/miniconda3/envs/rlgpu/lib/python3.8/site-packages/gym/envs/registration.py:28\u001b[0m, in \u001b[0;36mload\u001b[0;34m(name)\u001b[0m\n\u001b[1;32m     26\u001b[0m mod_name, attr_name \u001b[39m=\u001b[39m name\u001b[39m.\u001b[39msplit(\u001b[39m\"\u001b[39m\u001b[39m:\u001b[39m\u001b[39m\"\u001b[39m)\n\u001b[1;32m     27\u001b[0m mod \u001b[39m=\u001b[39m importlib\u001b[39m.\u001b[39mimport_module(mod_name)\n\u001b[0;32m---> 28\u001b[0m fn \u001b[39m=\u001b[39m \u001b[39mgetattr\u001b[39;49m(mod, attr_name)\n\u001b[1;32m     29\u001b[0m \u001b[39mreturn\u001b[39;00m fn\n",
      "\u001b[0;31mAttributeError\u001b[0m: module 'furniture_bench.envs.policy_envs.furniture_sim_image_feature' has no attribute 'FurnitureSimFeature'"
     ]
    }
   ],
   "source": [
    "encoder = get_encoder(\"dinov2-base\")\n",
    "\n",
    "env = gym.make(\n",
    "    \"FurnitureSimFeature-v0\",\n",
    "    furniture=\"one_leg\",  # Specifies the type of furniture [lamp | square_table | desk | drawer | cabinet | round_table | stool | chair | one_leg].\n",
    "    num_envs=4,  # Number of parallel environments.\n",
    "    headless=True,  # If true, simulation runs without GUI.\n",
    "    encoder=encoder,\n",
    "    compute_device_id=0,\n",
    "    graphics_device_id=0,\n",
    "    init_assembled=False,  # If true, the environment is initialized with assembled furniture.\n",
    "    randomness=\"low\",  # Level of randomness in the environment [low | med | high].\n",
    "    high_random_idx=-1,  # Index of the high randomness level (range: [0-2]). Default -1 will randomly select the index within the range.\n",
    "    save_camera_input=False,  # If true, the initial camera inputs are saved.\n",
    "    record=False,  # If true, videos of the wrist and front cameras' RGB inputs are recorded.\n",
    "    max_env_steps=3000,  # Maximum number of steps per episode.\n",
    "    act_rot_repr=\"quat\",  # Representation of rotation for action space. Options are 'quat' and 'axis'.\n",
    ")"
   ]
  },
  {
   "cell_type": "code",
   "execution_count": 8,
   "metadata": {},
   "outputs": [
    {
     "name": "stdout",
     "output_type": "stream",
     "text": [
      "> \u001b[0;32m/home/larsankile/furniture-bench/furniture_bench/envs/policy_envs/furniture_sim_image_feature.py\u001b[0m(126)\u001b[0;36m_get_observation\u001b[0;34m()\u001b[0m\n",
      "\u001b[0;32m     92 \u001b[0;31m            \u001b[0mret\u001b[0m\u001b[0;34m[\u001b[0m\u001b[0;34m\"color_image2\"\u001b[0m\u001b[0;34m]\u001b[0m \u001b[0;34m=\u001b[0m \u001b[0mimage2_raw\u001b[0m\u001b[0;34m\u001b[0m\u001b[0;34m\u001b[0m\u001b[0m\n",
      "\u001b[0m\u001b[0;32m     93 \u001b[0;31m\u001b[0;34m\u001b[0m\u001b[0m\n",
      "\u001b[0m\u001b[0;32m     94 \u001b[0;31m        \u001b[0;32mreturn\u001b[0m \u001b[0mret\u001b[0m\u001b[0;34m\u001b[0m\u001b[0;34m\u001b[0m\u001b[0m\n",
      "\u001b[0m\n"
     ]
    }
   ],
   "source": [
    "obs = env.reset()"
   ]
  },
  {
   "cell_type": "code",
   "execution_count": 6,
   "metadata": {},
   "outputs": [
    {
     "ename": "NameError",
     "evalue": "name 'obs' is not defined",
     "output_type": "error",
     "traceback": [
      "\u001b[0;31m---------------------------------------------------------------------------\u001b[0m",
      "\u001b[0;31mNameError\u001b[0m                                 Traceback (most recent call last)",
      "\u001b[1;32m/home/larsankile/furniture-diffusion/notebooks/07_la_test_multiple_envs.ipynb Cell 12\u001b[0m line \u001b[0;36m1\n\u001b[0;32m----> <a href='vscode-notebook-cell://ssh-remote%2Banthony-gpu/home/larsankile/furniture-diffusion/notebooks/07_la_test_multiple_envs.ipynb#X16sdnNjb2RlLXJlbW90ZQ%3D%3D?line=0'>1</a>\u001b[0m encoder(obs[\u001b[39m\"\u001b[39m\u001b[39mcolor_image2\u001b[39m\u001b[39m\"\u001b[39m])\u001b[39m.\u001b[39mshape\n",
      "\u001b[0;31mNameError\u001b[0m: name 'obs' is not defined"
     ]
    }
   ],
   "source": [
    "encoder(obs[\"color_image2\"]).shape"
   ]
  },
  {
   "cell_type": "code",
   "execution_count": 4,
   "metadata": {},
   "outputs": [],
   "source": [
    "encoder = get_encoder(\"dinov2-base\")"
   ]
  },
  {
   "cell_type": "code",
   "execution_count": 12,
   "metadata": {},
   "outputs": [
    {
     "data": {
      "text/plain": [
       "torch.Size([16, 2, 768])"
      ]
     },
     "execution_count": 12,
     "metadata": {},
     "output_type": "execute_result"
    }
   ],
   "source": [
    "encoder(torch.zeros(16, 2, 224, 224, 3).reshape(-1, 224, 224, 3)).reshape(\n",
    "    16, 2, -1\n",
    ").shape"
   ]
  },
  {
   "cell_type": "code",
   "execution_count": null,
   "metadata": {},
   "outputs": [],
   "source": []
  }
 ],
 "metadata": {
  "kernelspec": {
   "display_name": "rlgpu",
   "language": "python",
   "name": "python3"
  },
  "language_info": {
   "codemirror_mode": {
    "name": "ipython",
    "version": 3
   },
   "file_extension": ".py",
   "mimetype": "text/x-python",
   "name": "python",
   "nbconvert_exporter": "python",
   "pygments_lexer": "ipython3",
   "version": "3.8.18"
  },
  "orig_nbformat": 4
 },
 "nbformat": 4,
 "nbformat_minor": 2
}
